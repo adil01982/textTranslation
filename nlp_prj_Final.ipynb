{
  "cells": [
    {
      "cell_type": "code",
      "execution_count": 10,
      "metadata": {
        "colab": {
          "base_uri": "https://localhost:8080/"
        },
        "id": "VMTrBfhwKsXC",
        "outputId": "b5c5a25e-ed66-4cd4-9698-d5f502d5f1c9"
      },
      "outputs": [
        {
          "output_type": "execute_result",
          "data": {
            "text/plain": [
              "<torch._C.Generator at 0x7cc326f87e50>"
            ]
          },
          "metadata": {},
          "execution_count": 10
        }
      ],
      "source": [
        "import torch\n",
        "import torch.nn as nn\n",
        "import torch.nn.functional as F\n",
        "import torch.optim as optim\n",
        "import nltk\n",
        "from nltk.corpus import brown\n",
        "\n",
        "torch.manual_seed(1)\n"
      ]
    },
    {
      "cell_type": "code",
      "execution_count": 11,
      "metadata": {
        "colab": {
          "base_uri": "https://localhost:8080/"
        },
        "id": "eVFqskKpKyzF",
        "outputId": "8044ec70-d244-4ed0-af68-96ec89a5e09a"
      },
      "outputs": [
        {
          "output_type": "stream",
          "name": "stdout",
          "text": [
            "                                                Text  \\\n",
            "0   grandes feuilles opposées, oblongues-elliptiq...   \n",
            "1   feuilles opposées, groupées à l'extrémité des...   \n",
            "2   feuilles opposées, obovées oblongues, arrondi...   \n",
            "3   arbustes  petites feuilles opposées, groupées...   \n",
            "4   arbustes  feuilles opposées ou alternes, obla...   \n",
            "\n",
            "                                      Organ Entities  \\\n",
            "0  ['bouton', 'pédicelle', 'corolle', 'tube', 'fe...   \n",
            "1  ['limbe', 'style', 'filets', 'rameaux', 'sépal...   \n",
            "2  ['corolle', 'limbe', 'ovaire', 'lobes', 'base'...   \n",
            "3  ['anthères', 'pétales', 'tube', 'feuilles', 's...   \n",
            "4  ['base', 'nervure', 'feuilles', 'arbustes', 'l...   \n",
            "\n",
            "                                 Descriptor Entities  \\\n",
            "0  ['fermée', 'pubes-cents', 'cunéiformes', 'vent...   \n",
            "1  ['elliptiques', '1 cm de longueur', 'extrorses...   \n",
            "2  ['cunéiforme', '10,5 mm de longueur', 'long', ...   \n",
            "3  ['secondaires', 'accusé', 'saillantes', 'apicu...   \n",
            "4  ['proéminente', 'décurrente', 'alternes', 'obl...   \n",
            "\n",
            "                           Coarse-grained Annotation  \\\n",
            "0  [(650, 661, 'DESCRIPTEUR'), (968, 977, 'DESCRI...   \n",
            "1  [(609, 618, 'DESCRIPTEUR'), (129, 144, 'DESCRI...   \n",
            "2  [(60, 64, 'ORGANE'), (196, 205, 'DESCRIPTEUR')...   \n",
            "3  [(949, 959, 'DESCRIPTEUR'), (88, 105, 'DESCRIP...   \n",
            "4  [(140, 150, 'DESCRIPTEUR'), (32, 40, 'DESCRIPT...   \n",
            "\n",
            "                             Fine-grained Annotation  \n",
            "0  [(650, 661, 'DESCRIPTEUR'), (395, 407, 'DISPOS...  \n",
            "1  [(609, 618, 'DESCRIPTEUR'), (73, 80, 'FORME'),...  \n",
            "2  [(60, 64, 'ORGANE'), (180, 187, 'ORGANE'), (11...  \n",
            "3  [(949, 959, 'DESCRIPTEUR'), (88, 105, 'DESCRIP...  \n",
            "4  [(42, 54, 'FORME'), (119, 129, 'FORME'), (1, 9...  \n"
          ]
        }
      ],
      "source": [
        "import pandas as pd\n",
        "import torch\n",
        "import torch.nn as nn\n",
        "import torch.nn.functional as F\n",
        "import torch.optim as optim\n",
        "\n",
        "# Charger le fichier CSV contenant les données\n",
        "\n",
        "data = pd.read_csv('/content/coarse-and-fine-grained-ner-dataset (1) (1).csv')\n",
        "\n",
        "# Afficher les premières lignes pour vérifier la structure\n",
        "print(data.head())\n",
        "\n",
        "\n"
      ]
    },
    {
      "cell_type": "code",
      "execution_count": 12,
      "metadata": {
        "colab": {
          "base_uri": "https://localhost:8080/"
        },
        "id": "25ABoB7UMqD7",
        "outputId": "b477584f-175a-4e69-b194-c3a052573ef5"
      },
      "outputs": [
        {
          "output_type": "stream",
          "name": "stdout",
          "text": [
            "Phrase 1: (\" grandes feuilles opposées, oblongues-elliptiques ou obovées-elliptiques, arrondies au sommet, obtuses ou cunéiformes à la base  limbe glabre, mesurant jusqu'à 20 cm de longueur sur 12 cm de largeur  nervure médiane proéminente dessous, un peu saillante dessus  nervures secondaires, 5 à 10 paires, incurvées, réunies en arceaux assez loin de la marge, saillantes dessous, bien marquées dessus, anastomosées à un réseau de nervilles à grosses mailles irrégulières, finement saillant dessus  pétiole 5-20 mm  fleurs blanches fasciculées sur le vieux bois  pédicelle 4-6 mm, glabre ou légèrement pubescent  galice : 4 sépales (2 + 2) de 2,5 mm, un peu pubes-cents extérieurement  corolle à 8 lobes de 3 mm; tube 2 mm  ëtamines 8, insérées à la gorge; filets 3 mm  ovaire velu, à 4 loges, prolongé d'un long style glabre  dans le bouton la corolle, étroitement fermée, laisse poindre très apparemment le style  fruits inconnus  le spécimen type renferme une seule graine fusiforme non carénée, de 2 cm long, 0,6 large, 0,6 épaisseur, à cicatrice oblongue coupant toute la face ventrale, à bords crénelés\", [('pubes-cents', 'DESCRIPTEUR'), ('anastomosées', 'DISPOSITION'), ('sépales', 'ORGANE'), ('bords', 'ORGANE'), ('cicatrice', 'ORGANE'), ('incurvées', 'DESCRIPTEUR'), ('secondaires', 'POSITION'), ('obovées-elliptiques', 'DESCRIPTEUR'), ('blanches', 'COULEUR'), ('glabre', 'SURFACE'), ('glabre', 'SURFACE'), ('style', 'ORGANE'), ('fleurs', 'ORGANE'), ('bouton', 'ORGANE'), ('fruits', 'ORGANE'), ('12 cm de largeur', 'MESURE'), ('fermée', 'DESCRIPTEUR'), ('feuilles', 'ORGANE'), ('filets', 'ORGANE'), ('pubescent', 'SURFACE'), ('bois', 'ORGANE'), ('marge', 'ORGANE'), ('nervure', 'ORGANE'), ('fasciculées', 'DISPOSITION'), ('lobes', 'ORGANE'), ('limbe', 'ORGANE'), ('carénée', 'DESCRIPTEUR'), ('velu', 'SURFACE'), ('crénelés', 'STRUCTURE'), ('base', 'ORGANE'), ('saillante', 'SURFACE'), ('pédicelle', 'ORGANE'), ('proéminente', 'DESCRIPTEUR'), ('ovaire', 'ORGANE'), ('cunéiformes', 'FORME'), ('corolle', 'ORGANE'), ('graine', 'ORGANE'), ('glabre', 'SURFACE'), ('20 cm de longueur', 'MESURE'), ('oblongues-elliptiques', 'DESCRIPTEUR'), ('nervilles', 'ORGANE'), ('ventrale', 'DESCRIPTEUR'), ('tube', 'ORGANE'), ('opposées', 'DISPOSITION'), ('loges', 'ORGANE'), ('style', 'ORGANE'), ('réseau', 'ORGANE'), ('corolle', 'ORGANE'), ('insérées', 'DESCRIPTEUR'), ('pétiole', 'ORGANE'), ('obtuses', 'FORME'), ('fusiforme', 'FORME'), ('laisse', 'ORGANE')])\n",
            "Phrase 2: (\" feuilles opposées, groupées à l'extrémité des rameaux, ovées oblongues, obtuses au sommet et à la base, ± 8 cm de longueur et ± 3 cm de largeur  limbe coriace, glabre  nervure médiane saillante dessus  i 6 paires de nervures secondaires très ascendantes, effacées  pétiole court, 4-5 mm  petites fleurs blanches groupées en glomérules denses sur les vieux rameaux, subsessiles  pédicelles 2-3 mm, pubescents  galice à 4 sépales de 1,5-2 mm, un peu pubescents extérieurement  corolle à (5-) 6 (-8) pétales  lobes elliptiques longs de 2,5 mm ; 6 (-8) étamines insérées à la gorge ; filets env  4 mm ; anthères extrorses 1-1,5 mm, avec une petite touffe de poils au sommet  tube épais, court, long de 1-1,5 mm ovaire velu surmonté du style glabre; 3-4 loges  petits fruits obovoïdes, avec une pointe aiguë, dure, au sommet, 1 cm de longueur sur 0,5 cm de diamètre\", [('extrorses', 'DESCRIPTEUR'), ('obtuses', 'FORME'), ('anthères', 'ORGANE'), ('secondaires', 'POSITION'), ('glabre', 'SURFACE'), ('saillante', 'SURFACE'), ('style', 'ORGANE'), ('base', 'ORGANE'), ('8 cm de longueur', 'MESURE'), ('insérées', 'DESCRIPTEUR'), ('glomérules', 'ORGANE'), ('pétiole', 'ORGANE'), ('glabre', 'SURFACE'), ('pubescents', 'SURFACE'), ('pétales', 'ORGANE'), ('fruits', 'ORGANE'), ('nervure', 'ORGANE'), ('ovaire', 'ORGANE'), ('0,5 cm de diamètre', 'MESURE'), ('loges', 'ORGANE'), ('lobes', 'ORGANE'), ('pédicelles', 'ORGANE'), ('ascendantes', 'DESCRIPTEUR'), ('tube', 'ORGANE'), ('sépales', 'ORGANE'), ('limbe', 'ORGANE'), ('1 cm de longueur', 'MESURE'), ('3 cm de largeur', 'MESURE'), ('oblongues', 'FORME'), ('elliptiques', 'FORME'), ('velu', 'SURFACE'), ('pubescents', 'SURFACE'), ('étamines', 'ORGANE'), ('coriace', 'DESCRIPTEUR'), ('rameaux', 'ORGANE'), ('corolle', 'ORGANE'), ('poils', 'ORGANE'), ('blanches', 'COULEUR'), ('feuilles', 'ORGANE'), ('rameaux', 'ORGANE'), ('opposées', 'DISPOSITION'), ('fleurs', 'ORGANE'), ('filets', 'ORGANE')])\n",
            "Phrase 3: (' feuilles opposées, obovées oblongues, arrondies au sommet, base cunéiforme  limbe atteignant 6 cm de longueur et 3 cm de largeur, glabre en dessus; tomentum apprimé brun dessous  nervure médiane saillante dessous  nervures secondaires 5-6 paires, très ascendantes, effacées dessus, peu visibles sous le tomentum en dessous  pétiole court, ± 5 mm  fleurs longuement pédicellées  pédicelles 10-13 mm, pubescents  calice à 4 sépales de 2,5-3 mm, pubescents brun extérieurement  corolle jaune pâle à (7-) 10 lobes; lobes longs de 6 mm; tube aussi long, 6,5 mm  étamines (7-) 10  filets insérés à la gorge, dépassant les lobes de la corolle, env  10,5 mm de longueur; anthères 2,5 mm  pas de staminodes  pistil de 22-23 mm  ovaire velu terminé par un très long style grêle; 4 loges  fruit inconnu', [('base', 'ORGANE'), ('nervure', 'ORGANE'), ('3 cm de largeur', 'MESURE'), ('lobes', 'ORGANE'), ('glabre', 'SURFACE'), ('fleurs', 'ORGANE'), ('oblongues', 'FORME'), ('pubescents', 'SURFACE'), ('corolle', 'ORGANE'), ('lobes', 'ORGANE'), ('limbe', 'ORGANE'), ('pistil', 'ORGANE'), ('6 cm de longueur', 'MESURE'), ('long', 'DESCRIPTEUR'), ('pédicelles', 'ORGANE'), ('tomentum', 'ORGANE'), ('apprimé', 'DESCRIPTEUR'), ('loges', 'ORGANE'), ('long', 'DESCRIPTEUR'), ('tomentum', 'ORGANE'), ('lobes', 'ORGANE'), ('cunéiforme', 'FORME'), ('anthères', 'ORGANE'), ('sépales', 'ORGANE'), ('pétiole', 'ORGANE'), ('secondaires', 'POSITION'), ('calice', 'ORGANE'), ('style', 'ORGANE'), ('10,5 mm de longueur', 'MESURE'), ('visibles', 'DESCRIPTEUR'), ('jaune', 'COULEUR'), ('pubescents', 'SURFACE'), ('ascendantes', 'DESCRIPTEUR'), ('étamines', 'ORGANE'), ('tube', 'ORGANE'), ('filets', 'ORGANE'), ('corolle', 'ORGANE'), ('feuilles', 'ORGANE'), ('fruit', 'ORGANE'), ('saillante', 'SURFACE'), ('velu', 'SURFACE'), ('opposées', 'DISPOSITION'), ('staminodes', 'ORGANE'), ('insérés', 'DESCRIPTEUR'), ('ovaire', 'ORGANE')])\n",
            "Phrase 4: (' arbustes  petites feuilles opposées, groupées aux extrémités des rameaux, oblongues ou oblongues-obovées à sommet arrondi, à base obtuse ou cunéiforme  limbe glabre, coriace, à bords un peu enroulés, 2-5 cm sur 0,6-2 cm  nervure médiane saillante dessous  nervures secondaires ± 5 paires, réunies en arceaux, légèrement imprimées dessus, peu saillantes dessous  reticulum de nervilles peu accusé  pétiole env  1,5 mm  fleurs par 2-4 dans l\\'axe des feuilles ou des cicatrices des feuilles\"! pédi-celles filiformes, longs de 10-20 mm, glabres  calice : 4 sépales ovés de 2 mm, glabres ou presque  corolle infundibuliforme, à 6 (-8) lobes ovés de 5 min; tube 8 à 12 mm  ëtamines autant que de pétales, insérées vers le milieu du tube; filets filiformes longs de 11-18 mm; anthères extrorses, de 2 mm  ovaire velu à (3-) 4 loges, surmonté d\\'un style filiforme exsert de 12-20 mm, glabre  petits fruits ovoïdes de 1,5 cm, apiculés et surmontés du style persistant, glabres  pédoncules grêles de 1,5 cm environ  calice persistant à la base  une seule graine ovoïde 1-1,3 cm de longueur, 5 mm de diamètre, non albuminée  cicatrice ovée, ou oblongue, occupant toute la face ventrale, un peu bombée  jeunes plants à feuilles filiformes, rappelant celles de vlieiluma pini-folium, mais plus longues', [('persistant', 'DESCRIPTEUR'), ('oblongues-obovées', 'DESCRIPTEUR'), ('fleurs', 'ORGANE'), ('saillante', 'SURFACE'), ('nervure', 'ORGANE'), ('feuilles', 'ORGANE'), ('ventrale', 'DESCRIPTEUR'), ('5 mm de diamètre', 'MESURE'), ('opposées', 'DISPOSITION'), ('pédoncules', 'ORGANE'), ('extrorses', 'DESCRIPTEUR'), ('anthères', 'ORGANE'), ('feuilles', 'ORGANE'), ('feuilles', 'ORGANE'), ('coriace', 'DESCRIPTEUR'), ('apiculés', 'FORME'), ('obtuse', 'FORME'), ('ovoïdes', 'DESCRIPTEUR'), ('calice', 'ORGANE'), ('filiformes', 'FORME'), ('filiformes', 'FORME'), ('bords', 'ORGANE'), ('sépales', 'ORGANE'), ('enroulés', 'DESCRIPTEUR'), ('exsert', 'STRUCTURE'), ('albuminée', 'DESCRIPTEUR'), ('cicatrices', 'ORGANE'), ('rameaux', 'ORGANE'), ('filiformes', 'FORME'), ('axe', 'ORGANE'), ('velu', 'SURFACE'), ('infundibuliforme', 'FORME'), ('style', 'ORGANE'), ('graine', 'ORGANE'), ('nervilles', 'ORGANE'), ('ovaire', 'ORGANE'), ('saillantes', 'SURFACE'), ('glabre', 'SURFACE'), ('longues', 'DESCRIPTEUR'), ('lobes', 'ORGANE'), ('oblongues', 'FORME'), ('insérées', 'DESCRIPTEUR'), ('imprimées', 'SURFACE'), ('filiforme', 'FORME'), ('oblongues', 'FORME'), ('base', 'ORGANE'), ('corolle', 'ORGANE'), ('bombée', 'DESCRIPTEUR'), ('style', 'ORGANE'), ('tube', 'ORGANE'), ('loges', 'ORGANE'), ('accusé', 'DESCRIPTEUR'), ('cunéiforme', 'FORME'), ('fruits', 'ORGANE'), ('pétiole', 'ORGANE'), ('feuilles', 'ORGANE'), ('tube', 'ORGANE'), ('arbustes', 'ORGANE'), ('persistant', 'DESCRIPTEUR'), ('base', 'ORGANE'), ('calice', 'ORGANE'), ('limbe', 'ORGANE'), ('filets', 'ORGANE'), ('secondaires', 'POSITION'), ('glabre', 'SURFACE'), ('pétales', 'ORGANE')])\n",
            "Phrase 5: (' arbustes  feuilles opposées ou alternes, oblancéolées ou obovées de 2,3-4,8 cm par 0,8-1,8 cm, à sommet arrondi, base cunéiforme et un peu décurrente  limbe glabre, coriace  nervure médiane proéminente dessous', [('oblancéolées', 'FORME'), ('cunéiforme', 'FORME'), ('arbustes', 'ORGANE'), ('base', 'ORGANE'), ('opposées', 'DISPOSITION'), ('proéminente', 'DESCRIPTEUR'), ('alternes', 'DISPOSITION'), ('coriace', 'DESCRIPTEUR'), ('décurrente', 'DISPOSITION'), ('nervure', 'ORGANE'), ('limbe', 'ORGANE'), ('glabre', 'SURFACE'), ('feuilles', 'ORGANE')])\n"
          ]
        },
        {
          "output_type": "execute_result",
          "data": {
            "text/plain": [
              "<torch._C.Generator at 0x7cc326f87e50>"
            ]
          },
          "metadata": {},
          "execution_count": 12
        }
      ],
      "source": [
        "\n",
        "# Préparer les phrases taguées pour le NER (en extrayant le texte et les entités associées)\n",
        "tagged_sentences = []\n",
        "\n",
        "for index, row in data.iterrows():\n",
        "    text = row['Text']\n",
        "    annotations = row['Fine-grained Annotation']\n",
        "\n",
        "    # Convertir la chaîne d'annotations en une liste de tuples (start, end, label)\n",
        "    annotations = eval(annotations)  # Utiliser eval pour convertir la chaîne en liste de tuples\n",
        "\n",
        "    # Créer une liste des entités de la phrase sous forme de tuples (mot, étiquette)\n",
        "    entities = [(text[start:end], label) for start, end, label in annotations]\n",
        "\n",
        "    # Ajouter la phrase et les entités taguées à la liste\n",
        "    tagged_sentences.append((text, entities))\n",
        "\n",
        "# Afficher quelques exemples de données taguées\n",
        "for i in range(5):\n",
        "    print(f\"Phrase {i+1}: {tagged_sentences[i]}\")\n",
        "\n",
        "# Fixer la graine pour la reproductibilité\n",
        "torch.manual_seed(1)"
      ]
    },
    {
      "cell_type": "code",
      "execution_count": 13,
      "metadata": {
        "colab": {
          "base_uri": "https://localhost:8080/"
        },
        "id": "I0LRBkGYMqqk",
        "outputId": "dd94e984-4cc5-48f4-882b-4c311888cc41"
      },
      "outputs": [
        {
          "output_type": "stream",
          "name": "stdout",
          "text": [
            "[['pubes-cents', 'anastomosées', 'sépales', 'bords', 'cicatrice', 'incurvées', 'secondaires', 'obovées-elliptiques', 'blanches', 'glabre', 'glabre', 'style', 'fleurs', 'bouton', 'fruits', '12 cm de largeur', 'fermée', 'feuilles', 'filets', 'pubescent', 'bois', 'marge', 'nervure', 'fasciculées', 'lobes', 'limbe', 'carénée', 'velu', 'crénelés', 'base', 'saillante', 'pédicelle', 'proéminente', 'ovaire', 'cunéiformes', 'corolle', 'graine', 'glabre', '20 cm de longueur', 'oblongues-elliptiques', 'nervilles', 'ventrale', 'tube', 'opposées', 'loges', 'style', 'réseau', 'corolle', 'insérées', 'pétiole', 'obtuses', 'fusiforme', 'laisse'], ['extrorses', 'obtuses', 'anthères', 'secondaires', 'glabre', 'saillante', 'style', 'base', '8 cm de longueur', 'insérées', 'glomérules', 'pétiole', 'glabre', 'pubescents', 'pétales', 'fruits', 'nervure', 'ovaire', '0,5 cm de diamètre', 'loges', 'lobes', 'pédicelles', 'ascendantes', 'tube', 'sépales', 'limbe', '1 cm de longueur', '3 cm de largeur', 'oblongues', 'elliptiques', 'velu', 'pubescents', 'étamines', 'coriace', 'rameaux', 'corolle', 'poils', 'blanches', 'feuilles', 'rameaux', 'opposées', 'fleurs', 'filets']]\n",
            "[['DESCRIPTEUR', 'DISPOSITION', 'ORGANE', 'ORGANE', 'ORGANE', 'DESCRIPTEUR', 'POSITION', 'DESCRIPTEUR', 'COULEUR', 'SURFACE', 'SURFACE', 'ORGANE', 'ORGANE', 'ORGANE', 'ORGANE', 'MESURE', 'DESCRIPTEUR', 'ORGANE', 'ORGANE', 'SURFACE', 'ORGANE', 'ORGANE', 'ORGANE', 'DISPOSITION', 'ORGANE', 'ORGANE', 'DESCRIPTEUR', 'SURFACE', 'STRUCTURE', 'ORGANE', 'SURFACE', 'ORGANE', 'DESCRIPTEUR', 'ORGANE', 'FORME', 'ORGANE', 'ORGANE', 'SURFACE', 'MESURE', 'DESCRIPTEUR', 'ORGANE', 'DESCRIPTEUR', 'ORGANE', 'DISPOSITION', 'ORGANE', 'ORGANE', 'ORGANE', 'ORGANE', 'DESCRIPTEUR', 'ORGANE', 'FORME', 'FORME', 'ORGANE'], ['DESCRIPTEUR', 'FORME', 'ORGANE', 'POSITION', 'SURFACE', 'SURFACE', 'ORGANE', 'ORGANE', 'MESURE', 'DESCRIPTEUR', 'ORGANE', 'ORGANE', 'SURFACE', 'SURFACE', 'ORGANE', 'ORGANE', 'ORGANE', 'ORGANE', 'MESURE', 'ORGANE', 'ORGANE', 'ORGANE', 'DESCRIPTEUR', 'ORGANE', 'ORGANE', 'ORGANE', 'MESURE', 'MESURE', 'FORME', 'FORME', 'SURFACE', 'SURFACE', 'ORGANE', 'DESCRIPTEUR', 'ORGANE', 'ORGANE', 'ORGANE', 'COULEUR', 'ORGANE', 'ORGANE', 'DISPOSITION', 'ORGANE', 'ORGANE']]\n"
          ]
        }
      ],
      "source": [
        "# Initialisation des listes X et Y\n",
        "X = []\n",
        "Y = []\n",
        "\n",
        "# Parcours de chaque phrase taguée\n",
        "for sentence in tagged_sentences:\n",
        "    text = sentence[0]  # Le texte de la phrase\n",
        "    entities = sentence[1]  # Les entités associées\n",
        "\n",
        "    # Initialiser les listes pour chaque phrase\n",
        "    X_sentence = []\n",
        "    Y_sentence = []\n",
        "\n",
        "    # Parcours des entités pour extraire les mots et les étiquettes\n",
        "    for word, label in entities:\n",
        "        X_sentence.append(word.lower())  # Ajouter le mot en minuscules\n",
        "        Y_sentence.append(label)  # Ajouter l'étiquette correspondante\n",
        "\n",
        "    # Ajouter la phrase et ses entités dans les listes X et Y\n",
        "    X.append(X_sentence)\n",
        "    Y.append(Y_sentence)\n",
        "\n",
        "# Vérification des résultats\n",
        "print(X[:2])  # Affiche les deux premières phrases (X)\n",
        "print(Y[:2])  # Affiche les étiquettes des deux premières phrases (Y)\n"
      ]
    },
    {
      "cell_type": "code",
      "execution_count": 14,
      "metadata": {
        "colab": {
          "base_uri": "https://localhost:8080/"
        },
        "id": "aDHpnSXBMsjQ",
        "outputId": "8df97dfb-3927-4e6d-9779-559c832d04e7"
      },
      "outputs": [
        {
          "output_type": "stream",
          "name": "stdout",
          "text": [
            "Total number of sentences: 838\n"
          ]
        }
      ],
      "source": [
        "print(\"Total number of sentences: {}\".format(len(X)))"
      ]
    },
    {
      "cell_type": "code",
      "execution_count": 15,
      "metadata": {
        "colab": {
          "base_uri": "https://localhost:8080/"
        },
        "id": "-u9BGC7IMyPn",
        "outputId": "6b0a3344-bfe9-4d6f-b4fc-f8980ef7ded4"
      },
      "outputs": [
        {
          "output_type": "stream",
          "name": "stdout",
          "text": [
            "Vocabulary size: 2737\n"
          ]
        }
      ],
      "source": [
        "# Créer un vocabulaire à partir des mots (en minuscules)\n",
        "vocab = set([word.lower() for sentence in X for word in sentence])\n",
        "\n",
        "# Nombre de mots dans le vocabulaire\n",
        "num_words = len(vocab)\n",
        "\n",
        "print(\"Vocabulary size: {}\".format(num_words))\n"
      ]
    },
    {
      "cell_type": "code",
      "execution_count": 16,
      "metadata": {
        "colab": {
          "base_uri": "https://localhost:8080/"
        },
        "id": "WmENQXNIM0Wr",
        "outputId": "a0a31323-ad3f-4dc0-a314-c897e1219a43"
      },
      "outputs": [
        {
          "output_type": "stream",
          "name": "stdout",
          "text": [
            "Total number of tags: 10\n",
            "Tags:  {'SURFACE', 'ORGANE', 'POSITION', 'FORME', 'COULEUR', 'DISPOSITION', 'STRUCTURE', 'DESCRIPTEUR', 'MESURE', 'DEVELOPPEMENT'}\n"
          ]
        }
      ],
      "source": [
        "# Créer un ensemble des tags uniques\n",
        "tags = set([tag for sentence in Y for tag in sentence])\n",
        "\n",
        "# Nombre total de tags\n",
        "num_tags = len(tags)\n",
        "\n",
        "print(\"Total number of tags: {}\".format(num_tags))\n",
        "print(\"Tags: \", tags)\n"
      ]
    },
    {
      "cell_type": "code",
      "execution_count": 17,
      "metadata": {
        "colab": {
          "base_uri": "https://localhost:8080/"
        },
        "id": "H90q1LpzPhD5",
        "outputId": "1505e08f-1005-416c-caee-60155d301512"
      },
      "outputs": [
        {
          "output_type": "stream",
          "name": "stdout",
          "text": [
            "sample X:  ['pubes-cents', 'anastomosées', 'sépales', 'bords', 'cicatrice', 'incurvées', 'secondaires', 'obovées-elliptiques', 'blanches', 'glabre', 'glabre', 'style', 'fleurs', 'bouton', 'fruits', '12 cm de largeur', 'fermée', 'feuilles', 'filets', 'pubescent', 'bois', 'marge', 'nervure', 'fasciculées', 'lobes', 'limbe', 'carénée', 'velu', 'crénelés', 'base', 'saillante', 'pédicelle', 'proéminente', 'ovaire', 'cunéiformes', 'corolle', 'graine', 'glabre', '20 cm de longueur', 'oblongues-elliptiques', 'nervilles', 'ventrale', 'tube', 'opposées', 'loges', 'style', 'réseau', 'corolle', 'insérées', 'pétiole', 'obtuses', 'fusiforme', 'laisse'] \n",
            "\n",
            "sample Y:  ['DESCRIPTEUR', 'DISPOSITION', 'ORGANE', 'ORGANE', 'ORGANE', 'DESCRIPTEUR', 'POSITION', 'DESCRIPTEUR', 'COULEUR', 'SURFACE', 'SURFACE', 'ORGANE', 'ORGANE', 'ORGANE', 'ORGANE', 'MESURE', 'DESCRIPTEUR', 'ORGANE', 'ORGANE', 'SURFACE', 'ORGANE', 'ORGANE', 'ORGANE', 'DISPOSITION', 'ORGANE', 'ORGANE', 'DESCRIPTEUR', 'SURFACE', 'STRUCTURE', 'ORGANE', 'SURFACE', 'ORGANE', 'DESCRIPTEUR', 'ORGANE', 'FORME', 'ORGANE', 'ORGANE', 'SURFACE', 'MESURE', 'DESCRIPTEUR', 'ORGANE', 'DESCRIPTEUR', 'ORGANE', 'DISPOSITION', 'ORGANE', 'ORGANE', 'ORGANE', 'ORGANE', 'DESCRIPTEUR', 'ORGANE', 'FORME', 'FORME', 'ORGANE'] \n",
            "\n"
          ]
        }
      ],
      "source": [
        "print('sample X: ', X[0], '\\n')\n",
        "print('sample Y: ', Y[0], '\\n')"
      ]
    },
    {
      "cell_type": "code",
      "execution_count": 18,
      "metadata": {
        "colab": {
          "base_uri": "https://localhost:8080/"
        },
        "id": "C6H_rE0vPxNO",
        "outputId": "7d57509f-757b-4696-cca8-62f97a077127"
      },
      "outputs": [
        {
          "output_type": "stream",
          "name": "stdout",
          "text": [
            "Length of first input sequence  : 53\n",
            "Length of first output sequence : 53\n"
          ]
        }
      ],
      "source": [
        "print(\"Length of first input sequence  : {}\".format(len(X[0])))\n",
        "print(\"Length of first output sequence : {}\".format(len(Y[0])))"
      ]
    },
    {
      "cell_type": "code",
      "execution_count": 19,
      "metadata": {
        "colab": {
          "base_uri": "https://localhost:8080/"
        },
        "id": "Sq-Wb1-rP6AQ",
        "outputId": "3d3c7442-a4fb-4fde-b46b-a82be573a05b"
      },
      "outputs": [
        {
          "output_type": "stream",
          "name": "stdout",
          "text": [
            "{'5-60 mm de long': 0, '6-11 mm de diamètre': 1, 'arborescentes': 2, 'dressée-étalée': 3, 'glauques': 4, 'tronquée': 5, 'suture': 6, 'rangs': 7, 'grandes': 8, 'bullées': 9, 'feutrée': 10, 'ruminé': 11, 'adnés': 12, 'serrulés': 13, 'charnu-coriace': 14, 'sétuleux': 15, 'perpendiculaires': 16, 'longs': 17, 'pédoncules': 18, 'tridente': 19, 'staminifère': 20, 'réticulées': 21, 'digitées': 22, 'flabellées': 23, 'ombelles': 24, 'florifères': 25, 'écorce': 26, 'simple': 27, 'capillaire': 28, 'carénée': 29, 'caducs': 30, 'ailé': 31, '1,6 mm de diamètre': 32, '8 mm de longueur': 33, 'pluricaule': 34, 'apprimée': 35, 'denticulés': 36, 'grossiers': 37, 'papyracés': 38, 'hérissé': 39, '10-12 mm de diamètre': 40, 'allongés': 41, 'développé': 42, 'straminé': 43, 'cam': 44, 'bipennées': 45, '1,5-5 cm de longueur': 46, 'géminées': 47, 'muriquées': 48, 'arrondies': 49, 'pileux': 50, 'brun-vert': 51, 'glomérules': 52, 'vivace': 53, 'tubulaire': 54, 'monoïque': 55, 'ovales-lancéolés': 56, '3 cm de largeur': 57, '6-8 cm de diamètre': 58, 'scarieuses': 59, 'obtuse': 60, '25-100 mm de long': 61, 'carénés': 62, 'elliptique-oblancéole': 63, '11-12 mm de longueur': 64, 'aiguillons': 65, 'caducx': 66, 'fructifère': 67, 'maculé': 68, '1,4 cm de longueur': 69, '0,45 cm de longueur': 70, 'révolutées': 71, 'stigmate': 72, '4 mm de largeur': 73, 'concave-canaliculé': 74, '8-13 mm de diamètre': 75, 'luisantes': 76, 'capuchon': 77, 'oblongues-obovées': 78, 'inter-carpellaires': 79, 'onguiculée': 80, 'cymeux': 81, 'pétaloïdes': 82, 'bilobés': 83, '8-15 mm de diamètre': 84, 'globuleux-obovoïde': 85, 'lamelles': 86, 'brachysclérites': 87, 'cartilagineux': 88, 'initial': 89, 'échancré': 90, 'ascendants': 91, 'ténues': 92, 'élargie': 93, '0,8-2 mm de diamètre': 94, 'proéminentes': 95, 'ovale-anguleux': 96, 'apicales': 97, 'échasses': 98, 'reniformes': 99, 'fermées': 100, 'pétale': 101, 'pseudo-stipitée': 102, 'aristée': 103, 'sinuée': 104, 'sève': 105, 'palmées': 106, 'scorpioïdes': 107, '8-15 m de hauteur': 108, '4-6 mm de largeur': 109, '1,5-30 m de hauteur': 110, 'ellip-tique-oblong': 111, 'semi-infère': 112, 'monosperme': 113, 'galles': 114, 'nouvelles': 115, 'ventrale': 116, '3-4 mm de long': 117, '20 mm de diamètre': 118, 'pelté': 119, 'linéaires-lancéolées': 120, 'hastées': 121, 'placenta': 122, '2 m de haut': 123, 'furquée': 124, 'aliformes': 125, '2,5 m de hauteur': 126, '2,8 cm de largeur': 127, 'connés': 128, '30 cm de diamètre': 129, '8-9 mm de diamètre': 130, 'tomenteux-veloutés': 131, 'obliques': 132, 'stellés': 133, '6-8 mm de diamètre': 134, 'costae': 135, 'lisse': 136, '0,4-0,5 mm de longueur': 137, '5 cm de largeur': 138, 'ovoïde-oblong': 139, '1-carpelle': 140, 'cunéiformes': 141, 'sympodes': 142, 'humide': 143, '16 mm de longueur': 144, 'sympodiale': 145, 'tomenteux-laineux': 146, 'assise': 147, 'bipenne': 148, 'acuminé-atténué': 149, 'mucronées': 150, 'estompées': 151, 'gris-soyeux': 152, 'accrescentes': 153, '5 mm de longueur': 154, 'dentée-caudée': 155, '20 cm de longueur': 156, '0,5 cm de longueur': 157, 'demi-pollinie': 158, '25 m de hauteur': 159, 'subobovales-elliptiques': 160, 'soyeux-laineux': 161, 'opposées': 162, 'radicule': 163, 'hypocratériforme-campanulée': 164, 'nerville': 165, 'cla-viformes': 166, 'fugace': 167, 'deltoïde-lancéolé': 168, '3-loculaire': 169, '3-12 mm de long': 170, 'réticulée': 171, 'silicule': 172, 'grêles': 173, 'crêtes': 174, 'anastomosé': 175, 'fascicules': 176, 'laineux-tomenteux': 177, 'haut': 178, 'divisées': 179, 'loge': 180, 'spatuliformes': 181, '6 cm de longueur': 182, 'plantules': 183, 'loges': 184, 'ovée-cordée': 185, 'carpellaire': 186, 'strophiole': 187, 'cordée': 188, 'aplatis': 189, '8 m de haut': 190, 'transversal': 191, 'papyracé': 192, 'larges': 193, 'plagiotropes': 194, 'atténués': 195, 'sous-arbuste': 196, '5-7 mm de diamètre': 197, 'depuis': 198, 'gamopétale': 199, '3-7 m de hauteur': 200, 'bleues': 201, 'elliptique-losangique': 202, '0,2-0,3 mm de diamètre': 203, 'ovales': 204, 'distinctes': 205, '1,6-2,4 mm de diamètre': 206, 'crochets': 207, 'polygame': 208, 'écailleuses': 209, 'feutré': 210, 'exalbuminée': 211, 'large': 212, 'papilleux-argenté': 213, 'clairsemés': 214, 'cloison': 215, 'fusiformes': 216, '5 m de hauteur': 217, 'bleu-noir': 218, 'ondulé': 219, 'pivotant': 220, '3-11 mm de long': 221, 'réticulés': 222, '1,5-2,5 cm de longueur': 223, 'punctiformes': 224, 'ovules': 225, 'hasté': 226, 'subulés': 227, 'denticulée': 228, 'sinueux': 229, 'cireux': 230, 'épineux': 231, 'nette': 232, '20 cm de long': 233, 'exserte': 234, 'dressé-étalé': 235, 'soudés': 236, '1-2,5 cm de diamètre': 237, 'hasté-panduriforme': 238, 'tronc': 239, 'taxons': 240, 'apprimés': 241, 'connivents': 242, 'auriculé': 243, '3-6 mm de largeur': 244, 'pendante': 245, '50 cm de longueur': 246, '2,5-3 mm de diamètre': 247, 'drupe': 248, 'limbes': 249, 'coque': 250, 'rétamines': 251, 'différente': 252, 'sinueuses': 253, 'stipulées': 254, 'elliptiques-ovés': 255, 'ondulé-sinueux': 256, 'aisselles': 257, 'semi-orbiculaire': 258, 'ramilles': 259, 'frais': 260, '5-9 mm de longueur': 261, '4-lobé': 262, 'spatule': 263, '3-4 mm de diamètre': 264, 'développés': 265, 'colonne': 266, 'valvaires': 267, 'veloutée': 268, 'dimidiées': 269, 'sessiles': 270, 'obovées-oblancéolées': 271, 'superposés': 272, 'sagittés': 273, 'dorsifixes': 274, '2,5-3 cm de diamètre': 275, 'ovale-acuminé': 276, 'volumineuses': 277, 'buissons': 278, '0,12-0,15 mm de diamètre': 279, 'entier': 280, 'subcandélabriformes': 281, 'scrobiculées': 282, '3-4 cm de long': 283, 'luisante': 284, 'endocarpe': 285, 'spécimen-type': 286, 'épines': 287, 'pseudo-pédicelle': 288, 'armée': 289, '15-70 mm de long': 290, 'incisé': 291, 'ovale-deltoïde': 292, 'denticules': 293, 'linguiformes': 294, 'ovoïdes-fusiformes': 295, 'rhombiformes': 296, 'commissures': 297, 'épi': 298, 'scrobiculée': 299, 'rhombique': 300, 'cérébriforme': 301, 'droite': 302, '25-49 mm de longueur': 303, 'pauciflore': 304, 'mince': 305, 'irrégulier': 306, 'sillonné': 307, 'végétatives': 308, 'peltée': 309, 'commune': 310, 'pennatiséqué': 311, 'pollen': 312, '5-8 mm de largeur': 313, 'invisibles': 314, 'lobe': 315, 'panduriforme': 316, 'oblong-lancéolé': 317, 'feuilles': 318, '4,5 mm de longueur': 319, 'composée': 320, 'atténuée-cunéiforme': 321, 'ovoïde-conique': 322, 'solitaires': 323, 'sans': 324, '6-10 mm de diamètre': 325, 'pennati-partites': 326, 'rubigineux': 327, 'second': 328, 'carène': 329, 'verts': 330, 'écusson': 331, 'pores': 332, 'carpelles': 333, 'hile': 334, '3,8 mm de longueur': 335, 'flexueux': 336, '90-300 mm de long': 337, 'protubérance': 338, 'sub)opposées': 339, 'folioles': 340, 'velue-veloutée': 341, 'bois': 342, 'surbaissés': 343, '1,2 cm de diamètre': 344, 'tomentum': 345, 'denté': 346, '7 mm de largeur': 347, 'lyrées': 348, '17 mm de diamètre': 349, 'strobiles': 350, '10-13 mm de diamètre': 351, 'dorsal': 352, 'libres': 353, 'foliole': 354, 'crête': 355, 'mates': 356, 'soyeux-doré': 357, '0,8-1,2 mm de longueur': 358, 'dissymétriques': 359, 'pennée-réticulée': 360, 'rampantes': 361, 'bilobé': 362, '16-25 mm de longueur': 363, 'anguleux': 364, 'aplatis-horizontaux': 365, 'atténué-obtusiuscule': 366, 'assises': 367, '18 mm de long': 368, 'ponctiforme': 369, 'verrues': 370, 'obcordé': 371, 'creux': 372, 'axillaire': 373, 'flabelliforme': 374, 'transversale': 375, 'décoloré': 376, 'baie': 377, 'coalescents': 378, 'pseudo-verticillées': 379, 'furqué': 380, 'subulé': 381, 'droit': 382, 'gaine': 383, 'concentrées': 384, 'verruculeux': 385, 'dent': 386, '3,5 mm de diamètre': 387, 'décurrente': 388, 'crochet': 389, 'émoussé': 390, '0,8 mm de diamètre': 391, 'entourant': 392, 'déprimée': 393, '2 mm de largeur': 394, 'marges': 395, 'dressées': 396, 'pubescentes': 397, 'au-dessous': 398, 'différencié': 399, '1,5-2,2 mm de diamètre': 400, 'vert-violacé': 401, 'tétragones': 402, 'pustules': 403, 'foliacées': 404, 'acuminé-obtus': 405, '1,5 cm de longueur': 406, 'renflé': 407, 'q,5-)l-l,5 mm de diamètre': 408, 'vigoureuse': 409, '10-16 mm de longueur': 410, '20-80 mm de long': 411, 'oblongue-obovoïde': 412, 'cordiforme': 413, 'reniforme': 414, 'furfuracés-pubescents': 415, 'obovées-obconiques': 416, 'suffrutescente': 417, 'panicules': 418, 'pennati-séquées': 419, '15 mm de long': 420, 'triangulaires-linéaires': 421, 'ellipti-que-oblong': 422, 'dilatés': 423, 'arbuste': 424, 'proéminent': 425, 'réduits': 426, 'linéaires-lancéolés': 427, '0,4-1 mm de diamètre': 428, 'anastomosée': 429, 'pennatilobé': 430, 'aplatie': 431, 'tripartites': 432, 'obconiques': 433, '2,5-)3,5-4 mm de longueur': 434, 'intriqués': 435, 'coralliformes': 436, 'orbiculaires-ovales': 437, 'coriaces': 438, 'réfléchie': 439, 'géniculés': 440, 'charnu': 441, '3-3,8 mm de diamètre': 442, 'embrassant': 443, 'compact': 444, '20-50 cm de longueur': 445, 'axillaires-adjacentes': 446, 'laisse': 447, 'marquée': 448, 'pépiderme': 449, 'crénelé-serré': 450, 'apiculée': 451, 'couchée': 452, 'continu': 453, 'oppositi-pétales': 454, 'funicule': 455, 'ligulée': 456, '4-7 mm de diamètre': 457, 'canaliculées': 458, 'papyrace': 459, 'infère': 460, '3-3,4 mm de diamètre': 461, 'déprimé-globuleux': 462, '3-10 mm de diamètre': 463, 'androgynophore': 464, 'monopodiale': 465, 'discolores': 466, 'embrassante': 467, '4-6 mm de longueur': 468, 'oblong-oblancéolé': 469, 'pubérulents': 470, 'externe': 471, '1,9-3,1 mm de diamètre': 472, 'lobes': 473, 'subapicale': 474, 'résistant': 475, 'pistillode': 476, 'inséré': 477, 'dentelé': 478, 'adaxial': 479, 'velues': 480, 'pennés': 481, '0,5-1 cm de longueur': 482, 'sinus': 483, 'petit': 484, '5 mm de long': 485, 'fal-ciforme': 486, '0,5 cm de diamètre': 487, 'coriace': 488, 'glauque-blanchâtre': 489, 'villeux': 490, 'pseudo-monocaule': 491, '11-13 mm de diamètre': 492, 'bordée': 493, 'glabres-cent': 494, 'pubérulent': 495, 'arqués': 496, 'penna-tiséquées': 497, 'campanulée': 498, 'oblong-spatulé': 499, 'oblancéolées-ellip': 500, '2-7 mm de largeur': 501, 'ovule': 502, 'axe': 503, '45 cm de longueur': 504, '3-5 mm de diamètre': 505, 'losangique': 506, 'spatulé-lancéolé': 507, 'furquées': 508, 'nervure': 509, 'échancrée': 510, 'pétioles': 511, 'rude': 512, 'tordue': 513, 'sub-sessile': 514, 'caractéristiques': 515, 'arrondi-émarginé': 516, '1-3 mm de diamètre': 517, 'subspontanée': 518, 'parfumées': 519, 'ombelliformes': 520, 'mixtes': 521, 'proximal': 522, '5-7 mm de longueur': 523, 'lancéolées-acuminées': 524, 'obtus-arrondis': 525, 'triangulaires-subulées': 526, '6 mm de longueur': 527, 'plus': 528, 'denticulé': 529, 'striée': 530, 'appliquées': 531, 'triangulaires-oblongues': 532, '2 cm de long': 533, 'oblongs-ovés': 534, 'cordées': 535, 'siliques': 536, 'faisceau': 537, 'cunéiforme': 538, 'échantillon-type': 539, 'éperon': 540, 'oblongs-aigus': 541, 'pennées': 542, '5-7 cm de largeur': 543, '2 mm de longueur': 544, 'évasé-turbiné': 545, 'tordues': 546, 'infra-spécifiques': 547, '6-15 mm de diamètre': 548, 'lancéolé-elliptique': 549, '2-2,8 mm de diamètre': 550, 'tronqués-obtus': 551, 'amples': 552, 'périanthe': 553, 'charnue': 554, '5-13 mm de long': 555, '2 m de hauteur': 556, 'àbase': 557, 'semi-obliques': 558, 'lancéolés-acuminés': 559, 'obové-oblancéolé': 560, '1 m de hauteur': 561, 'ramules': 562, 'contournés': 563, 'clair-grisâtre': 564, '1,3 mm de longueur': 565, 'capité': 566, 'atténuée-tronquée': 567, 'chartacé': 568, 'bouton': 569, 'dentelée': 570, '4-25 mm de long': 571, 'elliptiques': 572, 'pseudo-dichotomes': 573, 'axillaires': 574, '6 mm de long': 575, 'réceptacle': 576, 'moelle': 577, 'scrobi-culée-réticulée': 578, 'triplinerves': 579, 'échelonnées': 580, 'déprimées': 581, 'tubercules': 582, 'tétrades': 583, 'hypogyne': 584, 'jaune': 585, 'bref': 586, 'incisées': 587, 'élargis': 588, 'définies': 589, 'grands': 590, 'courbes': 591, '2,5 cm de diamètre': 592, 'ramifié': 593, 'subovoïde-ellipsoïde': 594, 'distincts': 595, 'arille': 596, 'bipinnatifides': 597, 'arbustes': 598, 'stipulaire': 599, '10 m de hauteur': 600, 'obovales-ellip': 601, 'embryon': 602, 'ample': 603, '150 cm de longueur': 604, '1,2 mm de diamètre': 605, 'xérophiles': 606, '7-30 mm de long': 607, 'acumen': 608, 'parallèles': 609, 'dorsale': 610, 'appliqués': 611, 'ligneux': 612, 'aigu-mucroné': 613, 'cunéiformes-oblongs': 614, 'arqué': 615, 'velues-laineuses': 616, 'balsamique': 617, 'connectif': 618, '35 cm de longueur': 619, 'falquées': 620, 'subovoïdes-ellipsoïdes': 621, '4 mm de longueur': 622, 'vena-pubescent': 623, '35-40 mm de diamètre': 624, 'obovale-spatulé': 625, 'comprimées': 626, 'linéaires-acuminées': 627, 'cohérents': 628, 'ferrugineux': 629, 'orbiculaire-rhomboïdal': 630, '4-5 mm de long': 631, 'basifixes': 632, 'triangulaire-acuminé': 633, 'elliptique-obové': 634, '7-9 mm de largeur': 635, 'vieux': 636, '2-3 m de haut': 637, 'canescent-pubescent': 638, 'capsules': 639, 'dichotome-corymboïde': 640, '40-170 mm de long': 641, 'fermée': 642, 'aiguë': 643, 'serretées': 644, 'ovaire': 645, 'fascicule': 646, 'crénelé': 647, 'discrète': 648, 'aiguë-atténuée': 649, 'substrat': 650, '20-40 cm de diamètre': 651, 'trigones': 652, 'ovoïde-fusiforme': 653, 'veines': 654, '4-9 cm de diamètre': 655, 'didynames': 656, 'mucronulée': 657, 'oblongs': 658, '38-43 mm de longueur': 659, 'oblancéolées': 660, 'étamine': 661, '2-2,5 mm de largeur': 662, '6-9 mm de longueur': 663, 'caudé': 664, 'flottant': 665, '12 cm de largeur': 666, 'cataphylles': 667, 'velus-soyeux': 668, 'grappe': 669, 'triquètres': 670, 'distiques': 671, 'compliquée': 672, 'pseu-do-stipitée': 673, 'stipule': 674, 'lancéolé': 675, 'clairsemée': 676, '9-25 mm de longueur': 677, '0,5 mm de longueur': 678, 'glande': 679, 'serretées-crénelées': 680, 'sous-arbustes': 681, 'aigus-acuminés': 682, 'laciniées': 683, 'racines': 684, 'segments': 685, '5 mm de largeur': 686, 'jaunâtre': 687, 'laciniés': 688, 'straminée': 689, 'piliforme': 690, 'ancipités': 691, 'carènes': 692, 'apotropes': 693, 'multicaule': 694, 'intrapétiolaire': 695, 'trigone': 696, 'boutons': 697, 'lancéolés': 698, 'lobée': 699, 'pileuse': 700, '8-12 mm de diamètre': 701, 'foncée': 702, 'dichasiales': 703, 'verticille': 704, 'ferrugineux-vélutineux': 705, 'ombelle': 706, '5-6 mm de largeur': 707, 'raquettes': 708, 'glabres-cents': 709, 'veloutés': 710, 'pédonculaire': 711, 'réduite': 712, 'naviculi-formes': 713, '3-3,2 mm de diamètre': 714, 'acroscopique': 715, 'infrutescence': 716, 'étroite': 717, 'pubescents': 718, '3-5-loculaire': 719, 'articulé': 720, 'ascendantes': 721, '2 cm de diamètre': 722, 'fourchue': 723, 'verruqueux': 724, 'cylindrique-oblongue': 725, 'tuberculée': 726, '1,5-8 m de hauteur': 727, 'microsporophylle': 728, 'indistincte': 729, '8 cm de diamètre': 730, 'sinuées': 731, 'triangulaires-obtus': 732, 'verrue': 733, 'brévistyles': 734, '2-2,5 mm de longueur': 735, 'appendice': 736, 'sécrétions': 737, 'pleine': 738, 'bifurcations': 739, 'stipulée': 740, 'ramule': 741, 'paraphyses': 742, 'onglet': 743, 'lâches': 744, 'opposés': 745, '1,5-2 mm de diamètre': 746, 'ondulé-crénelé': 747, '3,5-4 mm de largeur': 748, 'oblong': 749, 'sporange': 750, 'scabre': 751, 'péricarpe': 752, 'elliptique-allongé': 753, 'élevé': 754, '7-9 mm de diamètre': 755, 'tropicales': 756, 'blanc-vert': 757, 'lyrées-pennatisé': 758, 'ramifiées': 759, 'inciso-crénelés': 760, 'glabrescents': 761, 'sous-arbrisseau': 762, 'mûres': 763, 'bambusiforme': 764, 'globuleux-déprimés': 765, 'tropical': 766, 'ellipsoïde-aplatie': 767, 'sub)tronqué': 768, 'végétatif': 769, '7,5-9 mm de diamètre': 770, 'opaque': 771, 'acroscopiques': 772, 'rhomboïdal-deltoïde': 773, 'valves': 774, 'ramiflorie': 775, 'saillant': 776, '40 cm de largeur': 777, 'glabres-centes': 778, 'noirs': 779, 'repliés': 780, 'longue': 781, 'lianes': 782, '80 cm de longueur': 783, 'auricules': 784, '8-18 mm de long': 785, 'sarmenteux': 786, 'accru': 787, 'ovoïde-cylindrique': 788, '15 mm de largeur': 789, '20-35 cm de diamètre': 790, 'insérés': 791, 'prolongé': 792, 'plat': 793, 'axes': 794, 'oblancéolé': 795, 'anastomose': 796, 'abondante': 797, 'stipitées': 798, 'bleue': 799, '30-45 cm de diamètre': 800, 'elliptique': 801, '10 mm de long': 802, 'caréné': 803, 'rhomboïdes-oblongs': 804, 'horizontales': 805, 'corymbi-formes': 806, 'réfractées': 807, 'ovés-oblongs': 808, 'cystolithes': 809, 'triangulaires-caudées': 810, 'lenticelles': 811, 'nectarifère': 812, 'thyrse': 813, '4-8 mm de diamètre': 814, 'parois': 815, 'linéaire': 816, 'costules': 817, 'saillante': 818, '30-90 mm de long': 819, 'patelliforme': 820, 'spécifique': 821, 'sous-tendues': 822, 'serrés': 823, 'cunée': 824, 'effilé': 825, 'noué': 826, 'canaliculée': 827, 'ovées-linéaires': 828, 'lyrées-pennatipartites': 829, 'rachis': 830, '1,5-2,3 mm de diamètre': 831, 'précédents': 832, 'decurrent': 833, 'ventral': 834, 'cicatrice': 835, 'émarginée': 836, '0,7-0,9 mm de diamètre': 837, '30-)40-50 cm de longueur': 838, 'accentuée': 839, '20-30 m de hauteur': 840, 'albuminée': 841, 'lobules': 842, 'gaufré': 843, '3,5 mm de largeur': 844, 'paniculiformes': 845, '1,8-2 mm de diamètre': 846, 'polymorphe': 847, 'claires': 848, 'continus': 849, 'herbiers': 850, 'ronds-oblongs': 851, '0,06 mm de diamètre': 852, 'serretée': 853, 'multiples': 854, 'proéminente': 855, '1,5 mm de diamètre': 856, 'sagittées': 857, '6,5 mm de longueur': 858, 'nues': 859, 'globuleuse-cordiforme': 860, 'mais': 861, 'révoluté': 862, 'genouillées': 863, 'indéhiscente': 864, '3 m de hauteur': 865, 'charnues': 866, 'ovales-lancéolées': 867, 'sub-globuleux': 868, '30-250 mm de long': 869, 'palette': 870, 'rubané': 871, 'microspores': 872, 'corolle': 873, 'appendiculées': 874, 'subulées-aciculaires': 875, 'tesselée': 876, 'ciliolées': 877, 'saillantes': 878, 'strié': 879, 'noyau': 880, 'oblancéolés': 881, 'obové': 882, 'hautes': 883, '1 cm de long': 884, 'apical': 885, 'axile': 886, '1,5-2 cm de diamètre': 887, 'trajet': 888, 'obové-lancéolé': 889, '1 cm de diamètre': 890, 'incurvées': 891, '100 cm de longueur': 892, 'coussinet': 893, 'bulle': 894, 'stérile': 895, 'concaves': 896, '9-12 cm de longueur': 897, 'régulier': 898, 'canaliculé': 899, 'indupliqués': 900, 'centrales': 901, 'apicale': 902, 'taxe': 903, 'orbiculaires-déprimées': 904, 'rugueux': 905, 'aréoles': 906, 'pseudo-terminales': 907, 'discal': 908, 'triangulaire-oblongue': 909, 'rubanés': 910, 'drupes': 911, 'plissée': 912, 'minces': 913, 'longues': 914, 'cyathium': 915, '0,1-1,2 mm de diamètre': 916, 'linéaires-oblongs': 917, 'élargi': 918, 'méricarpes': 919, 'frangée': 920, 'vestigial': 921, 'révolutés': 922, 'gemmules': 923, 'paniculées': 924, 'mucron': 925, '12 m de hauteur': 926, 'lancéolées-elliptiques': 927, 'claire': 928, '20 m de hauteur': 929, 'lâche': 930, 'distale': 931, 'inter-secondaires': 932, 'marginées': 933, 'acuminé-rostré': 934, 'rides': 935, 'velues-rousses': 936, '3 cm de diamètre': 937, 'rare': 938, 'laineux': 939, 'accrescents': 940, 'émarginées': 941, '2-2,5 cm de diamètre': 942, 'inclus': 943, 'inerme': 944, '50-200 mm de long': 945, 'cils': 946, 'serrulées': 947, 'pennes': 948, 'dentés-ciliolés': 949, 'denticulée-serrulée': 950, 'allongée': 951, 'longitudinale': 952, 'adjacentes': 953, 'elliptiques-ovées': 954, 'verte': 955, 'cyme': 956, 'élancées': 957, 'macules': 958, 'sepalis': 959, 'apparentes': 960, 'insérée': 961, 'pyri-formes': 962, 'sinuées-dentées': 963, 'acuminé-obtusiuscule': 964, 'articles': 965, '40-70 cm de longueur': 966, 'florifère': 967, 'alternes': 968, 'cuspidées': 969, 'ovées-lancéolées': 970, 'caractéristique': 971, 'bifides': 972, 'confondues': 973, 'longitudinal': 974, '11 mm de diamètre': 975, 'testa': 976, '3-5 cm de diamètre': 977, 'striés': 978, '25 mm de diamètre': 979, 'serretés': 980, 'sépales': 981, 'fines': 982, 'stipules': 983, 'blanche': 984, 'straminés': 985, 'inclusus': 986, 'apex': 987, 'oviforme': 988, 'ellipsoïdes': 989, 'canaliculés': 990, 'mucroné': 991, 'ovés-linéaires': 992, 'pubérulentes': 993, 'distincte': 994, '6-7 mm de diamètre': 995, 'demi-embrassante': 996, 'ovales-acuminés': 997, 'géniculé': 998, '1-2,5 mm de diamètre': 999, '5 cm de longueur': 1000, 'port': 1001, 'étalés': 1002, 'gibbeux': 1003, 'bractées': 1004, 'fructifères': 1005, '4-7 mm de longueur': 1006, 'griffes': 1007, 'minusve': 1008, 'fleuries': 1009, 'obovées-oblongues': 1010, 'nombreux': 1011, 'poilues': 1012, 'effacée': 1013, '15 cm de longueur': 1014, '2,5-4-)5-15 mm de diamètre': 1015, 'apicule': 1016, 'zigzagantes': 1017, 'émarginé': 1018, 'relevés': 1019, 'résineux': 1020, 'cuticule': 1021, 'épicarpe': 1022, 'dormant': 1023, 'contractés': 1024, 'compactes': 1025, '1,2-4 mm de largeur': 1026, 'allongées': 1027, '0,07 mm de diamètre': 1028, 'globuleuses-déprimées': 1029, 'armé': 1030, 'micro-sporophylles': 1031, 'fimbriées': 1032, 'follicule': 1033, 'hirsutes': 1034, 'obtus': 1035, '0,6 mm de largeur': 1036, 'dents': 1037, 'bifurquées': 1038, 'sub-opposées': 1039, '2-20 mm de long': 1040, 'toxique': 1041, 'papilleux': 1042, '15-25 mm de diamètre': 1043, 'lilas': 1044, 'vert': 1045, '8,2-17 mm de longueur': 1046, 'bractéoles': 1047, 'bipennatiséquées': 1048, 'voyants': 1049, 'toutes': 1050, 'complet': 1051, 'ovale-elliptique': 1052, '40-60 cm de diamètre': 1053, 'ovale-triangulaire': 1054, '5,5-7 mm de diamètre': 1055, 'paille': 1056, 'clairs': 1057, 'dense': 1058, 'ombellules': 1059, 'pédoncule': 1060, '0,7 mm de long': 1061, 'hasté-allongé': 1062, 'centrale': 1063, 'pinnules': 1064, 'rhomboïdal': 1065, 'visqueux': 1066, 'parfumés': 1067, 'pointus': 1068, 'clavi-formes': 1069, 'ové-aigu': 1070, 'raie': 1071, '5-12 mm de largeur': 1072, 'incomplet': 1073, 'sub-sessiles': 1074, '4-13 mm de longueur': 1075, '8-15 mm de long': 1076, 'elliptique-acuminé': 1077, 'adhérentes': 1078, 'imparipennées': 1079, '2,5-4 mm de largeur': 1080, 'intermédiaire': 1081, '2,8-3,5 mm de diamètre': 1082, 'courtes': 1083, 'capsule': 1084, 'émarginés': 1085, 'géminés': 1086, 'trilobé': 1087, 'ovoïde-cordifor': 1088, 'rampant': 1089, 'septicide': 1090, 'stipitée': 1091, 'résine': 1092, 'aigu-acuminé': 1093, 'alternipétales': 1094, 'vrilles': 1095, 'feutrés': 1096, 'postérieur': 1097, '2-3 mm de diamètre': 1098, '35 cm de diamètre': 1099, 'bisannuelle': 1100, 'filiformes': 1101, 'pellucides': 1102, 'bordées': 1103, 'crénelées': 1104, 'elliptiques-oblongs': 1105, 'fixées': 1106, 'prononcée': 1107, '2-4,5 mm de longueur': 1108, 'staminal': 1109, 'profond': 1110, 'tomenteux-velu': 1111, 'dentés-sinués': 1112, 'pseudobulbe': 1113, 'secondes': 1114, 'aile': 1115, 'pubescent': 1116, 'arquées': 1117, '5-15 mm de diamètre': 1118, '2-2,5 mm de diamètre': 1119, 'plate': 1120, 'lèvre': 1121, '20-25 mm de longueur': 1122, 'linéaires-oblongues': 1123, 'cauliflores': 1124, 'sessile': 1125, 'subcharnu': 1126, '0,5-3 mm de long': 1127, 'décussées': 1128, 'anatropes': 1129, 'érigé': 1130, 'défini': 1131, 'raies': 1132, 'avorté': 1133, '10-50 mm de long': 1134, 'sinué-pennatifide': 1135, 'pseudo-écailles': 1136, '1,5-1,7 cm de longueur': 1137, 'arbrisseau': 1138, 'pousses': 1139, 'discrètes': 1140, 'corymbiformes': 1141, 'succulentes': 1142, 'effilées': 1143, 'enflé': 1144, 'rhizome': 1145, 'renflés': 1146, '2-3-dentés': 1147, 'rameuse': 1148, 'obtuses': 1149, '1-3 m de hauteur': 1150, 'seconde': 1151, '15 mm de longueur': 1152, '3 cm de longueur': 1153, 'pâle': 1154, 'hérissée': 1155, 'adnée': 1156, 'ovoïde-ellipsoïde': 1157, '3-4,5 mm de largeur': 1158, 'cylindrique-siliquiforme': 1159, 'monocaule': 1160, 'herbacé': 1161, 'lancéolés-obtus': 1162, 'simples': 1163, 'jaune-vert': 1164, 'jeune': 1165, 'laciniée': 1166, '0,8-1,1 mm de largeur': 1167, 'microsporo-phylles': 1168, 'mucronés': 1169, 'rotacées-étoilées': 1170, 'monocarpique': 1171, 'bases': 1172, 'lancéolée': 1173, 'tard': 1174, '0,6-1,2 mm de longueur': 1175, 'cylindriques-fusiformes': 1176, 'pubérulente': 1177, 'abimées': 1178, 'oblongues-ovées': 1179, 'sub-hasté': 1180, '15-20 mm de diamètre': 1181, '30 cm de longueur': 1182, 'mûrs': 1183, 'oblancéolée': 1184, 'anastomosées': 1185, 'gondolées': 1186, 'dimorphisme': 1187, 'psendobulbes': 1188, 'bilobées': 1189, 'mûr': 1190, 'glabres': 1191, 'angle': 1192, 'gracieuse': 1193, 'arrondie-cordée': 1194, 'lancéo-lées-acuminées': 1195, 'buisson': 1196, 'acuminées': 1197, 'rouge-orange': 1198, 'allongé': 1199, 'ramifiés': 1200, 'velus-pubescents': 1201, 'dichotomes': 1202, 'irrégulières': 1203, '14-17 mm de longueur': 1204, 'épaulée': 1205, 'distal': 1206, '10-12 cm de diamètre': 1207, 'courte': 1208, 'oblongue-sagittée': 1209, '50 m de hauteur': 1210, 'cloisons': 1211, 'ciliolée': 1212, 'partout': 1213, '35-110 mm de long': 1214, '1,2-1,5 mm de diamètre': 1215, 'papillifère': 1216, 'spatulées': 1217, 'caudé-acuminé': 1218, 'arquée': 1219, 'convexes': 1220, 'rosette': 1221, 'linéaires-triangulaires': 1222, 'tube': 1223, 'nuls': 1224, '4-loculaire': 1225, 'décurrentes': 1226, 'glabrescentes': 1227, '11-15 mm de diamètre': 1228, 'fovéolées': 1229, 'alternitépales': 1230, '4-4,5 mm de diamètre': 1231, 'uniformes': 1232, 'aigrette': 1233, 'connectifs': 1234, '6 cm de largeur': 1235, 'glabrescente': 1236, 'contigus': 1237, 'fugaces': 1238, 'mamelon': 1239, 'pendant': 1240, '2-7 mm de longueur': 1241, 'exsudat': 1242, '1-2 mm de largeur': 1243, 'porte': 1244, 'glabrescent': 1245, '15-90 mm de long': 1246, 'fusiformes-arqués': 1247, 'corps': 1248, 'lignifiée': 1249, '5-35 cm de diamètre': 1250, 'inciso-crénelées': 1251, 'rhomboïdales': 1252, 'grimpante': 1253, 'carénées': 1254, 'pédicelles': 1255, 'insertions': 1256, 'cimier': 1257, 'traçante': 1258, 'linéaire-lancéolée': 1259, '60 cm de largeur': 1260, 'plantille': 1261, 'pistil': 1262, 'bourgeons': 1263, 'supra-axillaires': 1264, 'onduleux': 1265, '35 mm de diamètre': 1266, '0,36-0,45 mm de diamètre': 1267, '3-4 cm de diamètre': 1268, 'sépale': 1269, 'foliaire': 1270, 'affine': 1271, 'subulées': 1272, 'rigides': 1273, 'paroi': 1274, 'bipare': 1275, 'latrorses': 1276, 'apiculé': 1277, 'bisexués': 1278, 'biovulées': 1279, '2 mm de diamètre': 1280, 'sagitté': 1281, 'velu-laineux': 1282, 'calices': 1283, '0,3 mm de longueur': 1284, 'ouvert': 1285, 'alvéolée': 1286, 'obovale-spalulé': 1287, '30-50 mm de longueur': 1288, 'persistantes': 1289, 'obovées-elliptiques': 1290, 'involute': 1291, 'saxicole': 1292, 'ovale-rhomboïdal': 1293, 'ternées': 1294, 'visibles': 1295, 'lancéolés-linéaires': 1296, 'grand': 1297, 'articulés': 1298, 'végétatifs': 1299, 'cléistogames': 1300, '5-lobes': 1301, 'soies': 1302, 'segment': 1303, 'ovales-linéaires': 1304, 'ovales-rectangulaires': 1305, 'oblongues-lancéolées': 1306, 'glandes': 1307, '9 mm de longueur': 1308, '2,5-4,5 mm de diamètre': 1309, 'engainante': 1310, '1 cm de largeur': 1311, 'triangulaires-hastées': 1312, 'anthères': 1313, '6 m de haut': 1314, '4-6 cm de diamètre': 1315, 'apiculés': 1316, '0,5-10 mm de long': 1317, 'naturalisée': 1318, 'pétiolules': 1319, '10,5 mm de longueur': 1320, 'pauciflores': 1321, 'muriquée': 1322, 'brillante': 1323, 'corymbes': 1324, 'fourchues': 1325, 'ellipsoïde-oblongue': 1326, '1-1,5 mm de diamètre': 1327, 'hyaline': 1328, 'involucre': 1329, 'rares': 1330, 'duvet': 1331, 'obové-elliptique': 1332, 'tri-pennatipartites': 1333, 'rapprochées': 1334, '0,7-1,5 mm de longueur': 1335, 'polymorphes': 1336, 'tissus': 1337, 'lancéolées-subtriangulaires': 1338, 'voisine': 1339, 'oblongues-falciformes': 1340, 'costales': 1341, '40 m de hauteur': 1342, 'imbriqués': 1343, 'florales': 1344, '0,8-1 mm de largeur': 1345, '12 mm de longueur': 1346, '5-loculaire': 1347, 'cordiformes': 1348, 'lavées': 1349, 'calicule': 1350, 'punctiforme': 1351, 'divergentes': 1352, 'divariqués': 1353, 'tronquées': 1354, 'dressés-étalés': 1355, 'frangés': 1356, '6 mm de diamètre': 1357, 'graines': 1358, 'échelon': 1359, 'cymules': 1360, 'velues-soyeuses': 1361, 'squamiformes': 1362, 'nectaire': 1363, 'rotacées': 1364, 'noir': 1365, 'violettes': 1366, 'hermaphrodites': 1367, 'comprimée-ailée': 1368, '20 cm de diamètre': 1369, 'sombre': 1370, 'marquées': 1371, 'test': 1372, '2,5-3 cm de largeur': 1373, 'àpédicelle': 1374, '2 cm de largeur': 1375, 'punc-tiformes': 1376, 'déhiscence': 1377, 'pomme': 1378, '29-50 mm de longueur': 1379, 'adjacente': 1380, 'velu-soyeux': 1381, '3 cm de long': 1382, 'réticulum': 1383, '0,12 mm de diamètre': 1384, 'cordé-sagitté': 1385, 'glauque': 1386, 'entiers': 1387, '13 mm de long': 1388, 'floral': 1389, '12 mm de diamètre': 1390, 'obovales-elliptiques': 1391, '1-1,2 mm de diamètre': 1392, '5-6 mm de longueur': 1393, 'bombée': 1394, 'tomenteux-soyeux': 1395, 'pseudocymes': 1396, '2-4-pennatiséquées': 1397, 'étalées-dressées': 1398, 'dormants': 1399, 'sub-)globuleux': 1400, 'subulées-triangulaires': 1401, 'pseudo-verticilles': 1402, 'ponctué': 1403, '8 mm de diamètre': 1404, 'dressés': 1405, 'paniculées-cymeuses': 1406, 'épaisse': 1407, 'velu': 1408, 'arborescente': 1409, 'dressées-étalées': 1410, 'profondes': 1411, 'sporanges': 1412, '4-8 mm de longueur': 1413, '2-3-composés': 1414, 'àpseudobulbes': 1415, 'soyeux-pubérulent': 1416, '11 cm de longueur': 1417, '25-70 mm de long': 1418, 'sillonnée-verruqueuse': 1419, 'armés': 1420, 'accordent': 1421, '3 mm de diamètre': 1422, 'supère': 1423, 'crénelées-dentées': 1424, 'gaufrées': 1425, '4-9 mm de diamètre': 1426, '5-90 mm de long': 1427, 'aphylle': 1428, 'différentes': 1429, 'rhizophores': 1430, 'denses': 1431, 'article': 1432, 'semi-ouverte': 1433, 'velues-tomenteuses': 1434, '9 mm de diamètre': 1435, 'mucronulées': 1436, 'solitaire': 1437, '1-3-lobées': 1438, '0,8 cm de diamètre': 1439, 'étalé': 1440, 'labelle': 1441, 'fine': 1442, 'scrobiculé': 1443, 'lavés': 1444, 'grande': 1445, 'basilaire': 1446, 'jaunes': 1447, '4 cm de diamètre': 1448, 'spatuliforme': 1449, 'cour': 1450, 'ovés-cordiformes': 1451, '0,8-1 mm de diamètre': 1452, 'asymétriques': 1453, 'sinueuse': 1454, '3 m de haut': 1455, 'obtuse-arrondie': 1456, 'subapical': 1457, 'étalés-récurvés': 1458, 'collet': 1459, 'atténuées': 1460, 'néoténique': 1461, 'mate': 1462, 'obpyriformes': 1463, 'rétus': 1464, 'abondantes': 1465, '8-15 cm de diamètre': 1466, 'deltoïde': 1467, 'difficile': 1468, 'ellipsoïde': 1469, 'herbacées': 1470, 'primordiale': 1471, 'lignifiés': 1472, 'fendillée': 1473, 'pubes-cents': 1474, 'elliptique-spatulé': 1475, 'semblables': 1476, '5-10 cm de diamètre': 1477, 'court': 1478, 'sinués-ondulés': 1479, '2-3-denté': 1480, 'continues': 1481, 'lobés': 1482, 'campanulé-étoilé': 1483, 'érigés': 1484, 'discales': 1485, '1,2-1,5 cm de longueur': 1486, 'ponctuée': 1487, '1,1 mm de diamètre': 1488, 'importants': 1489, '4-8 mm de largeur': 1490, 'jeunes': 1491, 'oblongs-obovés': 1492, 'tachée': 1493, '40 cm de longueur': 1494, 'superficielles': 1495, 'ovales-allongées': 1496, 'pubescente': 1497, 'sétacés': 1498, 'genouillé': 1499, 'callus': 1500, 'velu-pubescent': 1501, 'ronde': 1502, 'précédente': 1503, 'adhérents': 1504, 'nettes': 1505, '3 mm de largeur': 1506, '20-100 mm de long': 1507, 'silicules': 1508, '0,6-0,9 mm de longueur': 1509, 'peltées': 1510, 'cannelée': 1511, 'rotacée': 1512, 'opposées-décussées': 1513, 'sublaineux-soyeux': 1514, 'rameux': 1515, '1 cm de longueur': 1516, 'ferrugineux-sublaineux': 1517, 'panthèse': 1518, '50 cm de diamètre': 1519, 'stipité': 1520, 'cordée-aiguë': 1521, 'furqués': 1522, 'effacé': 1523, 'visqueuses': 1524, 'réduites': 1525, 'courbées': 1526, 'moins': 1527, 'nectaires': 1528, '4-5 mm de diamètre': 1529, 'garnies': 1530, 'fur-furacé': 1531, 'albumen': 1532, 'exsertes': 1533, '5 cm de diamètre': 1534, 'ovaires': 1535, 'apocarpe': 1536, 'oléagineux': 1537, 'aciculaires': 1538, 'cicatrices': 1539, 'unisexuées': 1540, 'velus': 1541, 'bifide': 1542, 'staminodes': 1543, 'digitée': 1544, '6-9 mm de diamètre': 1545, 'indigène': 1546, 'imprimés': 1547, 'membraneux': 1548, 'branchu': 1549, 'cupuliformes': 1550, 'dressé': 1551, 'corymbe': 1552, 'bleu-pourpre': 1553, '9-18 mm de diamètre': 1554, 'englobe': 1555, 'clair': 1556, 'semi-érigé': 1557, 'réfléchi': 1558, 'indusie': 1559, 'réseau': 1560, 'florale': 1561, 'abaxial': 1562, 'ondulée-dentelée': 1563, 'pivotante': 1564, 'érodées': 1565, 'apprimes': 1566, 'herbe': 1567, 'parcheminé': 1568, 'tronqué': 1569, 'graciles': 1570, '10 mm de diamètre': 1571, 'anastomoses': 1572, 'littorales': 1573, 'concave': 1574, '18-20 mm de diamètre': 1575, 'obové-oblong': 1576, '4 m de hauteur': 1577, 'uniforme': 1578, 'fruits': 1579, '7 m de haut': 1580, 'fins': 1581, 'cupuli-forme': 1582, 'onguiculé': 1583, 'calleux': 1584, 'involutée': 1585, 'monades': 1586, '5 mm de diamètre': 1587, '60 cm de longueur': 1588, 'sommitales': 1589, 'bruns-pubérulents': 1590, '0,7-1,1 mm de diamètre': 1591, '1-5 cm de longueur': 1592, 'apparente': 1593, '3-8 mm de diamètre': 1594, 'foliacée': 1595, 'condensées': 1596, 'jaune-verdâtre': 1597, 'émoussée': 1598, 'nouées': 1599, 'enfoncé': 1600, 'ondulée-dentée': 1601, '5-7 cm de longueur': 1602, '2-lobé': 1603, 'pseudo-fascicules': 1604, 'ellipsoïde-globuleux': 1605, 'stigmates': 1606, 'torsadé': 1607, 'crénelés': 1608, 'tronquée-arrondie': 1609, 'brillant': 1610, 'arête': 1611, 'glabre': 1612, 'étalée': 1613, 'elliptique-oblong': 1614, 'ellipsoïde-ovoïde': 1615, '7-8 mm de longueur': 1616, '2,2 mm de diamètre': 1617, 'linéaires-subulées': 1618, 'obovales': 1619, '4,5-5,5 mm de diamètre': 1620, 'gaines': 1621, '40 cm de diamètre': 1622, '45-120 mm de long': 1623, 'comprimés-ancipités': 1624, 'cunéée': 1625, 'tubuleux-campanulé': 1626, 'ouvertes': 1627, 'insérées': 1628, 'racemiformes': 1629, 'flabellée': 1630, 'linéaire-oblong': 1631, 'sinué-pinnatifide': 1632, 'ciliées': 1633, 'végétative': 1634, 'oblongues-ellip': 1635, '6,5 cm de long': 1636, '8 m de hauteur': 1637, '2-3 mm de longueur': 1638, '2,5-3,5 mm de diamètre': 1639, 'obovale-elliptique': 1640, 'fimbriée': 1641, 'linéaires': 1642, 'sétacées': 1643, 'profonde': 1644, 'rouge-brun': 1645, 'tropicale': 1646, 'filaments': 1647, 'nectarifères': 1648, 'pennatiséquées': 1649, 'velus-tomenteux': 1650, '8-10 cm de diamètre': 1651, 'imprimée': 1652, 'loin': 1653, 'unilatérales': 1654, 'crispée': 1655, 'aphylles': 1656, 'denticulées': 1657, 'contreforts': 1658, 'conservé': 1659, '3,5 cm de diamètre': 1660, '2-3 mm de largeur': 1661, '60-700 mm de long': 1662, '1,5-1,8 mm de diamètre': 1663, 'subellipsoïdes': 1664, 'linéaire-oblongue': 1665, 'adnées': 1666, 'staminale': 1667, '3,5 cm de longueur': 1668, 'comme': 1669, 'cunéiforme-tronquée': 1670, 'stigmatiques': 1671, 'crénelures': 1672, '20-24 mm de diamètre': 1673, 'ondulées': 1674, 'incluse': 1675, 'appliquée': 1676, '2,5 mm de diamètre': 1677, 'pieds': 1678, 'inférieurs': 1679, 'fhypanthium': 1680, 'cannelés': 1681, 'déprimés': 1682, 'amplexicaules': 1683, '4,5-9 mm de longueur': 1684, 'ailes': 1685, 'compacte': 1686, 'auriculees': 1687, 'amplexicaule': 1688, 'inégaux': 1689, 'galle': 1690, 'ovée-oblongue': 1691, 'protubérances': 1692, 'soyeux-argentés': 1693, '0,5-1 mm de diamètre': 1694, '1,5 mm de long': 1695, 'rameaux': 1696, '5-8 mm de diamètre': 1697, 'ovoïde': 1698, '15 m de hauteur': 1699, 'luisant': 1700, 'accusée': 1701, 'charnus': 1702, 'capitules': 1703, 'nombreuses': 1704, 'striées': 1705, 'vertes': 1706, '4,5-7 mm de largeur': 1707, 'dolabriformes': 1708, '0,3 cm de largeur': 1709, 'triangulaires-acuminés': 1710, 'avortées': 1711, 'émoussées': 1712, 'pennatipartites': 1713, 'indéhiscents': 1714, 'sporophylle': 1715, 'divergents': 1716, 'hypanthium': 1717, 'biovulés': 1718, 'gros': 1719, '3 mm de longueur': 1720, 'marginale': 1721, '2,5-4 mm de diamètre': 1722, 'bilabiée': 1723, '1-2 cm de diamètre': 1724, 'orbiculaire': 1725, 'habitat': 1726, 'cylindriques': 1727, 'concolores': 1728, 'placentation': 1729, 'acuminé': 1730, 'cylindrique-ovale': 1731, '8-11 mm de diamètre': 1732, 'stries': 1733, 'inférieures': 1734, 'étroits': 1735, 'obovale-lancéolé': 1736, 'ombellule': 1737, 'filet': 1738, 'patel-liforme': 1739, 'fournies': 1740, 'hérissés': 1741, 'aisselle': 1742, 'stolons': 1743, 'falqué': 1744, 'lisses': 1745, 'orthotropes': 1746, '1,5-4 cm de largeur': 1747, 'basifixe': 1748, '8-10 mm de diamètre': 1749, 'épigées': 1750, '6 m de hauteur': 1751, 'composées-pennées': 1752, 'fanthèse': 1753, 'naviculaires': 1754, 'polliniques': 1755, 'persistante': 1756, 'tout': 1757, 'cupule': 1758, 'long': 1759, '1-2 mm de longueur': 1760, 'terminales': 1761, '4-9 cm de long': 1762, 'renflée': 1763, 'scarieux': 1764, '2-5 mm de largeur': 1765, 'oblong-obové': 1766, 'tubuleux': 1767, 'fleuris': 1768, '5-15 cm de longueur': 1769, 'développées': 1770, '35-100 mm de long': 1771, 'tomenteux-rubigineux': 1772, 'rétrécie': 1773, 'ovoïdes': 1774, 'tiges': 1775, 'anciennes': 1776, 'cata-phylles': 1777, 'accrescent': 1778, 'stipulaires': 1779, 'foncées': 1780, 'rosettes': 1781, 'crénelé-denté': 1782, 'thyrses': 1783, 'feuille': 1784, 'obconique': 1785, 'effilée': 1786, 'protologue': 1787, 'sore': 1788, 'ovales-subaigus': 1789, 'aigu': 1790, 'cavité': 1791, 'sagittée': 1792, 'raide': 1793, 'oblongue-ellipsoïde': 1794, 'fétide': 1795, 'tanthèse': 1796, 'linéaires-obovées': 1797, 'plates': 1798, 'asymétrique': 1799, 'contractée': 1800, '10 mm de longueur': 1801, 'rectilignes': 1802, 'pubescente-duveteuse': 1803, '5-denté': 1804, '10-30 cm de longueur': 1805, 'échancrées': 1806, 'capité-bilobé': 1807, 'partite': 1808, 'bord': 1809, '2-3-lobé': 1810, 'spatulé-elliptique': 1811, 'pachycaule': 1812, 'rapprochés': 1813, '9-lobées': 1814, 'glanduleux': 1815, 'plein': 1816, 'lustrées': 1817, '3-3,7 mm de diamètre': 1818, 'souche': 1819, 'oblongue': 1820, 'fépiderme': 1821, 'rudes': 1822, '12-14 mm de diamètre': 1823, '7 mm de diamètre': 1824, 'verticillées': 1825, '0,5 mm de diamètre': 1826, 'uni-sériées': 1827, 'fréquent': 1828, '2,4 mm de long': 1829, '0,18-0,27 mm de diamètre': 1830, '1,5-2 mm de largeur': 1831, 'dichotomiques-cymeuses': 1832, 'anthère': 1833, 'ovoïdes-coniques': 1834, 'frisée': 1835, 'effacées': 1836, 'marge': 1837, 'incurvée': 1838, 'cavités': 1839, '4,3 cm de longueur': 1840, 'étroit': 1841, 'apiculées': 1842, 'écailleux': 1843, '6-10 mm de longueur': 1844, 'brunâtres': 1845, 'tronqués': 1846, '20-50 cm de diamètre': 1847, '4-7 cm de longueur': 1848, 'extrorses': 1849, 'cylindriques-arqués': 1850, '8-9 mm de largeur': 1851, 'valable': 1852, 'pulpeux': 1853, 'fimbriées-frangées': 1854, '1,2-1,4 mm de largeur': 1855, 'poilu': 1856, 'fruit': 1857, '7 mm de longueur': 1858, 'soyeux': 1859, 'triangulaires-apiculés': 1860, 'oblongues-linéaires': 1861, 'micropyle': 1862, 'ovale-lancéolé': 1863, '5-6 mm de diamètre': 1864, 'panduri-forme': 1865, 'transversales': 1866, 'imprimées': 1867, 'fortes': 1868, 'adjacentes-axillaires': 1869, 'pennée': 1870, 'épars': 1871, '1-2 m de hauteur': 1872, '0,06-0,12 mm de diamètre': 1873, 'intermédiaires': 1874, 'pulvérulentes': 1875, '25 cm de longueur': 1876, 'ailés': 1877, 'incisées-iobées': 1878, 'rhom-boïdal-spatulé': 1879, 'purpurines': 1880, '14-17 mm de largeur': 1881, 'variable': 1882, 'incisée-pinnatiflde': 1883, '3,5-4 cm de diamètre': 1884, 'stigmatique': 1885, 'raides-coriaces': 1886, 'épis': 1887, '10-nervé': 1888, 'mucronulé': 1889, 'séminales': 1890, 'obtus-aigu': 1891, 'capités': 1892, 'odorantes': 1893, 'papyracées': 1894, 'pennatifides': 1895, 'basilaires': 1896, 'cordé': 1897, 'fovéolée': 1898, 'alêne': 1899, '3-5 mm de longueur': 1900, 'fimbrié': 1901, '37-55 mm de longueur': 1902, 'effilés': 1903, '10 cm de diamètre': 1904, '9)-lobée': 1905, 'fleur': 1906, '4-8 mm de long': 1907, 'soyeux-tomentelleux': 1908, 'hyalins': 1909, 'oblongues-acuminées': 1910, '15-30 cm de diamètre': 1911, 'suave': 1912, 'micro-poils': 1913, 'velue-argentée': 1914, '0,5-0,7 cm de diamètre': 1915, 'ové-lancéolé': 1916, 'glanduleux-pubescent': 1917, '0,4-0,6 cm de diamètre': 1918, 'sub-émarginé': 1919, 'lancéolés-oblongs': 1920, 'tige': 1921, 'disséqué': 1922, 'soyeux-tomenteux': 1923, '30 m de hauteur': 1924, '4 mm de diamètre': 1925, 'oblongues': 1926, 'caudée': 1927, 'sacs': 1928, 'veloutés-tomenteux': 1929, 'rubanée': 1930, '17 cm de longueur': 1931, 'frutescente': 1932, 'densé': 1933, 'terminale': 1934, 'pétiolaire': 1935, 'articulations': 1936, 'opposé': 1937, 'distales': 1938, 'sub-orbiculaires': 1939, 'obovales-spatulées': 1940, 'pollinie': 1941, '0,8-1,1 mm de diamètre': 1942, 'enroulés': 1943, 'tordu': 1944, 'lobé': 1945, '60 cm de diamètre': 1946, 'yerticilles': 1947, 'striolés': 1948, 'longitudinales': 1949, 'genouillés': 1950, '6 mm de largeur': 1951, 'denticuliforme': 1952, 'scabres': 1953, 'ponctiformes': 1954, 'épaulement': 1955, 'inflorescence': 1956, '8-9 cm de diamètre': 1957, 'fasciculées': 1958, '1-4 mm de longueur': 1959, 'corniculés': 1960, 'penné': 1961, 'récurvée': 1962, 'parallèle': 1963, 'flabellé-deltoïde': 1964, 'particuliers': 1965, 'pluriloculaires': 1966, 'sons-arbrisseau': 1967, 'bilabiés': 1968, 'marqués': 1969, '3-4-loculaire': 1970, '0,95-1,5 cm de longueur': 1971, 'grappes': 1972, '1,5 mm de largeur': 1973, 'terrestres': 1974, 'deltoïdes': 1975, 'arrondies-émoussées': 1976, '2 cm de longueur': 1977, 'marcottage': 1978, 'poil': 1979, 'dentés': 1980, 'graine': 1981, 'lancéolés-triangulaires': 1982, 'caroncule': 1983, 'filiforme': 1984, 'ovés-elliptiques': 1985, 'ové-cordé': 1986, 'aliforme': 1987, 'espacées': 1988, 'diffus': 1989, 'lingui-formes': 1990, 'fibreux': 1991, 'aiguës': 1992, 'arrondi': 1993, '2,5 mm de longueur': 1994, 'dimorphes': 1995, 'composées': 1996, '2;5-3 mm de diamètre': 1997, 'violette': 1998, 'épais': 1999, '100-180 mm de long': 2000, 'cucullé': 2001, 'terminal': 2002, 'albuminées': 2003, 'aréole': 2004, 'fleurs': 2005, 'coussinets': 2006, 'caulinaires': 2007, 'visible': 2008, 'orbiculaires': 2009, 'ové-oblong': 2010, 'apparent': 2011, 'lèvres': 2012, 'lobée-dentée': 2013, 'facile': 2014, 'défléchies': 2015, 'elliptique-ovale': 2016, 'cellules': 2017, 'persistants': 2018, 'indéhiscent': 2019, 'ondulés-sinués': 2020, 'fovéolé': 2021, 'liane': 2022, 'lancéolées-linéaires': 2023, 'basses': 2024, 'monopodiales': 2025, '20-40 cm de longueur': 2026, 'verticilles': 2027, 'serrulé': 2028, 'oblique': 2029, 'circulaires': 2030, 'pseudo-stipules': 2031, '18-25 mm de diamètre': 2032, 'tendent': 2033, 'obovale': 2034, 'introrses': 2035, 'ascendentes': 2036, 'rebord': 2037, 'pentamères': 2038, 'prostré': 2039, 'linaires-subulées': 2040, 'digités': 2041, 'macrophylle': 2042, 'récurvées': 2043, 'triangulaires-lancéolés': 2044, 'valve': 2045, 'ondulée': 2046, 'bec': 2047, '20-25 mm de diamètre': 2048, 'exposée': 2049, 'noix': 2050, 'accolés': 2051, 'suprabasal': 2052, 'pied': 2053, 'pendantes': 2054, 'glaucescente': 2055, 'gamosépale': 2056, 'étalés-réflé': 2057, '3-4 cm de longueur': 2058, 'soyeux-argenté': 2059, 'endémiques': 2060, '2,5-3,2 cm de longueur': 2061, 'fibres': 2062, '4,5 mm de long': 2063, 'hypocotyle': 2064, 'parfumé': 2065, '5-6 mm de long': 2066, '20-40 mm de diamètre': 2067, 'prophylles': 2068, '0,3 mm de diamètre': 2069, 'robustes': 2070, 'toruleux': 2071, 'sillonnée': 2072, 'exocarpe': 2073, 'apprimées': 2074, 'ascendant': 2075, 'ovales-triangulaires': 2076, 'bisexuées': 2077, 'gaufrée': 2078, 'mamelonné': 2079, 'sub-latrorses': 2080, 'écartés': 2081, 'échan-crées': 2082, 'régulière': 2083, 'dentées': 2084, 'spathulées-linéaires': 2085, 'lianiformes': 2086, 'bidentes': 2087, '8-12 cm de diamètre': 2088, 'apertures': 2089, 'composés': 2090, 'confluent': 2091, '22-28 mm de diamètre': 2092, 'vertical': 2093, 'panicule': 2094, 'base': 2095, 'atténuée-aiguë': 2096, 'pendants': 2097, 'arrondi-obtus': 2098, 'distinct': 2099, 'sympodial': 2100, 'rotacé': 2101, 'pâles': 2102, 'vasculaires': 2103, 'opercule': 2104, 'foliaires': 2105, 'sub-acuminés': 2106, 'cupuliforme': 2107, 'crénelée': 2108, 'raides': 2109, 'décurrents': 2110, 'pseudo-mono-caule': 2111, 'costule': 2112, '0,8 cm de longueur': 2113, 'velue': 2114, 'pulpe': 2115, 'papilles': 2116, '14 mm de longueur': 2117, 'sub-coriace': 2118, 'pruineux': 2119, '2-4-lobé': 2120, 'avortée': 2121, 'phyllodes': 2122, 'carpelle': 2123, 'pantropicale': 2124, 'compacts': 2125, 'exsert': 2126, '5,5-10 mm de longueur': 2127, 'spiciformes': 2128, 'faisceaux': 2129, '4-5-lobé': 2130, 'parenchyme': 2131, 'inéquilatères': 2132, 'cotylédons': 2133, 'livide': 2134, 'chargées': 2135, 'commun': 2136, 'petites': 2137, '1,5-2,5 mm de diamètre': 2138, 'cannelé': 2139, 'liseré': 2140, 'gynécée': 2141, 'sac': 2142, 'sores': 2143, 'ridé': 2144, 'sinués': 2145, 'jaune-orange': 2146, 'vapicule': 2147, 'armées': 2148, 'obovées-lancéolées': 2149, 'diffuse': 2150, 'recurves': 2151, 'sub-bipennées': 2152, '1,5 cm de largeur': 2153, 'androcée': 2154, 'elliptiques-cochléariformes': 2155, 'réguliers': 2156, '7-8 mm de diamètre': 2157, 'serrulée': 2158, 'élevées': 2159, 'atténué': 2160, 'crevassée': 2161, '3-5-lobée': 2162, 'velouté': 2163, '5-9 mm de diamètre': 2164, '1-2-loculaires': 2165, 'tomenteux': 2166, 'velouté-pubescent': 2167, 'turbiné': 2168, 'éparse': 2169, 'épithète': 2170, 'brunâtre': 2171, 'zygomorphes': 2172, 'elliptique-rhomboïdal': 2173, 'framboise': 2174, 'lancéolées-ovales': 2175, '10-150 mm de long': 2176, '70 cm de diamètre': 2177, 'fimbriés': 2178, 'crénelé-glanduleux': 2179, '12 mm de long': 2180, '16 mm de diamètre': 2181, 'libre': 2182, 'comprimé': 2183, 'planes': 2184, 'arbre': 2185, 'marginal': 2186, 'bifurquée': 2187, 'veine': 2188, 'brun-rouge': 2189, 'racèmes': 2190, 'différents': 2191, 'rubanées': 2192, '70 cm de longueur': 2193, 'ovales-oblongues': 2194, 'gluant': 2195, 'acuminés': 2196, 'érigées': 2197, '2-5 m de hauteur': 2198, 'serrées': 2199, 'ouverts': 2200, 'précises': 2201, 'spathiforme': 2202, 'obovale-oblong': 2203, 'épaisses': 2204, 'gynophore': 2205, 'remontant': 2206, 'ombilic': 2207, 'obovoïde-oblong': 2208, 'caduc': 2209, 'étalés-dressés': 2210, '26-70 mm de longueur': 2211, 'dichotomique': 2212, 'asymétrique-ment': 2213, 'bractéole': 2214, 'embrassantes': 2215, 'connées': 2216, '1-1,5 mm de longueur': 2217, 'anthérode': 2218, 'infra-staminale': 2219, 'acuminés-caudés': 2220, 'épaissie': 2221, 'tordus': 2222, 'réceptacles': 2223, 'velu-hispide': 2224, 'hispide': 2225, 'confluentes': 2226, 'dioïque': 2227, 'épitropes': 2228, 'arêtes': 2229, 'ponctuations': 2230, '12-15 cm de longueur': 2231, 'bractée': 2232, 'globuleux': 2233, 'bleu': 2234, 'cals': 2235, 'calice': 2236, 'plantes': 2237, 'caudées': 2238, 'fronde': 2239, 'bipennée': 2240, 'papillifères': 2241, 'hypocra-tériforme': 2242, 'sillonnés': 2243, 'spatulé-obové': 2244, 'cladodes': 2245, 'écaille': 2246, '2 mm de long': 2247, '5-2 mm de largeur': 2248, 'mamelonnées': 2249, '7-9 cm de diamètre': 2250, 'pédicelle': 2251, 'commissure': 2252, 'pluricaules': 2253, 'ferrugineux-pâle': 2254, 'pétiolule': 2255, 'ovoïde-turbiné': 2256, 'arbres': 2257, 'stipités': 2258, 'hispides-hirsutes': 2259, 'épaissi': 2260, 'follicules': 2261, 'pseudobulbes': 2262, '0,8-1,3 cm de longueur': 2263, 'ombelli-formes': 2264, 'ovales-triangu': 2265, 'penne': 2266, 'spécifiques': 2267, '0,7 cm de largeur': 2268, 'latex': 2269, 'latérales-adjacentes': 2270, 'accusé': 2271, 'souches': 2272, 'serré': 2273, 'glanduleux-pubescents': 2274, '5-10 mm de diamètre': 2275, 'lancéolées': 2276, 'aplati': 2277, 'volubile': 2278, 'épipétales': 2279, 'dilaté': 2280, '2,5 cm de longueur': 2281, '1 mm de longueur': 2282, 'nervilles': 2283, '0,9 cm de largeur': 2284, 'tachées': 2285, 'dentés-serretés': 2286, 'inflorescences': 2287, 'fournis': 2288, 'sub-bilobé': 2289, 'grêle': 2290, 'ligule': 2291, 'ové-elliptique': 2292, 'styles': 2293, '3-lobé': 2294, 'fondé': 2295, '0,7 mm de largeur': 2296, 'ondulée-crénelée': 2297, 'nervures': 2298, 'égales': 2299, 'concolore': 2300, 'graminiforme': 2301, 'nervés': 2302, '150-500 mm de long': 2303, 'buissonnant': 2304, 'moniliforme': 2305, '10-20 cm de diamètre': 2306, 'obtus-arrondi': 2307, 'stomates': 2308, 'serretée-pubescente': 2309, 'appendices': 2310, 'imbriquées': 2311, 'dentelés': 2312, 'inférieure': 2313, 'réfléchies': 2314, 'onguiculés': 2315, 'crateriformes': 2316, 'endémique': 2317, '3-10 mm de longueur': 2318, 'phyllotaxie': 2319, 'frondaison': 2320, 'sillonnées': 2321, 'actiminé': 2322, 'répandue': 2323, 'réfléchis': 2324, 'cunéé': 2325, 'lames': 2326, 'claviformes': 2327, 'méricarpe': 2328, 'variables': 2329, 'auriculée': 2330, 'linéaire-lancéolé': 2331, 'étalées': 2332, 'étamines': 2333, '5-15 mm de long': 2334, '20-30 mm de long': 2335, 'capité-lobé': 2336, 'ouverte': 2337, 'radiés': 2338, 'continue': 2339, '7-20 mm de longueur': 2340, 'ampoule': 2341, 'contracté': 2342, 'bords': 2343, 'étroites': 2344, '0,2 mm de largeur': 2345, 'sécrétion': 2346, 'stri-guleux-pubérulent': 2347, 'bordé': 2348, 'forts': 2349, 'flabelliformes': 2350, 'feuillets': 2351, 'anneau': 2352, 'oreillettes': 2353, 'urcéolée': 2354, 'spores': 2355, 'ciliolés': 2356, 'pseudo-stipité': 2357, 'lancéolé-aigu': 2358, 'gousses': 2359, 'apicules': 2360, '10 cm de longueur': 2361, 'sigmoïde': 2362, 'lancéolées-subulées': 2363, '4-15 cm de diamètre': 2364, 'filets': 2365, 'disque': 2366, 'ripicole': 2367, '3-3,5 cm de diamètre': 2368, 'claviforme': 2369, 'exserts': 2370, 'orthotrope': 2371, '5-7 cm de diamètre': 2372, 'soudées': 2373, 'elliptique-lancéolé': 2374, 'ovale': 2375, 'proximale': 2376, '5-11 mm de longueur': 2377, 'lineari-filiformes': 2378, 'longistyles': 2379, '6-8,2 mm de longueur': 2380, 'oblongs-ovoïdes': 2381, 'crochues': 2382, 'fistuleux': 2383, 'angles': 2384, '2,7 mm de diamètre': 2385, 'genres': 2386, 'microsporophylles': 2387, 'foncés': 2388, '1,5 m de haut': 2389, 'tépales': 2390, 'subaigus-mucronulés': 2391, 'fermé': 2392, '1-1,5 cm de diamètre': 2393, 'divergente': 2394, 'jaunâtres': 2395, '25 cm de diamètre': 2396, 'raides-chartacées': 2397, 'dioïques': 2398, '20 cm de largeur': 2399, 'suffrutex': 2400, 'deltoïdes-ovales': 2401, '7 cm de longueur': 2402, '1 mm de largeur': 2403, '80 cm de diamètre': 2404, '1 mm de diamètre': 2405, 'ramifiée': 2406, 'ciliés': 2407, 'pseudo-stipe': 2408, '7 mm de long': 2409, 'canescents-pubescents': 2410, '0,5-2 mm de diamètre': 2411, 'loculicide': 2412, 'poils': 2413, 'oblong-elliptique': 2414, 'frisés': 2415, 'mucronulés': 2416, '12-13 mm de diamètre': 2417, 'rameau': 2418, 'acuminée': 2419, '1-2 mm de diamètre': 2420, 'aristées': 2421, 'cuspidée': 2422, 'pointue': 2423, 'cambré': 2424, '3,5 mm de longueur': 2425, 'distique': 2426, '6-10 cm de longueur': 2427, 'papyracée': 2428, '6-7 mm de longueur': 2429, 'courts': 2430, '12 cm de longueur': 2431, 'filiformes-ciliés': 2432, 'lame': 2433, 'rouge': 2434, 'bordés': 2435, 'réticulé': 2436, 'basiscopique': 2437, 'haute': 2438, '4-5 cm de diamètre': 2439, 'graminée': 2440, 'coalescents-soudés': 2441, 'cylindrique': 2442, 'tétramères': 2443, '15 m de haut': 2444, 'foncé': 2445, 'amincie': 2446, 'intriquées': 2447, '5-7 mm de largeur': 2448, 'rudimentaires': 2449, 'prolifère': 2450, 'ciliée': 2451, '1,5 mm de longueur': 2452, 'écailleux-rugueux': 2453, 'inermes': 2454, 'blanches': 2455, 'ombel-liformes': 2456, 'arrondis': 2457, 'aigu-glanduleux': 2458, 'divergent': 2459, 'terrestre': 2460, 'marqué': 2461, 'limbe': 2462, 'linéaire-ovale': 2463, 'spathes': 2464, '1,6-1,8 mm de diamètre': 2465, 'contournées': 2466, 'infrutescences': 2467, 'couronnes': 2468, 'floconneux': 2469, '4-6 mm de diamètre': 2470, 'triangulaires-deltoïdes': 2471, 'stériles': 2472, 'contractées': 2473, 'dentés-lobés': 2474, 'aplaties': 2475, 'déviée': 2476, 'apparents': 2477, '2,5-4 cm de diamètre': 2478, 'spatulée': 2479, 'monophylles': 2480, 'sinué-lobé': 2481, 'denticule': 2482, 'rejets': 2483, 'luisants': 2484, 'dissymétrique': 2485, 'sporophylles': 2486, 'développée': 2487, 'veloutées': 2488, 'aiguë-acuminée': 2489, 'tubercule': 2490, 'falciformes': 2491, '6 cm de diamètre': 2492, 'cordés': 2493, 'striés-anguleux': 2494, 'crateriforme': 2495, '1,3 mm de diamètre': 2496, 'aristé': 2497, 'anthèse': 2498, 'vert-jaune': 2499, 'nervation': 2500, 'obcordées': 2501, 'dressée': 2502, '15 cm de diamètre': 2503, 'pubescente-glanduleuse': 2504, 'cya-thiforme': 2505, 'conniventes': 2506, 'invisible': 2507, 'pruine': 2508, 'velu-tomenteux': 2509, 'dorsifixe': 2510, '2,5-)3-8,5 cm de long': 2511, 'voisines': 2512, 'contracté-descendant': 2513, '4-5 mm de largeur': 2514, '2-3 mm de long': 2515, 'aigus': 2516, 'lacinié': 2517, '1,8 cm de diamètre': 2518, 'coudé': 2519, 'indistinctes': 2520, 'grimpantes': 2521, 'sutures': 2522, 'pollinies': 2523, '1,5 cm de diamètre': 2524, '0,4 cm de diamètre': 2525, 'hypocratériforme': 2526, '11-13 mm de longueur': 2527, 'soudé': 2528, 'digitiforme': 2529, 'saillants': 2530, 'urcéolé': 2531, 'groupées': 2532, '9 cm de longueur': 2533, 'arrondie': 2534, '27-33 mm de longueur': 2535, 'âgés': 2536, '3-5 mm de largeur': 2537, '3-7 mm de diamètre': 2538, 'axillantes': 2539, 'serrée': 2540, 'cosmopolite': 2541, 'accusées': 2542, 'style': 2543, '10-40 cm de longueur': 2544, '2,5-3,3 mm de longueur': 2545, 'obtuse-aiguë': 2546, 'mûre': 2547, 'obovales-lancéolées': 2548, 'strigueux': 2549, 'orange': 2550, 'lobées': 2551, 'costa': 2552, 'apprimé': 2553, 'ponctués': 2554, 'asymétriques-falciformes': 2555, 'anthérodes': 2556, 'racème': 2557, 'petits': 2558, 'ligneuse': 2559, 'falciforme': 2560, 'secondaires': 2561, 'cime': 2562, '15 cm de largeur': 2563, 'cuné': 2564, '1,7 cm de largeur': 2565, 'hérissées': 2566, 'arrondies-atténuées': 2567, 'déprimé': 2568, '8 cm de longueur': 2569, 'grimpant': 2570, 'herbacée': 2571, 'ovale-cordé': 2572, 'callosité': 2573, 'fût': 2574, 'triade': 2575, 'bisériées': 2576, 'papille': 2577, 'péri-apicales': 2578, 'décurrent': 2579, 'circulaire-rhomboïdal': 2580, 'denté-échancré': 2581, 'persistant': 2582, '3-6,5 cm de largeur': 2583, 'obovés-oblongs': 2584, 'denté-crénelé': 2585, 'éparses': 2586, 'oblongs-lancéolés': 2587, 'rouges': 2588, 'pubescentes-veloutées': 2589, 'rugueuse': 2590, 'domaties': 2591, 'campanulee': 2592, 'ovales-obtus': 2593, '5-lobé': 2594, 'capillaires': 2595, 'campanulées': 2596, 'tomenteux-ferrugineux': 2597, 'marginales': 2598, 'comprimée': 2599, 'rapporte': 2600, 'hirsute': 2601, '4,5-5 cm de diamètre': 2602, 'hydathodes': 2603, 'baies': 2604, 'discale': 2605, '3-4-loculaires': 2606, 'pédicelle-hypanthium': 2607, 'botuliforme': 2608, 'voyantes': 2609, 'similaire': 2610, 'auriculées': 2611, 'serré-denté': 2612, 'racine': 2613, 'bacciformes': 2614, 'rampante': 2615, 'lagéniforme': 2616, '0,2 mm de diamètre': 2617, '0,8 mm de largeur': 2618, 'bilabié': 2619, 'secondaire': 2620, 'quadrilobés': 2621, 'grossi': 2622, 'plante': 2623, 'crustacé': 2624, '4 cm de longueur': 2625, 'révolutée': 2626, 'ponctuées': 2627, 'hétéromorphes': 2628, 'bifurqué': 2629, '2-loculaire': 2630, 'âgées': 2631, 'déchiquetés': 2632, '8-10 m de hauteur': 2633, 'cupu-liforme': 2634, 'rameuses': 2635, 'ondulés': 2636, '12-25 mm de longueur': 2637, 'aciculaire': 2638, '3,5-4 mm de diamètre': 2639, 'couronne': 2640, '20-60 mm de long': 2641, 'canal': 2642, 'cymes': 2643, 'comprimés': 2644, '3-4-pennatiséquées': 2645, 'chartacées': 2646, 'traçant': 2647, 'corolles': 2648, 'pétales': 2649, 'robuste': 2650, 'dimidiés-oblongs': 2651, 'réfracté': 2652, 'petite': 2653, '4-10 mm de diamètre': 2654, 'atténuée': 2655, 'bourgeon': 2656, 'fusiforme': 2657, '3,3-4,5 mm de diamètre': 2658, 'biloculaire': 2659, 'épiderme': 2660, 'amande': 2661, 'pilosité': 2662, 'ovés-lancéolés': 2663, 'incurvés': 2664, 'dentée': 2665, 'oblongues-elliptiques': 2666, 'oblong-linéaire': 2667, 'incluses': 2668, 'acuminé-aigu': 2669, 'jaune-doré': 2670, 'oranges': 2671, 'oblancéolé-elliptique': 2672, '10-900 mm de long': 2673, 'profonds': 2674, 'longtemps': 2675, 'fort': 2676, '2-4 m de hauteur': 2677, 'cultivars': 2678, 'équitantes': 2679, '1,8-2,5 mm de longueur': 2680, 'incisés': 2681, 'aubier': 2682, 'infundibuliforme': 2683, 'pariétale': 2684, 'oblongue-elliptique': 2685, '43-57 mm de longueur': 2686, 'troncs': 2687, 'concerne': 2688, 'écailles': 2689, 'demi-étalées': 2690, 'torsadées': 2691, 'linéaires-deltoïdes': 2692, 'tégument': 2693, '18-28 mm de diamètre': 2694, 'corymbiforme': 2695, 'réduit': 2696, 'défléchis': 2697, 'gousse': 2698, 'pétiolaires': 2699, 'bran-rouge': 2700, 'pubescente-soyeuse': 2701, 'subacaule': 2702, 'pétiole': 2703, 'composé': 2704, 'irréguliers': 2705, 'collerette': 2706, 'velus-rubigineux': 2707, '2-3 cm de diamètre': 2708, 'préfloraison': 2709, 'ové-aigus': 2710, '9-)-lobé': 2711, '20-90 mm de long': 2712, 'léger': 2713, 'ronds': 2714, 'scape': 2715, 'triquètre': 2716, '9-18 mm de longueur': 2717, 'confluents': 2718, 'hypoderme': 2719, 'renflées': 2720, 'mésocarpe': 2721, 'versatiles': 2722, 'révo-lutée': 2723, 'évasé': 2724, 'frondes': 2725, 'indiscernables': 2726, 'soie': 2727, 'ascendante': 2728, 'forte': 2729, '0,7 mm de longueur': 2730, 'indice': 2731, 'échancrés': 2732, '2-3 m de hauteur': 2733, 'inégales': 2734, '2-4 mm de diamètre': 2735, 'ovales-elliptiques': 2736}\n"
          ]
        }
      ],
      "source": [
        "word_to_ix = {}\n",
        "\n",
        "# Remplir le dictionnaire word_to_ix avec un index unique pour chaque mot\n",
        "for word in vocab:\n",
        "    if word not in word_to_ix:\n",
        "        word_to_ix[word] = len(word_to_ix)\n",
        "\n",
        "# Afficher le dictionnaire résultant\n",
        "print(word_to_ix)\n"
      ]
    },
    {
      "cell_type": "code",
      "execution_count": 20,
      "metadata": {
        "colab": {
          "base_uri": "https://localhost:8080/"
        },
        "id": "eEeigWh2QRB5",
        "outputId": "6cae8da0-2aa3-4d36-b9bb-7d6e029b7509"
      },
      "outputs": [
        {
          "output_type": "stream",
          "name": "stdout",
          "text": [
            "{'SURFACE': 0, 'ORGANE': 1, 'POSITION': 2, 'FORME': 3, 'COULEUR': 4, 'DISPOSITION': 5, 'STRUCTURE': 6, 'DESCRIPTEUR': 7, 'MESURE': 8, 'DEVELOPPEMENT': 9}\n"
          ]
        }
      ],
      "source": [
        "tag_to_ix = {}\n",
        "\n",
        "for tag in tags:\n",
        "  tag_to_ix[tag] = len(tag_to_ix)\n",
        "\n",
        "print(tag_to_ix)\n"
      ]
    },
    {
      "cell_type": "code",
      "execution_count": 21,
      "metadata": {
        "colab": {
          "base_uri": "https://localhost:8080/"
        },
        "id": "ucoX2lmwgiat",
        "outputId": "49ed2e2e-ec5a-403d-e494-c29219e80021"
      },
      "outputs": [
        {
          "output_type": "stream",
          "name": "stdout",
          "text": [
            "{'5-60 mm de long': 0, '6-11 mm de diamètre': 1, 'arborescentes': 2, 'dressée-étalée': 3, 'glauques': 4, 'tronquée': 5, 'suture': 6, 'rangs': 7, 'grandes': 8, 'bullées': 9, 'feutrée': 10, 'ruminé': 11, 'adnés': 12, 'serrulés': 13, 'charnu-coriace': 14, 'sétuleux': 15, 'perpendiculaires': 16, 'longs': 17, 'pédoncules': 18, 'tridente': 19, 'staminifère': 20, 'réticulées': 21, 'digitées': 22, 'flabellées': 23, 'ombelles': 24, 'florifères': 25, 'écorce': 26, 'simple': 27, 'capillaire': 28, 'carénée': 29, 'caducs': 30, 'ailé': 31, '1,6 mm de diamètre': 32, '8 mm de longueur': 33, 'pluricaule': 34, 'apprimée': 35, 'denticulés': 36, 'grossiers': 37, 'papyracés': 38, 'hérissé': 39, '10-12 mm de diamètre': 40, 'allongés': 41, 'développé': 42, 'straminé': 43, 'cam': 44, 'bipennées': 45, '1,5-5 cm de longueur': 46, 'géminées': 47, 'muriquées': 48, 'arrondies': 49, 'pileux': 50, 'brun-vert': 51, 'glomérules': 52, 'vivace': 53, 'tubulaire': 54, 'monoïque': 55, 'ovales-lancéolés': 56, '3 cm de largeur': 57, '6-8 cm de diamètre': 58, 'scarieuses': 59, 'obtuse': 60, '25-100 mm de long': 61, 'carénés': 62, 'elliptique-oblancéole': 63, '11-12 mm de longueur': 64, 'aiguillons': 65, 'caducx': 66, 'fructifère': 67, 'maculé': 68, '1,4 cm de longueur': 69, '0,45 cm de longueur': 70, 'révolutées': 71, 'stigmate': 72, '4 mm de largeur': 73, 'concave-canaliculé': 74, '8-13 mm de diamètre': 75, 'luisantes': 76, 'capuchon': 77, 'oblongues-obovées': 78, 'inter-carpellaires': 79, 'onguiculée': 80, 'cymeux': 81, 'pétaloïdes': 82, 'bilobés': 83, '8-15 mm de diamètre': 84, 'globuleux-obovoïde': 85, 'lamelles': 86, 'brachysclérites': 87, 'cartilagineux': 88, 'initial': 89, 'échancré': 90, 'ascendants': 91, 'ténues': 92, 'élargie': 93, '0,8-2 mm de diamètre': 94, 'proéminentes': 95, 'ovale-anguleux': 96, 'apicales': 97, 'échasses': 98, 'reniformes': 99, 'fermées': 100, 'pétale': 101, 'pseudo-stipitée': 102, 'aristée': 103, 'sinuée': 104, 'sève': 105, 'palmées': 106, 'scorpioïdes': 107, '8-15 m de hauteur': 108, '4-6 mm de largeur': 109, '1,5-30 m de hauteur': 110, 'ellip-tique-oblong': 111, 'semi-infère': 112, 'monosperme': 113, 'galles': 114, 'nouvelles': 115, 'ventrale': 116, '3-4 mm de long': 117, '20 mm de diamètre': 118, 'pelté': 119, 'linéaires-lancéolées': 120, 'hastées': 121, 'placenta': 122, '2 m de haut': 123, 'furquée': 124, 'aliformes': 125, '2,5 m de hauteur': 126, '2,8 cm de largeur': 127, 'connés': 128, '30 cm de diamètre': 129, '8-9 mm de diamètre': 130, 'tomenteux-veloutés': 131, 'obliques': 132, 'stellés': 133, '6-8 mm de diamètre': 134, 'costae': 135, 'lisse': 136, '0,4-0,5 mm de longueur': 137, '5 cm de largeur': 138, 'ovoïde-oblong': 139, '1-carpelle': 140, 'cunéiformes': 141, 'sympodes': 142, 'humide': 143, '16 mm de longueur': 144, 'sympodiale': 145, 'tomenteux-laineux': 146, 'assise': 147, 'bipenne': 148, 'acuminé-atténué': 149, 'mucronées': 150, 'estompées': 151, 'gris-soyeux': 152, 'accrescentes': 153, '5 mm de longueur': 154, 'dentée-caudée': 155, '20 cm de longueur': 156, '0,5 cm de longueur': 157, 'demi-pollinie': 158, '25 m de hauteur': 159, 'subobovales-elliptiques': 160, 'soyeux-laineux': 161, 'opposées': 162, 'radicule': 163, 'hypocratériforme-campanulée': 164, 'nerville': 165, 'cla-viformes': 166, 'fugace': 167, 'deltoïde-lancéolé': 168, '3-loculaire': 169, '3-12 mm de long': 170, 'réticulée': 171, 'silicule': 172, 'grêles': 173, 'crêtes': 174, 'anastomosé': 175, 'fascicules': 176, 'laineux-tomenteux': 177, 'haut': 178, 'divisées': 179, 'loge': 180, 'spatuliformes': 181, '6 cm de longueur': 182, 'plantules': 183, 'loges': 184, 'ovée-cordée': 185, 'carpellaire': 186, 'strophiole': 187, 'cordée': 188, 'aplatis': 189, '8 m de haut': 190, 'transversal': 191, 'papyracé': 192, 'larges': 193, 'plagiotropes': 194, 'atténués': 195, 'sous-arbuste': 196, '5-7 mm de diamètre': 197, 'depuis': 198, 'gamopétale': 199, '3-7 m de hauteur': 200, 'bleues': 201, 'elliptique-losangique': 202, '0,2-0,3 mm de diamètre': 203, 'ovales': 204, 'distinctes': 205, '1,6-2,4 mm de diamètre': 206, 'crochets': 207, 'polygame': 208, 'écailleuses': 209, 'feutré': 210, 'exalbuminée': 211, 'large': 212, 'papilleux-argenté': 213, 'clairsemés': 214, 'cloison': 215, 'fusiformes': 216, '5 m de hauteur': 217, 'bleu-noir': 218, 'ondulé': 219, 'pivotant': 220, '3-11 mm de long': 221, 'réticulés': 222, '1,5-2,5 cm de longueur': 223, 'punctiformes': 224, 'ovules': 225, 'hasté': 226, 'subulés': 227, 'denticulée': 228, 'sinueux': 229, 'cireux': 230, 'épineux': 231, 'nette': 232, '20 cm de long': 233, 'exserte': 234, 'dressé-étalé': 235, 'soudés': 236, '1-2,5 cm de diamètre': 237, 'hasté-panduriforme': 238, 'tronc': 239, 'taxons': 240, 'apprimés': 241, 'connivents': 242, 'auriculé': 243, '3-6 mm de largeur': 244, 'pendante': 245, '50 cm de longueur': 246, '2,5-3 mm de diamètre': 247, 'drupe': 248, 'limbes': 249, 'coque': 250, 'rétamines': 251, 'différente': 252, 'sinueuses': 253, 'stipulées': 254, 'elliptiques-ovés': 255, 'ondulé-sinueux': 256, 'aisselles': 257, 'semi-orbiculaire': 258, 'ramilles': 259, 'frais': 260, '5-9 mm de longueur': 261, '4-lobé': 262, 'spatule': 263, '3-4 mm de diamètre': 264, 'développés': 265, 'colonne': 266, 'valvaires': 267, 'veloutée': 268, 'dimidiées': 269, 'sessiles': 270, 'obovées-oblancéolées': 271, 'superposés': 272, 'sagittés': 273, 'dorsifixes': 274, '2,5-3 cm de diamètre': 275, 'ovale-acuminé': 276, 'volumineuses': 277, 'buissons': 278, '0,12-0,15 mm de diamètre': 279, 'entier': 280, 'subcandélabriformes': 281, 'scrobiculées': 282, '3-4 cm de long': 283, 'luisante': 284, 'endocarpe': 285, 'spécimen-type': 286, 'épines': 287, 'pseudo-pédicelle': 288, 'armée': 289, '15-70 mm de long': 290, 'incisé': 291, 'ovale-deltoïde': 292, 'denticules': 293, 'linguiformes': 294, 'ovoïdes-fusiformes': 295, 'rhombiformes': 296, 'commissures': 297, 'épi': 298, 'scrobiculée': 299, 'rhombique': 300, 'cérébriforme': 301, 'droite': 302, '25-49 mm de longueur': 303, 'pauciflore': 304, 'mince': 305, 'irrégulier': 306, 'sillonné': 307, 'végétatives': 308, 'peltée': 309, 'commune': 310, 'pennatiséqué': 311, 'pollen': 312, '5-8 mm de largeur': 313, 'invisibles': 314, 'lobe': 315, 'panduriforme': 316, 'oblong-lancéolé': 317, 'feuilles': 318, '4,5 mm de longueur': 319, 'composée': 320, 'atténuée-cunéiforme': 321, 'ovoïde-conique': 322, 'solitaires': 323, 'sans': 324, '6-10 mm de diamètre': 325, 'pennati-partites': 326, 'rubigineux': 327, 'second': 328, 'carène': 329, 'verts': 330, 'écusson': 331, 'pores': 332, 'carpelles': 333, 'hile': 334, '3,8 mm de longueur': 335, 'flexueux': 336, '90-300 mm de long': 337, 'protubérance': 338, 'sub)opposées': 339, 'folioles': 340, 'velue-veloutée': 341, 'bois': 342, 'surbaissés': 343, '1,2 cm de diamètre': 344, 'tomentum': 345, 'denté': 346, '7 mm de largeur': 347, 'lyrées': 348, '17 mm de diamètre': 349, 'strobiles': 350, '10-13 mm de diamètre': 351, 'dorsal': 352, 'libres': 353, 'foliole': 354, 'crête': 355, 'mates': 356, 'soyeux-doré': 357, '0,8-1,2 mm de longueur': 358, 'dissymétriques': 359, 'pennée-réticulée': 360, 'rampantes': 361, 'bilobé': 362, '16-25 mm de longueur': 363, 'anguleux': 364, 'aplatis-horizontaux': 365, 'atténué-obtusiuscule': 366, 'assises': 367, '18 mm de long': 368, 'ponctiforme': 369, 'verrues': 370, 'obcordé': 371, 'creux': 372, 'axillaire': 373, 'flabelliforme': 374, 'transversale': 375, 'décoloré': 376, 'baie': 377, 'coalescents': 378, 'pseudo-verticillées': 379, 'furqué': 380, 'subulé': 381, 'droit': 382, 'gaine': 383, 'concentrées': 384, 'verruculeux': 385, 'dent': 386, '3,5 mm de diamètre': 387, 'décurrente': 388, 'crochet': 389, 'émoussé': 390, '0,8 mm de diamètre': 391, 'entourant': 392, 'déprimée': 393, '2 mm de largeur': 394, 'marges': 395, 'dressées': 396, 'pubescentes': 397, 'au-dessous': 398, 'différencié': 399, '1,5-2,2 mm de diamètre': 400, 'vert-violacé': 401, 'tétragones': 402, 'pustules': 403, 'foliacées': 404, 'acuminé-obtus': 405, '1,5 cm de longueur': 406, 'renflé': 407, 'q,5-)l-l,5 mm de diamètre': 408, 'vigoureuse': 409, '10-16 mm de longueur': 410, '20-80 mm de long': 411, 'oblongue-obovoïde': 412, 'cordiforme': 413, 'reniforme': 414, 'furfuracés-pubescents': 415, 'obovées-obconiques': 416, 'suffrutescente': 417, 'panicules': 418, 'pennati-séquées': 419, '15 mm de long': 420, 'triangulaires-linéaires': 421, 'ellipti-que-oblong': 422, 'dilatés': 423, 'arbuste': 424, 'proéminent': 425, 'réduits': 426, 'linéaires-lancéolés': 427, '0,4-1 mm de diamètre': 428, 'anastomosée': 429, 'pennatilobé': 430, 'aplatie': 431, 'tripartites': 432, 'obconiques': 433, '2,5-)3,5-4 mm de longueur': 434, 'intriqués': 435, 'coralliformes': 436, 'orbiculaires-ovales': 437, 'coriaces': 438, 'réfléchie': 439, 'géniculés': 440, 'charnu': 441, '3-3,8 mm de diamètre': 442, 'embrassant': 443, 'compact': 444, '20-50 cm de longueur': 445, 'axillaires-adjacentes': 446, 'laisse': 447, 'marquée': 448, 'pépiderme': 449, 'crénelé-serré': 450, 'apiculée': 451, 'couchée': 452, 'continu': 453, 'oppositi-pétales': 454, 'funicule': 455, 'ligulée': 456, '4-7 mm de diamètre': 457, 'canaliculées': 458, 'papyrace': 459, 'infère': 460, '3-3,4 mm de diamètre': 461, 'déprimé-globuleux': 462, '3-10 mm de diamètre': 463, 'androgynophore': 464, 'monopodiale': 465, 'discolores': 466, 'embrassante': 467, '4-6 mm de longueur': 468, 'oblong-oblancéolé': 469, 'pubérulents': 470, 'externe': 471, '1,9-3,1 mm de diamètre': 472, 'lobes': 473, 'subapicale': 474, 'résistant': 475, 'pistillode': 476, 'inséré': 477, 'dentelé': 478, 'adaxial': 479, 'velues': 480, 'pennés': 481, '0,5-1 cm de longueur': 482, 'sinus': 483, 'petit': 484, '5 mm de long': 485, 'fal-ciforme': 486, '0,5 cm de diamètre': 487, 'coriace': 488, 'glauque-blanchâtre': 489, 'villeux': 490, 'pseudo-monocaule': 491, '11-13 mm de diamètre': 492, 'bordée': 493, 'glabres-cent': 494, 'pubérulent': 495, 'arqués': 496, 'penna-tiséquées': 497, 'campanulée': 498, 'oblong-spatulé': 499, 'oblancéolées-ellip': 500, '2-7 mm de largeur': 501, 'ovule': 502, 'axe': 503, '45 cm de longueur': 504, '3-5 mm de diamètre': 505, 'losangique': 506, 'spatulé-lancéolé': 507, 'furquées': 508, 'nervure': 509, 'échancrée': 510, 'pétioles': 511, 'rude': 512, 'tordue': 513, 'sub-sessile': 514, 'caractéristiques': 515, 'arrondi-émarginé': 516, '1-3 mm de diamètre': 517, 'subspontanée': 518, 'parfumées': 519, 'ombelliformes': 520, 'mixtes': 521, 'proximal': 522, '5-7 mm de longueur': 523, 'lancéolées-acuminées': 524, 'obtus-arrondis': 525, 'triangulaires-subulées': 526, '6 mm de longueur': 527, 'plus': 528, 'denticulé': 529, 'striée': 530, 'appliquées': 531, 'triangulaires-oblongues': 532, '2 cm de long': 533, 'oblongs-ovés': 534, 'cordées': 535, 'siliques': 536, 'faisceau': 537, 'cunéiforme': 538, 'échantillon-type': 539, 'éperon': 540, 'oblongs-aigus': 541, 'pennées': 542, '5-7 cm de largeur': 543, '2 mm de longueur': 544, 'évasé-turbiné': 545, 'tordues': 546, 'infra-spécifiques': 547, '6-15 mm de diamètre': 548, 'lancéolé-elliptique': 549, '2-2,8 mm de diamètre': 550, 'tronqués-obtus': 551, 'amples': 552, 'périanthe': 553, 'charnue': 554, '5-13 mm de long': 555, '2 m de hauteur': 556, 'àbase': 557, 'semi-obliques': 558, 'lancéolés-acuminés': 559, 'obové-oblancéolé': 560, '1 m de hauteur': 561, 'ramules': 562, 'contournés': 563, 'clair-grisâtre': 564, '1,3 mm de longueur': 565, 'capité': 566, 'atténuée-tronquée': 567, 'chartacé': 568, 'bouton': 569, 'dentelée': 570, '4-25 mm de long': 571, 'elliptiques': 572, 'pseudo-dichotomes': 573, 'axillaires': 574, '6 mm de long': 575, 'réceptacle': 576, 'moelle': 577, 'scrobi-culée-réticulée': 578, 'triplinerves': 579, 'échelonnées': 580, 'déprimées': 581, 'tubercules': 582, 'tétrades': 583, 'hypogyne': 584, 'jaune': 585, 'bref': 586, 'incisées': 587, 'élargis': 588, 'définies': 589, 'grands': 590, 'courbes': 591, '2,5 cm de diamètre': 592, 'ramifié': 593, 'subovoïde-ellipsoïde': 594, 'distincts': 595, 'arille': 596, 'bipinnatifides': 597, 'arbustes': 598, 'stipulaire': 599, '10 m de hauteur': 600, 'obovales-ellip': 601, 'embryon': 602, 'ample': 603, '150 cm de longueur': 604, '1,2 mm de diamètre': 605, 'xérophiles': 606, '7-30 mm de long': 607, 'acumen': 608, 'parallèles': 609, 'dorsale': 610, 'appliqués': 611, 'ligneux': 612, 'aigu-mucroné': 613, 'cunéiformes-oblongs': 614, 'arqué': 615, 'velues-laineuses': 616, 'balsamique': 617, 'connectif': 618, '35 cm de longueur': 619, 'falquées': 620, 'subovoïdes-ellipsoïdes': 621, '4 mm de longueur': 622, 'vena-pubescent': 623, '35-40 mm de diamètre': 624, 'obovale-spatulé': 625, 'comprimées': 626, 'linéaires-acuminées': 627, 'cohérents': 628, 'ferrugineux': 629, 'orbiculaire-rhomboïdal': 630, '4-5 mm de long': 631, 'basifixes': 632, 'triangulaire-acuminé': 633, 'elliptique-obové': 634, '7-9 mm de largeur': 635, 'vieux': 636, '2-3 m de haut': 637, 'canescent-pubescent': 638, 'capsules': 639, 'dichotome-corymboïde': 640, '40-170 mm de long': 641, 'fermée': 642, 'aiguë': 643, 'serretées': 644, 'ovaire': 645, 'fascicule': 646, 'crénelé': 647, 'discrète': 648, 'aiguë-atténuée': 649, 'substrat': 650, '20-40 cm de diamètre': 651, 'trigones': 652, 'ovoïde-fusiforme': 653, 'veines': 654, '4-9 cm de diamètre': 655, 'didynames': 656, 'mucronulée': 657, 'oblongs': 658, '38-43 mm de longueur': 659, 'oblancéolées': 660, 'étamine': 661, '2-2,5 mm de largeur': 662, '6-9 mm de longueur': 663, 'caudé': 664, 'flottant': 665, '12 cm de largeur': 666, 'cataphylles': 667, 'velus-soyeux': 668, 'grappe': 669, 'triquètres': 670, 'distiques': 671, 'compliquée': 672, 'pseu-do-stipitée': 673, 'stipule': 674, 'lancéolé': 675, 'clairsemée': 676, '9-25 mm de longueur': 677, '0,5 mm de longueur': 678, 'glande': 679, 'serretées-crénelées': 680, 'sous-arbustes': 681, 'aigus-acuminés': 682, 'laciniées': 683, 'racines': 684, 'segments': 685, '5 mm de largeur': 686, 'jaunâtre': 687, 'laciniés': 688, 'straminée': 689, 'piliforme': 690, 'ancipités': 691, 'carènes': 692, 'apotropes': 693, 'multicaule': 694, 'intrapétiolaire': 695, 'trigone': 696, 'boutons': 697, 'lancéolés': 698, 'lobée': 699, 'pileuse': 700, '8-12 mm de diamètre': 701, 'foncée': 702, 'dichasiales': 703, 'verticille': 704, 'ferrugineux-vélutineux': 705, 'ombelle': 706, '5-6 mm de largeur': 707, 'raquettes': 708, 'glabres-cents': 709, 'veloutés': 710, 'pédonculaire': 711, 'réduite': 712, 'naviculi-formes': 713, '3-3,2 mm de diamètre': 714, 'acroscopique': 715, 'infrutescence': 716, 'étroite': 717, 'pubescents': 718, '3-5-loculaire': 719, 'articulé': 720, 'ascendantes': 721, '2 cm de diamètre': 722, 'fourchue': 723, 'verruqueux': 724, 'cylindrique-oblongue': 725, 'tuberculée': 726, '1,5-8 m de hauteur': 727, 'microsporophylle': 728, 'indistincte': 729, '8 cm de diamètre': 730, 'sinuées': 731, 'triangulaires-obtus': 732, 'verrue': 733, 'brévistyles': 734, '2-2,5 mm de longueur': 735, 'appendice': 736, 'sécrétions': 737, 'pleine': 738, 'bifurcations': 739, 'stipulée': 740, 'ramule': 741, 'paraphyses': 742, 'onglet': 743, 'lâches': 744, 'opposés': 745, '1,5-2 mm de diamètre': 746, 'ondulé-crénelé': 747, '3,5-4 mm de largeur': 748, 'oblong': 749, 'sporange': 750, 'scabre': 751, 'péricarpe': 752, 'elliptique-allongé': 753, 'élevé': 754, '7-9 mm de diamètre': 755, 'tropicales': 756, 'blanc-vert': 757, 'lyrées-pennatisé': 758, 'ramifiées': 759, 'inciso-crénelés': 760, 'glabrescents': 761, 'sous-arbrisseau': 762, 'mûres': 763, 'bambusiforme': 764, 'globuleux-déprimés': 765, 'tropical': 766, 'ellipsoïde-aplatie': 767, 'sub)tronqué': 768, 'végétatif': 769, '7,5-9 mm de diamètre': 770, 'opaque': 771, 'acroscopiques': 772, 'rhomboïdal-deltoïde': 773, 'valves': 774, 'ramiflorie': 775, 'saillant': 776, '40 cm de largeur': 777, 'glabres-centes': 778, 'noirs': 779, 'repliés': 780, 'longue': 781, 'lianes': 782, '80 cm de longueur': 783, 'auricules': 784, '8-18 mm de long': 785, 'sarmenteux': 786, 'accru': 787, 'ovoïde-cylindrique': 788, '15 mm de largeur': 789, '20-35 cm de diamètre': 790, 'insérés': 791, 'prolongé': 792, 'plat': 793, 'axes': 794, 'oblancéolé': 795, 'anastomose': 796, 'abondante': 797, 'stipitées': 798, 'bleue': 799, '30-45 cm de diamètre': 800, 'elliptique': 801, '10 mm de long': 802, 'caréné': 803, 'rhomboïdes-oblongs': 804, 'horizontales': 805, 'corymbi-formes': 806, 'réfractées': 807, 'ovés-oblongs': 808, 'cystolithes': 809, 'triangulaires-caudées': 810, 'lenticelles': 811, 'nectarifère': 812, 'thyrse': 813, '4-8 mm de diamètre': 814, 'parois': 815, 'linéaire': 816, 'costules': 817, 'saillante': 818, '30-90 mm de long': 819, 'patelliforme': 820, 'spécifique': 821, 'sous-tendues': 822, 'serrés': 823, 'cunée': 824, 'effilé': 825, 'noué': 826, 'canaliculée': 827, 'ovées-linéaires': 828, 'lyrées-pennatipartites': 829, 'rachis': 830, '1,5-2,3 mm de diamètre': 831, 'précédents': 832, 'decurrent': 833, 'ventral': 834, 'cicatrice': 835, 'émarginée': 836, '0,7-0,9 mm de diamètre': 837, '30-)40-50 cm de longueur': 838, 'accentuée': 839, '20-30 m de hauteur': 840, 'albuminée': 841, 'lobules': 842, 'gaufré': 843, '3,5 mm de largeur': 844, 'paniculiformes': 845, '1,8-2 mm de diamètre': 846, 'polymorphe': 847, 'claires': 848, 'continus': 849, 'herbiers': 850, 'ronds-oblongs': 851, '0,06 mm de diamètre': 852, 'serretée': 853, 'multiples': 854, 'proéminente': 855, '1,5 mm de diamètre': 856, 'sagittées': 857, '6,5 mm de longueur': 858, 'nues': 859, 'globuleuse-cordiforme': 860, 'mais': 861, 'révoluté': 862, 'genouillées': 863, 'indéhiscente': 864, '3 m de hauteur': 865, 'charnues': 866, 'ovales-lancéolées': 867, 'sub-globuleux': 868, '30-250 mm de long': 869, 'palette': 870, 'rubané': 871, 'microspores': 872, 'corolle': 873, 'appendiculées': 874, 'subulées-aciculaires': 875, 'tesselée': 876, 'ciliolées': 877, 'saillantes': 878, 'strié': 879, 'noyau': 880, 'oblancéolés': 881, 'obové': 882, 'hautes': 883, '1 cm de long': 884, 'apical': 885, 'axile': 886, '1,5-2 cm de diamètre': 887, 'trajet': 888, 'obové-lancéolé': 889, '1 cm de diamètre': 890, 'incurvées': 891, '100 cm de longueur': 892, 'coussinet': 893, 'bulle': 894, 'stérile': 895, 'concaves': 896, '9-12 cm de longueur': 897, 'régulier': 898, 'canaliculé': 899, 'indupliqués': 900, 'centrales': 901, 'apicale': 902, 'taxe': 903, 'orbiculaires-déprimées': 904, 'rugueux': 905, 'aréoles': 906, 'pseudo-terminales': 907, 'discal': 908, 'triangulaire-oblongue': 909, 'rubanés': 910, 'drupes': 911, 'plissée': 912, 'minces': 913, 'longues': 914, 'cyathium': 915, '0,1-1,2 mm de diamètre': 916, 'linéaires-oblongs': 917, 'élargi': 918, 'méricarpes': 919, 'frangée': 920, 'vestigial': 921, 'révolutés': 922, 'gemmules': 923, 'paniculées': 924, 'mucron': 925, '12 m de hauteur': 926, 'lancéolées-elliptiques': 927, 'claire': 928, '20 m de hauteur': 929, 'lâche': 930, 'distale': 931, 'inter-secondaires': 932, 'marginées': 933, 'acuminé-rostré': 934, 'rides': 935, 'velues-rousses': 936, '3 cm de diamètre': 937, 'rare': 938, 'laineux': 939, 'accrescents': 940, 'émarginées': 941, '2-2,5 cm de diamètre': 942, 'inclus': 943, 'inerme': 944, '50-200 mm de long': 945, 'cils': 946, 'serrulées': 947, 'pennes': 948, 'dentés-ciliolés': 949, 'denticulée-serrulée': 950, 'allongée': 951, 'longitudinale': 952, 'adjacentes': 953, 'elliptiques-ovées': 954, 'verte': 955, 'cyme': 956, 'élancées': 957, 'macules': 958, 'sepalis': 959, 'apparentes': 960, 'insérée': 961, 'pyri-formes': 962, 'sinuées-dentées': 963, 'acuminé-obtusiuscule': 964, 'articles': 965, '40-70 cm de longueur': 966, 'florifère': 967, 'alternes': 968, 'cuspidées': 969, 'ovées-lancéolées': 970, 'caractéristique': 971, 'bifides': 972, 'confondues': 973, 'longitudinal': 974, '11 mm de diamètre': 975, 'testa': 976, '3-5 cm de diamètre': 977, 'striés': 978, '25 mm de diamètre': 979, 'serretés': 980, 'sépales': 981, 'fines': 982, 'stipules': 983, 'blanche': 984, 'straminés': 985, 'inclusus': 986, 'apex': 987, 'oviforme': 988, 'ellipsoïdes': 989, 'canaliculés': 990, 'mucroné': 991, 'ovés-linéaires': 992, 'pubérulentes': 993, 'distincte': 994, '6-7 mm de diamètre': 995, 'demi-embrassante': 996, 'ovales-acuminés': 997, 'géniculé': 998, '1-2,5 mm de diamètre': 999, '5 cm de longueur': 1000, 'port': 1001, 'étalés': 1002, 'gibbeux': 1003, 'bractées': 1004, 'fructifères': 1005, '4-7 mm de longueur': 1006, 'griffes': 1007, 'minusve': 1008, 'fleuries': 1009, 'obovées-oblongues': 1010, 'nombreux': 1011, 'poilues': 1012, 'effacée': 1013, '15 cm de longueur': 1014, '2,5-4-)5-15 mm de diamètre': 1015, 'apicule': 1016, 'zigzagantes': 1017, 'émarginé': 1018, 'relevés': 1019, 'résineux': 1020, 'cuticule': 1021, 'épicarpe': 1022, 'dormant': 1023, 'contractés': 1024, 'compactes': 1025, '1,2-4 mm de largeur': 1026, 'allongées': 1027, '0,07 mm de diamètre': 1028, 'globuleuses-déprimées': 1029, 'armé': 1030, 'micro-sporophylles': 1031, 'fimbriées': 1032, 'follicule': 1033, 'hirsutes': 1034, 'obtus': 1035, '0,6 mm de largeur': 1036, 'dents': 1037, 'bifurquées': 1038, 'sub-opposées': 1039, '2-20 mm de long': 1040, 'toxique': 1041, 'papilleux': 1042, '15-25 mm de diamètre': 1043, 'lilas': 1044, 'vert': 1045, '8,2-17 mm de longueur': 1046, 'bractéoles': 1047, 'bipennatiséquées': 1048, 'voyants': 1049, 'toutes': 1050, 'complet': 1051, 'ovale-elliptique': 1052, '40-60 cm de diamètre': 1053, 'ovale-triangulaire': 1054, '5,5-7 mm de diamètre': 1055, 'paille': 1056, 'clairs': 1057, 'dense': 1058, 'ombellules': 1059, 'pédoncule': 1060, '0,7 mm de long': 1061, 'hasté-allongé': 1062, 'centrale': 1063, 'pinnules': 1064, 'rhomboïdal': 1065, 'visqueux': 1066, 'parfumés': 1067, 'pointus': 1068, 'clavi-formes': 1069, 'ové-aigu': 1070, 'raie': 1071, '5-12 mm de largeur': 1072, 'incomplet': 1073, 'sub-sessiles': 1074, '4-13 mm de longueur': 1075, '8-15 mm de long': 1076, 'elliptique-acuminé': 1077, 'adhérentes': 1078, 'imparipennées': 1079, '2,5-4 mm de largeur': 1080, 'intermédiaire': 1081, '2,8-3,5 mm de diamètre': 1082, 'courtes': 1083, 'capsule': 1084, 'émarginés': 1085, 'géminés': 1086, 'trilobé': 1087, 'ovoïde-cordifor': 1088, 'rampant': 1089, 'septicide': 1090, 'stipitée': 1091, 'résine': 1092, 'aigu-acuminé': 1093, 'alternipétales': 1094, 'vrilles': 1095, 'feutrés': 1096, 'postérieur': 1097, '2-3 mm de diamètre': 1098, '35 cm de diamètre': 1099, 'bisannuelle': 1100, 'filiformes': 1101, 'pellucides': 1102, 'bordées': 1103, 'crénelées': 1104, 'elliptiques-oblongs': 1105, 'fixées': 1106, 'prononcée': 1107, '2-4,5 mm de longueur': 1108, 'staminal': 1109, 'profond': 1110, 'tomenteux-velu': 1111, 'dentés-sinués': 1112, 'pseudobulbe': 1113, 'secondes': 1114, 'aile': 1115, 'pubescent': 1116, 'arquées': 1117, '5-15 mm de diamètre': 1118, '2-2,5 mm de diamètre': 1119, 'plate': 1120, 'lèvre': 1121, '20-25 mm de longueur': 1122, 'linéaires-oblongues': 1123, 'cauliflores': 1124, 'sessile': 1125, 'subcharnu': 1126, '0,5-3 mm de long': 1127, 'décussées': 1128, 'anatropes': 1129, 'érigé': 1130, 'défini': 1131, 'raies': 1132, 'avorté': 1133, '10-50 mm de long': 1134, 'sinué-pennatifide': 1135, 'pseudo-écailles': 1136, '1,5-1,7 cm de longueur': 1137, 'arbrisseau': 1138, 'pousses': 1139, 'discrètes': 1140, 'corymbiformes': 1141, 'succulentes': 1142, 'effilées': 1143, 'enflé': 1144, 'rhizome': 1145, 'renflés': 1146, '2-3-dentés': 1147, 'rameuse': 1148, 'obtuses': 1149, '1-3 m de hauteur': 1150, 'seconde': 1151, '15 mm de longueur': 1152, '3 cm de longueur': 1153, 'pâle': 1154, 'hérissée': 1155, 'adnée': 1156, 'ovoïde-ellipsoïde': 1157, '3-4,5 mm de largeur': 1158, 'cylindrique-siliquiforme': 1159, 'monocaule': 1160, 'herbacé': 1161, 'lancéolés-obtus': 1162, 'simples': 1163, 'jaune-vert': 1164, 'jeune': 1165, 'laciniée': 1166, '0,8-1,1 mm de largeur': 1167, 'microsporo-phylles': 1168, 'mucronés': 1169, 'rotacées-étoilées': 1170, 'monocarpique': 1171, 'bases': 1172, 'lancéolée': 1173, 'tard': 1174, '0,6-1,2 mm de longueur': 1175, 'cylindriques-fusiformes': 1176, 'pubérulente': 1177, 'abimées': 1178, 'oblongues-ovées': 1179, 'sub-hasté': 1180, '15-20 mm de diamètre': 1181, '30 cm de longueur': 1182, 'mûrs': 1183, 'oblancéolée': 1184, 'anastomosées': 1185, 'gondolées': 1186, 'dimorphisme': 1187, 'psendobulbes': 1188, 'bilobées': 1189, 'mûr': 1190, 'glabres': 1191, 'angle': 1192, 'gracieuse': 1193, 'arrondie-cordée': 1194, 'lancéo-lées-acuminées': 1195, 'buisson': 1196, 'acuminées': 1197, 'rouge-orange': 1198, 'allongé': 1199, 'ramifiés': 1200, 'velus-pubescents': 1201, 'dichotomes': 1202, 'irrégulières': 1203, '14-17 mm de longueur': 1204, 'épaulée': 1205, 'distal': 1206, '10-12 cm de diamètre': 1207, 'courte': 1208, 'oblongue-sagittée': 1209, '50 m de hauteur': 1210, 'cloisons': 1211, 'ciliolée': 1212, 'partout': 1213, '35-110 mm de long': 1214, '1,2-1,5 mm de diamètre': 1215, 'papillifère': 1216, 'spatulées': 1217, 'caudé-acuminé': 1218, 'arquée': 1219, 'convexes': 1220, 'rosette': 1221, 'linéaires-triangulaires': 1222, 'tube': 1223, 'nuls': 1224, '4-loculaire': 1225, 'décurrentes': 1226, 'glabrescentes': 1227, '11-15 mm de diamètre': 1228, 'fovéolées': 1229, 'alternitépales': 1230, '4-4,5 mm de diamètre': 1231, 'uniformes': 1232, 'aigrette': 1233, 'connectifs': 1234, '6 cm de largeur': 1235, 'glabrescente': 1236, 'contigus': 1237, 'fugaces': 1238, 'mamelon': 1239, 'pendant': 1240, '2-7 mm de longueur': 1241, 'exsudat': 1242, '1-2 mm de largeur': 1243, 'porte': 1244, 'glabrescent': 1245, '15-90 mm de long': 1246, 'fusiformes-arqués': 1247, 'corps': 1248, 'lignifiée': 1249, '5-35 cm de diamètre': 1250, 'inciso-crénelées': 1251, 'rhomboïdales': 1252, 'grimpante': 1253, 'carénées': 1254, 'pédicelles': 1255, 'insertions': 1256, 'cimier': 1257, 'traçante': 1258, 'linéaire-lancéolée': 1259, '60 cm de largeur': 1260, 'plantille': 1261, 'pistil': 1262, 'bourgeons': 1263, 'supra-axillaires': 1264, 'onduleux': 1265, '35 mm de diamètre': 1266, '0,36-0,45 mm de diamètre': 1267, '3-4 cm de diamètre': 1268, 'sépale': 1269, 'foliaire': 1270, 'affine': 1271, 'subulées': 1272, 'rigides': 1273, 'paroi': 1274, 'bipare': 1275, 'latrorses': 1276, 'apiculé': 1277, 'bisexués': 1278, 'biovulées': 1279, '2 mm de diamètre': 1280, 'sagitté': 1281, 'velu-laineux': 1282, 'calices': 1283, '0,3 mm de longueur': 1284, 'ouvert': 1285, 'alvéolée': 1286, 'obovale-spalulé': 1287, '30-50 mm de longueur': 1288, 'persistantes': 1289, 'obovées-elliptiques': 1290, 'involute': 1291, 'saxicole': 1292, 'ovale-rhomboïdal': 1293, 'ternées': 1294, 'visibles': 1295, 'lancéolés-linéaires': 1296, 'grand': 1297, 'articulés': 1298, 'végétatifs': 1299, 'cléistogames': 1300, '5-lobes': 1301, 'soies': 1302, 'segment': 1303, 'ovales-linéaires': 1304, 'ovales-rectangulaires': 1305, 'oblongues-lancéolées': 1306, 'glandes': 1307, '9 mm de longueur': 1308, '2,5-4,5 mm de diamètre': 1309, 'engainante': 1310, '1 cm de largeur': 1311, 'triangulaires-hastées': 1312, 'anthères': 1313, '6 m de haut': 1314, '4-6 cm de diamètre': 1315, 'apiculés': 1316, '0,5-10 mm de long': 1317, 'naturalisée': 1318, 'pétiolules': 1319, '10,5 mm de longueur': 1320, 'pauciflores': 1321, 'muriquée': 1322, 'brillante': 1323, 'corymbes': 1324, 'fourchues': 1325, 'ellipsoïde-oblongue': 1326, '1-1,5 mm de diamètre': 1327, 'hyaline': 1328, 'involucre': 1329, 'rares': 1330, 'duvet': 1331, 'obové-elliptique': 1332, 'tri-pennatipartites': 1333, 'rapprochées': 1334, '0,7-1,5 mm de longueur': 1335, 'polymorphes': 1336, 'tissus': 1337, 'lancéolées-subtriangulaires': 1338, 'voisine': 1339, 'oblongues-falciformes': 1340, 'costales': 1341, '40 m de hauteur': 1342, 'imbriqués': 1343, 'florales': 1344, '0,8-1 mm de largeur': 1345, '12 mm de longueur': 1346, '5-loculaire': 1347, 'cordiformes': 1348, 'lavées': 1349, 'calicule': 1350, 'punctiforme': 1351, 'divergentes': 1352, 'divariqués': 1353, 'tronquées': 1354, 'dressés-étalés': 1355, 'frangés': 1356, '6 mm de diamètre': 1357, 'graines': 1358, 'échelon': 1359, 'cymules': 1360, 'velues-soyeuses': 1361, 'squamiformes': 1362, 'nectaire': 1363, 'rotacées': 1364, 'noir': 1365, 'violettes': 1366, 'hermaphrodites': 1367, 'comprimée-ailée': 1368, '20 cm de diamètre': 1369, 'sombre': 1370, 'marquées': 1371, 'test': 1372, '2,5-3 cm de largeur': 1373, 'àpédicelle': 1374, '2 cm de largeur': 1375, 'punc-tiformes': 1376, 'déhiscence': 1377, 'pomme': 1378, '29-50 mm de longueur': 1379, 'adjacente': 1380, 'velu-soyeux': 1381, '3 cm de long': 1382, 'réticulum': 1383, '0,12 mm de diamètre': 1384, 'cordé-sagitté': 1385, 'glauque': 1386, 'entiers': 1387, '13 mm de long': 1388, 'floral': 1389, '12 mm de diamètre': 1390, 'obovales-elliptiques': 1391, '1-1,2 mm de diamètre': 1392, '5-6 mm de longueur': 1393, 'bombée': 1394, 'tomenteux-soyeux': 1395, 'pseudocymes': 1396, '2-4-pennatiséquées': 1397, 'étalées-dressées': 1398, 'dormants': 1399, 'sub-)globuleux': 1400, 'subulées-triangulaires': 1401, 'pseudo-verticilles': 1402, 'ponctué': 1403, '8 mm de diamètre': 1404, 'dressés': 1405, 'paniculées-cymeuses': 1406, 'épaisse': 1407, 'velu': 1408, 'arborescente': 1409, 'dressées-étalées': 1410, 'profondes': 1411, 'sporanges': 1412, '4-8 mm de longueur': 1413, '2-3-composés': 1414, 'àpseudobulbes': 1415, 'soyeux-pubérulent': 1416, '11 cm de longueur': 1417, '25-70 mm de long': 1418, 'sillonnée-verruqueuse': 1419, 'armés': 1420, 'accordent': 1421, '3 mm de diamètre': 1422, 'supère': 1423, 'crénelées-dentées': 1424, 'gaufrées': 1425, '4-9 mm de diamètre': 1426, '5-90 mm de long': 1427, 'aphylle': 1428, 'différentes': 1429, 'rhizophores': 1430, 'denses': 1431, 'article': 1432, 'semi-ouverte': 1433, 'velues-tomenteuses': 1434, '9 mm de diamètre': 1435, 'mucronulées': 1436, 'solitaire': 1437, '1-3-lobées': 1438, '0,8 cm de diamètre': 1439, 'étalé': 1440, 'labelle': 1441, 'fine': 1442, 'scrobiculé': 1443, 'lavés': 1444, 'grande': 1445, 'basilaire': 1446, 'jaunes': 1447, '4 cm de diamètre': 1448, 'spatuliforme': 1449, 'cour': 1450, 'ovés-cordiformes': 1451, '0,8-1 mm de diamètre': 1452, 'asymétriques': 1453, 'sinueuse': 1454, '3 m de haut': 1455, 'obtuse-arrondie': 1456, 'subapical': 1457, 'étalés-récurvés': 1458, 'collet': 1459, 'atténuées': 1460, 'néoténique': 1461, 'mate': 1462, 'obpyriformes': 1463, 'rétus': 1464, 'abondantes': 1465, '8-15 cm de diamètre': 1466, 'deltoïde': 1467, 'difficile': 1468, 'ellipsoïde': 1469, 'herbacées': 1470, 'primordiale': 1471, 'lignifiés': 1472, 'fendillée': 1473, 'pubes-cents': 1474, 'elliptique-spatulé': 1475, 'semblables': 1476, '5-10 cm de diamètre': 1477, 'court': 1478, 'sinués-ondulés': 1479, '2-3-denté': 1480, 'continues': 1481, 'lobés': 1482, 'campanulé-étoilé': 1483, 'érigés': 1484, 'discales': 1485, '1,2-1,5 cm de longueur': 1486, 'ponctuée': 1487, '1,1 mm de diamètre': 1488, 'importants': 1489, '4-8 mm de largeur': 1490, 'jeunes': 1491, 'oblongs-obovés': 1492, 'tachée': 1493, '40 cm de longueur': 1494, 'superficielles': 1495, 'ovales-allongées': 1496, 'pubescente': 1497, 'sétacés': 1498, 'genouillé': 1499, 'callus': 1500, 'velu-pubescent': 1501, 'ronde': 1502, 'précédente': 1503, 'adhérents': 1504, 'nettes': 1505, '3 mm de largeur': 1506, '20-100 mm de long': 1507, 'silicules': 1508, '0,6-0,9 mm de longueur': 1509, 'peltées': 1510, 'cannelée': 1511, 'rotacée': 1512, 'opposées-décussées': 1513, 'sublaineux-soyeux': 1514, 'rameux': 1515, '1 cm de longueur': 1516, 'ferrugineux-sublaineux': 1517, 'panthèse': 1518, '50 cm de diamètre': 1519, 'stipité': 1520, 'cordée-aiguë': 1521, 'furqués': 1522, 'effacé': 1523, 'visqueuses': 1524, 'réduites': 1525, 'courbées': 1526, 'moins': 1527, 'nectaires': 1528, '4-5 mm de diamètre': 1529, 'garnies': 1530, 'fur-furacé': 1531, 'albumen': 1532, 'exsertes': 1533, '5 cm de diamètre': 1534, 'ovaires': 1535, 'apocarpe': 1536, 'oléagineux': 1537, 'aciculaires': 1538, 'cicatrices': 1539, 'unisexuées': 1540, 'velus': 1541, 'bifide': 1542, 'staminodes': 1543, 'digitée': 1544, '6-9 mm de diamètre': 1545, 'indigène': 1546, 'imprimés': 1547, 'membraneux': 1548, 'branchu': 1549, 'cupuliformes': 1550, 'dressé': 1551, 'corymbe': 1552, 'bleu-pourpre': 1553, '9-18 mm de diamètre': 1554, 'englobe': 1555, 'clair': 1556, 'semi-érigé': 1557, 'réfléchi': 1558, 'indusie': 1559, 'réseau': 1560, 'florale': 1561, 'abaxial': 1562, 'ondulée-dentelée': 1563, 'pivotante': 1564, 'érodées': 1565, 'apprimes': 1566, 'herbe': 1567, 'parcheminé': 1568, 'tronqué': 1569, 'graciles': 1570, '10 mm de diamètre': 1571, 'anastomoses': 1572, 'littorales': 1573, 'concave': 1574, '18-20 mm de diamètre': 1575, 'obové-oblong': 1576, '4 m de hauteur': 1577, 'uniforme': 1578, 'fruits': 1579, '7 m de haut': 1580, 'fins': 1581, 'cupuli-forme': 1582, 'onguiculé': 1583, 'calleux': 1584, 'involutée': 1585, 'monades': 1586, '5 mm de diamètre': 1587, '60 cm de longueur': 1588, 'sommitales': 1589, 'bruns-pubérulents': 1590, '0,7-1,1 mm de diamètre': 1591, '1-5 cm de longueur': 1592, 'apparente': 1593, '3-8 mm de diamètre': 1594, 'foliacée': 1595, 'condensées': 1596, 'jaune-verdâtre': 1597, 'émoussée': 1598, 'nouées': 1599, 'enfoncé': 1600, 'ondulée-dentée': 1601, '5-7 cm de longueur': 1602, '2-lobé': 1603, 'pseudo-fascicules': 1604, 'ellipsoïde-globuleux': 1605, 'stigmates': 1606, 'torsadé': 1607, 'crénelés': 1608, 'tronquée-arrondie': 1609, 'brillant': 1610, 'arête': 1611, 'glabre': 1612, 'étalée': 1613, 'elliptique-oblong': 1614, 'ellipsoïde-ovoïde': 1615, '7-8 mm de longueur': 1616, '2,2 mm de diamètre': 1617, 'linéaires-subulées': 1618, 'obovales': 1619, '4,5-5,5 mm de diamètre': 1620, 'gaines': 1621, '40 cm de diamètre': 1622, '45-120 mm de long': 1623, 'comprimés-ancipités': 1624, 'cunéée': 1625, 'tubuleux-campanulé': 1626, 'ouvertes': 1627, 'insérées': 1628, 'racemiformes': 1629, 'flabellée': 1630, 'linéaire-oblong': 1631, 'sinué-pinnatifide': 1632, 'ciliées': 1633, 'végétative': 1634, 'oblongues-ellip': 1635, '6,5 cm de long': 1636, '8 m de hauteur': 1637, '2-3 mm de longueur': 1638, '2,5-3,5 mm de diamètre': 1639, 'obovale-elliptique': 1640, 'fimbriée': 1641, 'linéaires': 1642, 'sétacées': 1643, 'profonde': 1644, 'rouge-brun': 1645, 'tropicale': 1646, 'filaments': 1647, 'nectarifères': 1648, 'pennatiséquées': 1649, 'velus-tomenteux': 1650, '8-10 cm de diamètre': 1651, 'imprimée': 1652, 'loin': 1653, 'unilatérales': 1654, 'crispée': 1655, 'aphylles': 1656, 'denticulées': 1657, 'contreforts': 1658, 'conservé': 1659, '3,5 cm de diamètre': 1660, '2-3 mm de largeur': 1661, '60-700 mm de long': 1662, '1,5-1,8 mm de diamètre': 1663, 'subellipsoïdes': 1664, 'linéaire-oblongue': 1665, 'adnées': 1666, 'staminale': 1667, '3,5 cm de longueur': 1668, 'comme': 1669, 'cunéiforme-tronquée': 1670, 'stigmatiques': 1671, 'crénelures': 1672, '20-24 mm de diamètre': 1673, 'ondulées': 1674, 'incluse': 1675, 'appliquée': 1676, '2,5 mm de diamètre': 1677, 'pieds': 1678, 'inférieurs': 1679, 'fhypanthium': 1680, 'cannelés': 1681, 'déprimés': 1682, 'amplexicaules': 1683, '4,5-9 mm de longueur': 1684, 'ailes': 1685, 'compacte': 1686, 'auriculees': 1687, 'amplexicaule': 1688, 'inégaux': 1689, 'galle': 1690, 'ovée-oblongue': 1691, 'protubérances': 1692, 'soyeux-argentés': 1693, '0,5-1 mm de diamètre': 1694, '1,5 mm de long': 1695, 'rameaux': 1696, '5-8 mm de diamètre': 1697, 'ovoïde': 1698, '15 m de hauteur': 1699, 'luisant': 1700, 'accusée': 1701, 'charnus': 1702, 'capitules': 1703, 'nombreuses': 1704, 'striées': 1705, 'vertes': 1706, '4,5-7 mm de largeur': 1707, 'dolabriformes': 1708, '0,3 cm de largeur': 1709, 'triangulaires-acuminés': 1710, 'avortées': 1711, 'émoussées': 1712, 'pennatipartites': 1713, 'indéhiscents': 1714, 'sporophylle': 1715, 'divergents': 1716, 'hypanthium': 1717, 'biovulés': 1718, 'gros': 1719, '3 mm de longueur': 1720, 'marginale': 1721, '2,5-4 mm de diamètre': 1722, 'bilabiée': 1723, '1-2 cm de diamètre': 1724, 'orbiculaire': 1725, 'habitat': 1726, 'cylindriques': 1727, 'concolores': 1728, 'placentation': 1729, 'acuminé': 1730, 'cylindrique-ovale': 1731, '8-11 mm de diamètre': 1732, 'stries': 1733, 'inférieures': 1734, 'étroits': 1735, 'obovale-lancéolé': 1736, 'ombellule': 1737, 'filet': 1738, 'patel-liforme': 1739, 'fournies': 1740, 'hérissés': 1741, 'aisselle': 1742, 'stolons': 1743, 'falqué': 1744, 'lisses': 1745, 'orthotropes': 1746, '1,5-4 cm de largeur': 1747, 'basifixe': 1748, '8-10 mm de diamètre': 1749, 'épigées': 1750, '6 m de hauteur': 1751, 'composées-pennées': 1752, 'fanthèse': 1753, 'naviculaires': 1754, 'polliniques': 1755, 'persistante': 1756, 'tout': 1757, 'cupule': 1758, 'long': 1759, '1-2 mm de longueur': 1760, 'terminales': 1761, '4-9 cm de long': 1762, 'renflée': 1763, 'scarieux': 1764, '2-5 mm de largeur': 1765, 'oblong-obové': 1766, 'tubuleux': 1767, 'fleuris': 1768, '5-15 cm de longueur': 1769, 'développées': 1770, '35-100 mm de long': 1771, 'tomenteux-rubigineux': 1772, 'rétrécie': 1773, 'ovoïdes': 1774, 'tiges': 1775, 'anciennes': 1776, 'cata-phylles': 1777, 'accrescent': 1778, 'stipulaires': 1779, 'foncées': 1780, 'rosettes': 1781, 'crénelé-denté': 1782, 'thyrses': 1783, 'feuille': 1784, 'obconique': 1785, 'effilée': 1786, 'protologue': 1787, 'sore': 1788, 'ovales-subaigus': 1789, 'aigu': 1790, 'cavité': 1791, 'sagittée': 1792, 'raide': 1793, 'oblongue-ellipsoïde': 1794, 'fétide': 1795, 'tanthèse': 1796, 'linéaires-obovées': 1797, 'plates': 1798, 'asymétrique': 1799, 'contractée': 1800, '10 mm de longueur': 1801, 'rectilignes': 1802, 'pubescente-duveteuse': 1803, '5-denté': 1804, '10-30 cm de longueur': 1805, 'échancrées': 1806, 'capité-bilobé': 1807, 'partite': 1808, 'bord': 1809, '2-3-lobé': 1810, 'spatulé-elliptique': 1811, 'pachycaule': 1812, 'rapprochés': 1813, '9-lobées': 1814, 'glanduleux': 1815, 'plein': 1816, 'lustrées': 1817, '3-3,7 mm de diamètre': 1818, 'souche': 1819, 'oblongue': 1820, 'fépiderme': 1821, 'rudes': 1822, '12-14 mm de diamètre': 1823, '7 mm de diamètre': 1824, 'verticillées': 1825, '0,5 mm de diamètre': 1826, 'uni-sériées': 1827, 'fréquent': 1828, '2,4 mm de long': 1829, '0,18-0,27 mm de diamètre': 1830, '1,5-2 mm de largeur': 1831, 'dichotomiques-cymeuses': 1832, 'anthère': 1833, 'ovoïdes-coniques': 1834, 'frisée': 1835, 'effacées': 1836, 'marge': 1837, 'incurvée': 1838, 'cavités': 1839, '4,3 cm de longueur': 1840, 'étroit': 1841, 'apiculées': 1842, 'écailleux': 1843, '6-10 mm de longueur': 1844, 'brunâtres': 1845, 'tronqués': 1846, '20-50 cm de diamètre': 1847, '4-7 cm de longueur': 1848, 'extrorses': 1849, 'cylindriques-arqués': 1850, '8-9 mm de largeur': 1851, 'valable': 1852, 'pulpeux': 1853, 'fimbriées-frangées': 1854, '1,2-1,4 mm de largeur': 1855, 'poilu': 1856, 'fruit': 1857, '7 mm de longueur': 1858, 'soyeux': 1859, 'triangulaires-apiculés': 1860, 'oblongues-linéaires': 1861, 'micropyle': 1862, 'ovale-lancéolé': 1863, '5-6 mm de diamètre': 1864, 'panduri-forme': 1865, 'transversales': 1866, 'imprimées': 1867, 'fortes': 1868, 'adjacentes-axillaires': 1869, 'pennée': 1870, 'épars': 1871, '1-2 m de hauteur': 1872, '0,06-0,12 mm de diamètre': 1873, 'intermédiaires': 1874, 'pulvérulentes': 1875, '25 cm de longueur': 1876, 'ailés': 1877, 'incisées-iobées': 1878, 'rhom-boïdal-spatulé': 1879, 'purpurines': 1880, '14-17 mm de largeur': 1881, 'variable': 1882, 'incisée-pinnatiflde': 1883, '3,5-4 cm de diamètre': 1884, 'stigmatique': 1885, 'raides-coriaces': 1886, 'épis': 1887, '10-nervé': 1888, 'mucronulé': 1889, 'séminales': 1890, 'obtus-aigu': 1891, 'capités': 1892, 'odorantes': 1893, 'papyracées': 1894, 'pennatifides': 1895, 'basilaires': 1896, 'cordé': 1897, 'fovéolée': 1898, 'alêne': 1899, '3-5 mm de longueur': 1900, 'fimbrié': 1901, '37-55 mm de longueur': 1902, 'effilés': 1903, '10 cm de diamètre': 1904, '9)-lobée': 1905, 'fleur': 1906, '4-8 mm de long': 1907, 'soyeux-tomentelleux': 1908, 'hyalins': 1909, 'oblongues-acuminées': 1910, '15-30 cm de diamètre': 1911, 'suave': 1912, 'micro-poils': 1913, 'velue-argentée': 1914, '0,5-0,7 cm de diamètre': 1915, 'ové-lancéolé': 1916, 'glanduleux-pubescent': 1917, '0,4-0,6 cm de diamètre': 1918, 'sub-émarginé': 1919, 'lancéolés-oblongs': 1920, 'tige': 1921, 'disséqué': 1922, 'soyeux-tomenteux': 1923, '30 m de hauteur': 1924, '4 mm de diamètre': 1925, 'oblongues': 1926, 'caudée': 1927, 'sacs': 1928, 'veloutés-tomenteux': 1929, 'rubanée': 1930, '17 cm de longueur': 1931, 'frutescente': 1932, 'densé': 1933, 'terminale': 1934, 'pétiolaire': 1935, 'articulations': 1936, 'opposé': 1937, 'distales': 1938, 'sub-orbiculaires': 1939, 'obovales-spatulées': 1940, 'pollinie': 1941, '0,8-1,1 mm de diamètre': 1942, 'enroulés': 1943, 'tordu': 1944, 'lobé': 1945, '60 cm de diamètre': 1946, 'yerticilles': 1947, 'striolés': 1948, 'longitudinales': 1949, 'genouillés': 1950, '6 mm de largeur': 1951, 'denticuliforme': 1952, 'scabres': 1953, 'ponctiformes': 1954, 'épaulement': 1955, 'inflorescence': 1956, '8-9 cm de diamètre': 1957, 'fasciculées': 1958, '1-4 mm de longueur': 1959, 'corniculés': 1960, 'penné': 1961, 'récurvée': 1962, 'parallèle': 1963, 'flabellé-deltoïde': 1964, 'particuliers': 1965, 'pluriloculaires': 1966, 'sons-arbrisseau': 1967, 'bilabiés': 1968, 'marqués': 1969, '3-4-loculaire': 1970, '0,95-1,5 cm de longueur': 1971, 'grappes': 1972, '1,5 mm de largeur': 1973, 'terrestres': 1974, 'deltoïdes': 1975, 'arrondies-émoussées': 1976, '2 cm de longueur': 1977, 'marcottage': 1978, 'poil': 1979, 'dentés': 1980, 'graine': 1981, 'lancéolés-triangulaires': 1982, 'caroncule': 1983, 'filiforme': 1984, 'ovés-elliptiques': 1985, 'ové-cordé': 1986, 'aliforme': 1987, 'espacées': 1988, 'diffus': 1989, 'lingui-formes': 1990, 'fibreux': 1991, 'aiguës': 1992, 'arrondi': 1993, '2,5 mm de longueur': 1994, 'dimorphes': 1995, 'composées': 1996, '2;5-3 mm de diamètre': 1997, 'violette': 1998, 'épais': 1999, '100-180 mm de long': 2000, 'cucullé': 2001, 'terminal': 2002, 'albuminées': 2003, 'aréole': 2004, 'fleurs': 2005, 'coussinets': 2006, 'caulinaires': 2007, 'visible': 2008, 'orbiculaires': 2009, 'ové-oblong': 2010, 'apparent': 2011, 'lèvres': 2012, 'lobée-dentée': 2013, 'facile': 2014, 'défléchies': 2015, 'elliptique-ovale': 2016, 'cellules': 2017, 'persistants': 2018, 'indéhiscent': 2019, 'ondulés-sinués': 2020, 'fovéolé': 2021, 'liane': 2022, 'lancéolées-linéaires': 2023, 'basses': 2024, 'monopodiales': 2025, '20-40 cm de longueur': 2026, 'verticilles': 2027, 'serrulé': 2028, 'oblique': 2029, 'circulaires': 2030, 'pseudo-stipules': 2031, '18-25 mm de diamètre': 2032, 'tendent': 2033, 'obovale': 2034, 'introrses': 2035, 'ascendentes': 2036, 'rebord': 2037, 'pentamères': 2038, 'prostré': 2039, 'linaires-subulées': 2040, 'digités': 2041, 'macrophylle': 2042, 'récurvées': 2043, 'triangulaires-lancéolés': 2044, 'valve': 2045, 'ondulée': 2046, 'bec': 2047, '20-25 mm de diamètre': 2048, 'exposée': 2049, 'noix': 2050, 'accolés': 2051, 'suprabasal': 2052, 'pied': 2053, 'pendantes': 2054, 'glaucescente': 2055, 'gamosépale': 2056, 'étalés-réflé': 2057, '3-4 cm de longueur': 2058, 'soyeux-argenté': 2059, 'endémiques': 2060, '2,5-3,2 cm de longueur': 2061, 'fibres': 2062, '4,5 mm de long': 2063, 'hypocotyle': 2064, 'parfumé': 2065, '5-6 mm de long': 2066, '20-40 mm de diamètre': 2067, 'prophylles': 2068, '0,3 mm de diamètre': 2069, 'robustes': 2070, 'toruleux': 2071, 'sillonnée': 2072, 'exocarpe': 2073, 'apprimées': 2074, 'ascendant': 2075, 'ovales-triangulaires': 2076, 'bisexuées': 2077, 'gaufrée': 2078, 'mamelonné': 2079, 'sub-latrorses': 2080, 'écartés': 2081, 'échan-crées': 2082, 'régulière': 2083, 'dentées': 2084, 'spathulées-linéaires': 2085, 'lianiformes': 2086, 'bidentes': 2087, '8-12 cm de diamètre': 2088, 'apertures': 2089, 'composés': 2090, 'confluent': 2091, '22-28 mm de diamètre': 2092, 'vertical': 2093, 'panicule': 2094, 'base': 2095, 'atténuée-aiguë': 2096, 'pendants': 2097, 'arrondi-obtus': 2098, 'distinct': 2099, 'sympodial': 2100, 'rotacé': 2101, 'pâles': 2102, 'vasculaires': 2103, 'opercule': 2104, 'foliaires': 2105, 'sub-acuminés': 2106, 'cupuliforme': 2107, 'crénelée': 2108, 'raides': 2109, 'décurrents': 2110, 'pseudo-mono-caule': 2111, 'costule': 2112, '0,8 cm de longueur': 2113, 'velue': 2114, 'pulpe': 2115, 'papilles': 2116, '14 mm de longueur': 2117, 'sub-coriace': 2118, 'pruineux': 2119, '2-4-lobé': 2120, 'avortée': 2121, 'phyllodes': 2122, 'carpelle': 2123, 'pantropicale': 2124, 'compacts': 2125, 'exsert': 2126, '5,5-10 mm de longueur': 2127, 'spiciformes': 2128, 'faisceaux': 2129, '4-5-lobé': 2130, 'parenchyme': 2131, 'inéquilatères': 2132, 'cotylédons': 2133, 'livide': 2134, 'chargées': 2135, 'commun': 2136, 'petites': 2137, '1,5-2,5 mm de diamètre': 2138, 'cannelé': 2139, 'liseré': 2140, 'gynécée': 2141, 'sac': 2142, 'sores': 2143, 'ridé': 2144, 'sinués': 2145, 'jaune-orange': 2146, 'vapicule': 2147, 'armées': 2148, 'obovées-lancéolées': 2149, 'diffuse': 2150, 'recurves': 2151, 'sub-bipennées': 2152, '1,5 cm de largeur': 2153, 'androcée': 2154, 'elliptiques-cochléariformes': 2155, 'réguliers': 2156, '7-8 mm de diamètre': 2157, 'serrulée': 2158, 'élevées': 2159, 'atténué': 2160, 'crevassée': 2161, '3-5-lobée': 2162, 'velouté': 2163, '5-9 mm de diamètre': 2164, '1-2-loculaires': 2165, 'tomenteux': 2166, 'velouté-pubescent': 2167, 'turbiné': 2168, 'éparse': 2169, 'épithète': 2170, 'brunâtre': 2171, 'zygomorphes': 2172, 'elliptique-rhomboïdal': 2173, 'framboise': 2174, 'lancéolées-ovales': 2175, '10-150 mm de long': 2176, '70 cm de diamètre': 2177, 'fimbriés': 2178, 'crénelé-glanduleux': 2179, '12 mm de long': 2180, '16 mm de diamètre': 2181, 'libre': 2182, 'comprimé': 2183, 'planes': 2184, 'arbre': 2185, 'marginal': 2186, 'bifurquée': 2187, 'veine': 2188, 'brun-rouge': 2189, 'racèmes': 2190, 'différents': 2191, 'rubanées': 2192, '70 cm de longueur': 2193, 'ovales-oblongues': 2194, 'gluant': 2195, 'acuminés': 2196, 'érigées': 2197, '2-5 m de hauteur': 2198, 'serrées': 2199, 'ouverts': 2200, 'précises': 2201, 'spathiforme': 2202, 'obovale-oblong': 2203, 'épaisses': 2204, 'gynophore': 2205, 'remontant': 2206, 'ombilic': 2207, 'obovoïde-oblong': 2208, 'caduc': 2209, 'étalés-dressés': 2210, '26-70 mm de longueur': 2211, 'dichotomique': 2212, 'asymétrique-ment': 2213, 'bractéole': 2214, 'embrassantes': 2215, 'connées': 2216, '1-1,5 mm de longueur': 2217, 'anthérode': 2218, 'infra-staminale': 2219, 'acuminés-caudés': 2220, 'épaissie': 2221, 'tordus': 2222, 'réceptacles': 2223, 'velu-hispide': 2224, 'hispide': 2225, 'confluentes': 2226, 'dioïque': 2227, 'épitropes': 2228, 'arêtes': 2229, 'ponctuations': 2230, '12-15 cm de longueur': 2231, 'bractée': 2232, 'globuleux': 2233, 'bleu': 2234, 'cals': 2235, 'calice': 2236, 'plantes': 2237, 'caudées': 2238, 'fronde': 2239, 'bipennée': 2240, 'papillifères': 2241, 'hypocra-tériforme': 2242, 'sillonnés': 2243, 'spatulé-obové': 2244, 'cladodes': 2245, 'écaille': 2246, '2 mm de long': 2247, '5-2 mm de largeur': 2248, 'mamelonnées': 2249, '7-9 cm de diamètre': 2250, 'pédicelle': 2251, 'commissure': 2252, 'pluricaules': 2253, 'ferrugineux-pâle': 2254, 'pétiolule': 2255, 'ovoïde-turbiné': 2256, 'arbres': 2257, 'stipités': 2258, 'hispides-hirsutes': 2259, 'épaissi': 2260, 'follicules': 2261, 'pseudobulbes': 2262, '0,8-1,3 cm de longueur': 2263, 'ombelli-formes': 2264, 'ovales-triangu': 2265, 'penne': 2266, 'spécifiques': 2267, '0,7 cm de largeur': 2268, 'latex': 2269, 'latérales-adjacentes': 2270, 'accusé': 2271, 'souches': 2272, 'serré': 2273, 'glanduleux-pubescents': 2274, '5-10 mm de diamètre': 2275, 'lancéolées': 2276, 'aplati': 2277, 'volubile': 2278, 'épipétales': 2279, 'dilaté': 2280, '2,5 cm de longueur': 2281, '1 mm de longueur': 2282, 'nervilles': 2283, '0,9 cm de largeur': 2284, 'tachées': 2285, 'dentés-serretés': 2286, 'inflorescences': 2287, 'fournis': 2288, 'sub-bilobé': 2289, 'grêle': 2290, 'ligule': 2291, 'ové-elliptique': 2292, 'styles': 2293, '3-lobé': 2294, 'fondé': 2295, '0,7 mm de largeur': 2296, 'ondulée-crénelée': 2297, 'nervures': 2298, 'égales': 2299, 'concolore': 2300, 'graminiforme': 2301, 'nervés': 2302, '150-500 mm de long': 2303, 'buissonnant': 2304, 'moniliforme': 2305, '10-20 cm de diamètre': 2306, 'obtus-arrondi': 2307, 'stomates': 2308, 'serretée-pubescente': 2309, 'appendices': 2310, 'imbriquées': 2311, 'dentelés': 2312, 'inférieure': 2313, 'réfléchies': 2314, 'onguiculés': 2315, 'crateriformes': 2316, 'endémique': 2317, '3-10 mm de longueur': 2318, 'phyllotaxie': 2319, 'frondaison': 2320, 'sillonnées': 2321, 'actiminé': 2322, 'répandue': 2323, 'réfléchis': 2324, 'cunéé': 2325, 'lames': 2326, 'claviformes': 2327, 'méricarpe': 2328, 'variables': 2329, 'auriculée': 2330, 'linéaire-lancéolé': 2331, 'étalées': 2332, 'étamines': 2333, '5-15 mm de long': 2334, '20-30 mm de long': 2335, 'capité-lobé': 2336, 'ouverte': 2337, 'radiés': 2338, 'continue': 2339, '7-20 mm de longueur': 2340, 'ampoule': 2341, 'contracté': 2342, 'bords': 2343, 'étroites': 2344, '0,2 mm de largeur': 2345, 'sécrétion': 2346, 'stri-guleux-pubérulent': 2347, 'bordé': 2348, 'forts': 2349, 'flabelliformes': 2350, 'feuillets': 2351, 'anneau': 2352, 'oreillettes': 2353, 'urcéolée': 2354, 'spores': 2355, 'ciliolés': 2356, 'pseudo-stipité': 2357, 'lancéolé-aigu': 2358, 'gousses': 2359, 'apicules': 2360, '10 cm de longueur': 2361, 'sigmoïde': 2362, 'lancéolées-subulées': 2363, '4-15 cm de diamètre': 2364, 'filets': 2365, 'disque': 2366, 'ripicole': 2367, '3-3,5 cm de diamètre': 2368, 'claviforme': 2369, 'exserts': 2370, 'orthotrope': 2371, '5-7 cm de diamètre': 2372, 'soudées': 2373, 'elliptique-lancéolé': 2374, 'ovale': 2375, 'proximale': 2376, '5-11 mm de longueur': 2377, 'lineari-filiformes': 2378, 'longistyles': 2379, '6-8,2 mm de longueur': 2380, 'oblongs-ovoïdes': 2381, 'crochues': 2382, 'fistuleux': 2383, 'angles': 2384, '2,7 mm de diamètre': 2385, 'genres': 2386, 'microsporophylles': 2387, 'foncés': 2388, '1,5 m de haut': 2389, 'tépales': 2390, 'subaigus-mucronulés': 2391, 'fermé': 2392, '1-1,5 cm de diamètre': 2393, 'divergente': 2394, 'jaunâtres': 2395, '25 cm de diamètre': 2396, 'raides-chartacées': 2397, 'dioïques': 2398, '20 cm de largeur': 2399, 'suffrutex': 2400, 'deltoïdes-ovales': 2401, '7 cm de longueur': 2402, '1 mm de largeur': 2403, '80 cm de diamètre': 2404, '1 mm de diamètre': 2405, 'ramifiée': 2406, 'ciliés': 2407, 'pseudo-stipe': 2408, '7 mm de long': 2409, 'canescents-pubescents': 2410, '0,5-2 mm de diamètre': 2411, 'loculicide': 2412, 'poils': 2413, 'oblong-elliptique': 2414, 'frisés': 2415, 'mucronulés': 2416, '12-13 mm de diamètre': 2417, 'rameau': 2418, 'acuminée': 2419, '1-2 mm de diamètre': 2420, 'aristées': 2421, 'cuspidée': 2422, 'pointue': 2423, 'cambré': 2424, '3,5 mm de longueur': 2425, 'distique': 2426, '6-10 cm de longueur': 2427, 'papyracée': 2428, '6-7 mm de longueur': 2429, 'courts': 2430, '12 cm de longueur': 2431, 'filiformes-ciliés': 2432, 'lame': 2433, 'rouge': 2434, 'bordés': 2435, 'réticulé': 2436, 'basiscopique': 2437, 'haute': 2438, '4-5 cm de diamètre': 2439, 'graminée': 2440, 'coalescents-soudés': 2441, 'cylindrique': 2442, 'tétramères': 2443, '15 m de haut': 2444, 'foncé': 2445, 'amincie': 2446, 'intriquées': 2447, '5-7 mm de largeur': 2448, 'rudimentaires': 2449, 'prolifère': 2450, 'ciliée': 2451, '1,5 mm de longueur': 2452, 'écailleux-rugueux': 2453, 'inermes': 2454, 'blanches': 2455, 'ombel-liformes': 2456, 'arrondis': 2457, 'aigu-glanduleux': 2458, 'divergent': 2459, 'terrestre': 2460, 'marqué': 2461, 'limbe': 2462, 'linéaire-ovale': 2463, 'spathes': 2464, '1,6-1,8 mm de diamètre': 2465, 'contournées': 2466, 'infrutescences': 2467, 'couronnes': 2468, 'floconneux': 2469, '4-6 mm de diamètre': 2470, 'triangulaires-deltoïdes': 2471, 'stériles': 2472, 'contractées': 2473, 'dentés-lobés': 2474, 'aplaties': 2475, 'déviée': 2476, 'apparents': 2477, '2,5-4 cm de diamètre': 2478, 'spatulée': 2479, 'monophylles': 2480, 'sinué-lobé': 2481, 'denticule': 2482, 'rejets': 2483, 'luisants': 2484, 'dissymétrique': 2485, 'sporophylles': 2486, 'développée': 2487, 'veloutées': 2488, 'aiguë-acuminée': 2489, 'tubercule': 2490, 'falciformes': 2491, '6 cm de diamètre': 2492, 'cordés': 2493, 'striés-anguleux': 2494, 'crateriforme': 2495, '1,3 mm de diamètre': 2496, 'aristé': 2497, 'anthèse': 2498, 'vert-jaune': 2499, 'nervation': 2500, 'obcordées': 2501, 'dressée': 2502, '15 cm de diamètre': 2503, 'pubescente-glanduleuse': 2504, 'cya-thiforme': 2505, 'conniventes': 2506, 'invisible': 2507, 'pruine': 2508, 'velu-tomenteux': 2509, 'dorsifixe': 2510, '2,5-)3-8,5 cm de long': 2511, 'voisines': 2512, 'contracté-descendant': 2513, '4-5 mm de largeur': 2514, '2-3 mm de long': 2515, 'aigus': 2516, 'lacinié': 2517, '1,8 cm de diamètre': 2518, 'coudé': 2519, 'indistinctes': 2520, 'grimpantes': 2521, 'sutures': 2522, 'pollinies': 2523, '1,5 cm de diamètre': 2524, '0,4 cm de diamètre': 2525, 'hypocratériforme': 2526, '11-13 mm de longueur': 2527, 'soudé': 2528, 'digitiforme': 2529, 'saillants': 2530, 'urcéolé': 2531, 'groupées': 2532, '9 cm de longueur': 2533, 'arrondie': 2534, '27-33 mm de longueur': 2535, 'âgés': 2536, '3-5 mm de largeur': 2537, '3-7 mm de diamètre': 2538, 'axillantes': 2539, 'serrée': 2540, 'cosmopolite': 2541, 'accusées': 2542, 'style': 2543, '10-40 cm de longueur': 2544, '2,5-3,3 mm de longueur': 2545, 'obtuse-aiguë': 2546, 'mûre': 2547, 'obovales-lancéolées': 2548, 'strigueux': 2549, 'orange': 2550, 'lobées': 2551, 'costa': 2552, 'apprimé': 2553, 'ponctués': 2554, 'asymétriques-falciformes': 2555, 'anthérodes': 2556, 'racème': 2557, 'petits': 2558, 'ligneuse': 2559, 'falciforme': 2560, 'secondaires': 2561, 'cime': 2562, '15 cm de largeur': 2563, 'cuné': 2564, '1,7 cm de largeur': 2565, 'hérissées': 2566, 'arrondies-atténuées': 2567, 'déprimé': 2568, '8 cm de longueur': 2569, 'grimpant': 2570, 'herbacée': 2571, 'ovale-cordé': 2572, 'callosité': 2573, 'fût': 2574, 'triade': 2575, 'bisériées': 2576, 'papille': 2577, 'péri-apicales': 2578, 'décurrent': 2579, 'circulaire-rhomboïdal': 2580, 'denté-échancré': 2581, 'persistant': 2582, '3-6,5 cm de largeur': 2583, 'obovés-oblongs': 2584, 'denté-crénelé': 2585, 'éparses': 2586, 'oblongs-lancéolés': 2587, 'rouges': 2588, 'pubescentes-veloutées': 2589, 'rugueuse': 2590, 'domaties': 2591, 'campanulee': 2592, 'ovales-obtus': 2593, '5-lobé': 2594, 'capillaires': 2595, 'campanulées': 2596, 'tomenteux-ferrugineux': 2597, 'marginales': 2598, 'comprimée': 2599, 'rapporte': 2600, 'hirsute': 2601, '4,5-5 cm de diamètre': 2602, 'hydathodes': 2603, 'baies': 2604, 'discale': 2605, '3-4-loculaires': 2606, 'pédicelle-hypanthium': 2607, 'botuliforme': 2608, 'voyantes': 2609, 'similaire': 2610, 'auriculées': 2611, 'serré-denté': 2612, 'racine': 2613, 'bacciformes': 2614, 'rampante': 2615, 'lagéniforme': 2616, '0,2 mm de diamètre': 2617, '0,8 mm de largeur': 2618, 'bilabié': 2619, 'secondaire': 2620, 'quadrilobés': 2621, 'grossi': 2622, 'plante': 2623, 'crustacé': 2624, '4 cm de longueur': 2625, 'révolutée': 2626, 'ponctuées': 2627, 'hétéromorphes': 2628, 'bifurqué': 2629, '2-loculaire': 2630, 'âgées': 2631, 'déchiquetés': 2632, '8-10 m de hauteur': 2633, 'cupu-liforme': 2634, 'rameuses': 2635, 'ondulés': 2636, '12-25 mm de longueur': 2637, 'aciculaire': 2638, '3,5-4 mm de diamètre': 2639, 'couronne': 2640, '20-60 mm de long': 2641, 'canal': 2642, 'cymes': 2643, 'comprimés': 2644, '3-4-pennatiséquées': 2645, 'chartacées': 2646, 'traçant': 2647, 'corolles': 2648, 'pétales': 2649, 'robuste': 2650, 'dimidiés-oblongs': 2651, 'réfracté': 2652, 'petite': 2653, '4-10 mm de diamètre': 2654, 'atténuée': 2655, 'bourgeon': 2656, 'fusiforme': 2657, '3,3-4,5 mm de diamètre': 2658, 'biloculaire': 2659, 'épiderme': 2660, 'amande': 2661, 'pilosité': 2662, 'ovés-lancéolés': 2663, 'incurvés': 2664, 'dentée': 2665, 'oblongues-elliptiques': 2666, 'oblong-linéaire': 2667, 'incluses': 2668, 'acuminé-aigu': 2669, 'jaune-doré': 2670, 'oranges': 2671, 'oblancéolé-elliptique': 2672, '10-900 mm de long': 2673, 'profonds': 2674, 'longtemps': 2675, 'fort': 2676, '2-4 m de hauteur': 2677, 'cultivars': 2678, 'équitantes': 2679, '1,8-2,5 mm de longueur': 2680, 'incisés': 2681, 'aubier': 2682, 'infundibuliforme': 2683, 'pariétale': 2684, 'oblongue-elliptique': 2685, '43-57 mm de longueur': 2686, 'troncs': 2687, 'concerne': 2688, 'écailles': 2689, 'demi-étalées': 2690, 'torsadées': 2691, 'linéaires-deltoïdes': 2692, 'tégument': 2693, '18-28 mm de diamètre': 2694, 'corymbiforme': 2695, 'réduit': 2696, 'défléchis': 2697, 'gousse': 2698, 'pétiolaires': 2699, 'bran-rouge': 2700, 'pubescente-soyeuse': 2701, 'subacaule': 2702, 'pétiole': 2703, 'composé': 2704, 'irréguliers': 2705, 'collerette': 2706, 'velus-rubigineux': 2707, '2-3 cm de diamètre': 2708, 'préfloraison': 2709, 'ové-aigus': 2710, '9-)-lobé': 2711, '20-90 mm de long': 2712, 'léger': 2713, 'ronds': 2714, 'scape': 2715, 'triquètre': 2716, '9-18 mm de longueur': 2717, 'confluents': 2718, 'hypoderme': 2719, 'renflées': 2720, 'mésocarpe': 2721, 'versatiles': 2722, 'révo-lutée': 2723, 'évasé': 2724, 'frondes': 2725, 'indiscernables': 2726, 'soie': 2727, 'ascendante': 2728, 'forte': 2729, '0,7 mm de longueur': 2730, 'indice': 2731, 'échancrés': 2732, '2-3 m de hauteur': 2733, 'inégales': 2734, '2-4 mm de diamètre': 2735, 'ovales-elliptiques': 2736, '<PAD>': 2737}\n",
            "{'SURFACE': 0, 'ORGANE': 1, 'POSITION': 2, 'FORME': 3, 'COULEUR': 4, 'DISPOSITION': 5, 'STRUCTURE': 6, 'DESCRIPTEUR': 7, 'MESURE': 8, 'DEVELOPPEMENT': 9, '<PAD>': 10}\n"
          ]
        }
      ],
      "source": [
        "# Ajouter le token <PAD> avec un indice spécifique\n",
        "PAD_TOKEN = \"<PAD>\"\n",
        "\n",
        "# Ajouter le <PAD> dans les dictionnaires `word_to_ix` et `tag_to_ix`\n",
        "word_to_ix[PAD_TOKEN] = len(word_to_ix)  # L'indice de <PAD> est défini comme le prochain indice disponible\n",
        "tag_to_ix[PAD_TOKEN] = len(tag_to_ix)  # De même pour les tags\n",
        "\n",
        "# Vérifier les dictionnaires pour s'assurer que <PAD> est bien ajouté\n",
        "print(word_to_ix)\n",
        "print(tag_to_ix)\n"
      ]
    },
    {
      "cell_type": "code",
      "execution_count": 22,
      "metadata": {
        "id": "qCL-5lPmQ2ea"
      },
      "outputs": [],
      "source": [
        "import torch\n",
        "def prepare_sequence(sequence, word_to_ix):\n",
        "    # Transformer une séquence de mots en indices à partir du dictionnaire `word_to_ix`\n",
        "    return torch.tensor([word_to_ix[word] for word in sequence], dtype=torch.long)\n",
        "\n",
        "def prepare_tag_sequence(tags, tag_to_ix):\n",
        "    # Transformer une séquence de tags en indices\n",
        "    return torch.tensor([tag_to_ix[tag] for tag in tags], dtype=torch.long)\n"
      ]
    },
    {
      "cell_type": "code",
      "execution_count": 23,
      "metadata": {
        "colab": {
          "base_uri": "https://localhost:8080/"
        },
        "id": "7g7TdouuRIY-",
        "outputId": "d8656cda-b6f0-4917-c35c-4c62a5e08e8c"
      },
      "outputs": [
        {
          "output_type": "stream",
          "name": "stdout",
          "text": [
            "TRAINING DATA\n",
            "Number of sequences: 536\n",
            "--------------------------------------------------\n",
            "TESTING DATA\n",
            "Number of sequences: 168\n",
            "--------------------------------------------------\n",
            "VALIDATION DATA\n",
            "Number of sequences: 134\n"
          ]
        }
      ],
      "source": [
        "from sklearn.model_selection import train_test_split\n",
        "\n",
        "SPLIT_SIZE = 0.2\n",
        "\n",
        "# Diviser l'ensemble complet de données en ensembles d'entraînement et de test\n",
        "X_train, X_test, Y_train, Y_test = train_test_split(X, Y, test_size=SPLIT_SIZE, random_state=4)\n",
        "\n",
        "# Diviser les données d'entraînement en ensembles d'entraînement et de validation\n",
        "X_train, X_val, Y_train, Y_val = train_test_split(X_train, Y_train, test_size=SPLIT_SIZE, random_state=4)\n",
        "\n",
        "# Afficher le nombre d'exemples dans chaque ensemble\n",
        "print(\"TRAINING DATA\")\n",
        "print('Number of sequences: {}'.format(len(X_train)))\n",
        "print(\"-\"*50)\n",
        "print(\"TESTING DATA\")\n",
        "print('Number of sequences: {}'.format(len(X_test)))\n",
        "print(\"-\"*50)\n",
        "print(\"VALIDATION DATA\")\n",
        "print('Number of sequences: {}'.format(len(X_val)))\n"
      ]
    },
    {
      "cell_type": "code",
      "execution_count": 24,
      "metadata": {
        "id": "3et3NGvmRao7"
      },
      "outputs": [],
      "source": [
        "import torch\n",
        "import torch.nn as nn\n",
        "import torch.nn.functional as F\n",
        "\n",
        "class LSTM(nn.Module):\n",
        "    def __init__(self, input_size, hidden_size, output_size):\n",
        "        super(LSTM, self).__init__()\n",
        "\n",
        "        self.hidden_size = hidden_size\n",
        "\n",
        "        # GATES - Weight matrices\n",
        "        self.Wxi = nn.Linear(input_size, hidden_size)  # Input gate weights for input\n",
        "        self.Whi = nn.Linear(hidden_size, hidden_size)  # Input gate weights for hidden state\n",
        "        self.Wxf = nn.Linear(input_size, hidden_size)  # Forget gate weights for input\n",
        "        self.Whf = nn.Linear(hidden_size, hidden_size)  # Forget gate weights for hidden state\n",
        "        self.Wxo = nn.Linear(input_size, hidden_size)  # Output gate weights for input\n",
        "        self.Who = nn.Linear(hidden_size, hidden_size)  # Output gate weights for hidden state\n",
        "        self.Wxg = nn.Linear(input_size, hidden_size)  # Candidate gate weights for input\n",
        "        self.Whg = nn.Linear(hidden_size, hidden_size)  # Candidate gate weights for hidden state\n",
        "\n",
        "        # Biases for each gate\n",
        "        self.bi = nn.Parameter(torch.zeros(hidden_size))\n",
        "        self.bf = nn.Parameter(torch.zeros(hidden_size))\n",
        "        self.bo = nn.Parameter(torch.zeros(hidden_size))\n",
        "        self.bc = nn.Parameter(torch.zeros(hidden_size))\n",
        "\n",
        "        # Output layer\n",
        "        self.h2o = nn.Linear(hidden_size, output_size)\n",
        "\n",
        "    def forward(self, sentence):\n",
        "        output = []\n",
        "        device = sentence.device  # Récupère le dispositif des données (CPU ou GPU)\n",
        "        h_t = torch.zeros(1, self.hidden_size, device=device)  # Initial hidden state\n",
        "        c_t = torch.zeros(1, self.hidden_size, device=device)  # Initial cell state\n",
        "\n",
        "        for x_t in sentence:\n",
        "            # Input gate\n",
        "            i_t = torch.sigmoid(self.Wxi(x_t) + self.Whi(h_t) + self.bi)\n",
        "            # Forget gate\n",
        "            f_t = torch.sigmoid(self.Wxf(x_t) + self.Whf(h_t) + self.bf)\n",
        "            # Output gate\n",
        "            o_t = torch.sigmoid(self.Wxo(x_t) + self.Who(h_t) + self.bo)\n",
        "            # Candidate memory cell\n",
        "            g_t = torch.tanh(self.Wxg(x_t) + self.Whg(h_t) + self.bc)\n",
        "\n",
        "            # Update cell state\n",
        "            c_t = f_t * c_t + i_t * g_t\n",
        "\n",
        "            # Update hidden state\n",
        "            h_t = o_t * torch.tanh(c_t)\n",
        "\n",
        "            # Compute output\n",
        "            out = self.h2o(h_t)\n",
        "            output.append(out)\n",
        "\n",
        "        output = torch.stack(output)\n",
        "        return output, (h_t, c_t)\n",
        "\n",
        "    def initHidden(self, device='cpu'):\n",
        "        # Initialisation du hidden state pour un dispositif spécifique\n",
        "        return torch.zeros(1, self.hidden_size, device=device)\n"
      ]
    },
    {
      "cell_type": "code",
      "execution_count": 25,
      "metadata": {
        "id": "JpNIj57sTrWq"
      },
      "outputs": [],
      "source": [
        "class POSTagger(nn.Module):\n",
        "    def __init__(self, embedding_dim, hidden_dim, vocab_size, tagset_size):\n",
        "        super(POSTagger, self).__init__()\n",
        "        self.hidden_dim = hidden_dim\n",
        "\n",
        "        self.word_embeddings = nn.Embedding(vocab_size, embedding_dim)\n",
        "        self.lstm = LSTM(embedding_dim, hidden_dim, hidden_dim)  # Utilisation de votre LSTM personnalisé\n",
        "        self.hidden2tag = nn.Linear(hidden_dim, tagset_size)\n",
        "\n",
        "    def forward(self, sentence):\n",
        "        embeds = self.word_embeddings(sentence)\n",
        "        lstm_out, _ = self.lstm(embeds)  # La sortie de LSTM est de forme (seq_len, batch_size, hidden_dim)\n",
        "\n",
        "        # Redimensionner la sortie de LSTM pour être compatible avec hidden2tag\n",
        "        lstm_out = lstm_out.view(-1, self.hidden_dim)  # Redimensionner en (batch_size * seq_len, hidden_dim)\n",
        "\n",
        "        tag_scores = self.hidden2tag(lstm_out)  # Appliquer la couche linéaire\n",
        "\n",
        "        return tag_scores\n"
      ]
    },
    {
      "cell_type": "code",
      "execution_count": 26,
      "metadata": {
        "id": "ebgCbyxrUanH"
      },
      "outputs": [],
      "source": [
        "import torch.optim as optim\n",
        "\n",
        "# Hyperparamètres\n",
        "EMBEDDING_DIM = 256\n",
        "HIDDEN_DIM = 200\n",
        "EPOCHS =50\n",
        "LEARNING_RATE = 0.001\n"
      ]
    },
    {
      "cell_type": "code",
      "execution_count": 27,
      "metadata": {
        "id": "GeRmqooUVSrR"
      },
      "outputs": [],
      "source": [
        "# Initialisation du modèle\n",
        "num_words = len(word_to_ix)  # Taille du vocabulaire\n",
        "num_tags = len(tag_to_ix)  # Nombre de tags POS\n",
        "model = POSTagger(EMBEDDING_DIM, HIDDEN_DIM, num_words, num_tags)\n",
        "\n"
      ]
    },
    {
      "cell_type": "code",
      "execution_count": 28,
      "metadata": {
        "id": "crCp-XFbVUr1"
      },
      "outputs": [],
      "source": [
        "\n",
        "# Fonction de perte et Optimiseur\n",
        "loss_function = nn.CrossEntropyLoss()\n",
        "optimizer = optim.Adam(model.parameters(), lr=LEARNING_RATE)\n"
      ]
    },
    {
      "cell_type": "code",
      "execution_count": 29,
      "metadata": {
        "colab": {
          "base_uri": "https://localhost:8080/"
        },
        "id": "2XQObivIWt0Y",
        "outputId": "46803599-f6cd-407f-d3e9-494157b83255"
      },
      "outputs": [
        {
          "output_type": "stream",
          "name": "stdout",
          "text": [
            "Using device: cpu\n",
            "Tag scores before training:\n",
            "tensor([[ 0.1074,  0.0492, -0.0129, -0.0103, -0.1444, -0.0512, -0.0734, -0.0123,\n",
            "         -0.1241,  0.0120, -0.0635],\n",
            "        [ 0.0203,  0.0348,  0.0391, -0.0438, -0.0926,  0.0094, -0.0821, -0.0405,\n",
            "         -0.0988,  0.0146, -0.0591],\n",
            "        [ 0.0865,  0.0504, -0.0594, -0.0087, -0.1105,  0.0157, -0.1111, -0.0482,\n",
            "         -0.0865,  0.0226, -0.0906],\n",
            "        [ 0.1224,  0.0662, -0.0654, -0.0682, -0.0975,  0.0433, -0.0858, -0.0445,\n",
            "         -0.0411, -0.0277, -0.0654],\n",
            "        [ 0.0694,  0.0148, -0.0204, -0.0830, -0.1076, -0.0100, -0.0192, -0.0595,\n",
            "         -0.0758, -0.0116, -0.0743],\n",
            "        [ 0.0829, -0.0224, -0.0118, -0.0294, -0.1611,  0.0056, -0.0478,  0.0015,\n",
            "         -0.0857, -0.0925, -0.0338],\n",
            "        [ 0.0813,  0.0596,  0.0005, -0.0810, -0.0637, -0.0833, -0.0854,  0.0144,\n",
            "         -0.0660, -0.0569, -0.0221],\n",
            "        [ 0.0380,  0.0287,  0.0770, -0.0375, -0.0900, -0.1147, -0.1143,  0.0087,\n",
            "         -0.0078, -0.0427, -0.1008],\n",
            "        [ 0.0178,  0.0249,  0.0204, -0.0356, -0.1251, -0.1123, -0.0746, -0.0430,\n",
            "          0.0126, -0.0537, -0.0977],\n",
            "        [ 0.0771,  0.0187,  0.0106, -0.0082, -0.0617, -0.0661, -0.0468, -0.0203,\n",
            "         -0.1067, -0.0995, -0.0543],\n",
            "        [ 0.0656,  0.0594,  0.0139, -0.0407, -0.0344, -0.0079, -0.0115, -0.0089,\n",
            "         -0.0976, -0.0192, -0.0959],\n",
            "        [ 0.0745,  0.0484, -0.0117, -0.0030, -0.0922, -0.0286,  0.0087, -0.0716,\n",
            "         -0.1108, -0.0837, -0.0142],\n",
            "        [ 0.1015,  0.0964, -0.0025, -0.0709, -0.0334, -0.1062, -0.0402, -0.0145,\n",
            "         -0.0775, -0.0407, -0.0310],\n",
            "        [ 0.1048,  0.0690, -0.0476, -0.0921, -0.0770, -0.0178, -0.0166, -0.0221,\n",
            "         -0.0225, -0.0629, -0.0396],\n",
            "        [ 0.0748,  0.0320, -0.0108, -0.1307, -0.1473, -0.0003, -0.0325, -0.0350,\n",
            "         -0.0947,  0.0291, -0.1117],\n",
            "        [ 0.1385,  0.0466, -0.0397, -0.0730, -0.0510, -0.0621, -0.0803, -0.0280,\n",
            "         -0.0287, -0.0394, -0.0781],\n",
            "        [ 0.1158,  0.0401, -0.0614, -0.0562, -0.1150,  0.0015, -0.0339, -0.0782,\n",
            "         -0.1165,  0.0389, -0.0817],\n",
            "        [ 0.1837, -0.0365, -0.0570, -0.0604, -0.1601,  0.0149, -0.0250, -0.0056,\n",
            "         -0.0333,  0.0240, -0.0944],\n",
            "        [ 0.1089, -0.0236, -0.0083, -0.0953, -0.1421, -0.0298,  0.0162, -0.0221,\n",
            "         -0.0803,  0.0094, -0.1012],\n",
            "        [ 0.0991,  0.0606, -0.0275, -0.1659, -0.2101, -0.0853,  0.0424, -0.0739,\n",
            "         -0.0605, -0.0209, -0.0984],\n",
            "        [ 0.1166,  0.0672, -0.0456, -0.1289, -0.1451, -0.0833,  0.0021, -0.0237,\n",
            "         -0.0775, -0.0534, -0.0250],\n",
            "        [ 0.1308,  0.0356, -0.0338, -0.1083, -0.1282, -0.0283, -0.0173, -0.0139,\n",
            "         -0.1112, -0.0247, -0.1196],\n",
            "        [ 0.1945,  0.0714, -0.0728, -0.0854, -0.1930, -0.0215,  0.0150, -0.0309,\n",
            "         -0.0926, -0.0768, -0.0491],\n",
            "        [ 0.1113,  0.0239, -0.0281, -0.1021, -0.1545, -0.0321,  0.0133, -0.0488,\n",
            "         -0.0940, -0.0629, -0.0668],\n",
            "        [ 0.0763,  0.0573,  0.0154, -0.1142, -0.1186, -0.0082, -0.0008, -0.1384,\n",
            "         -0.0923, -0.0326, -0.0598],\n",
            "        [ 0.0235,  0.0269, -0.0144, -0.0925, -0.1498, -0.0584, -0.0012, -0.1207,\n",
            "         -0.0145, -0.0712, -0.0782],\n",
            "        [ 0.0716,  0.0337, -0.0122, -0.0629, -0.1500, -0.0155, -0.0401, -0.0578,\n",
            "         -0.0214, -0.0500, -0.1195],\n",
            "        [ 0.0626,  0.0586, -0.0230,  0.0026, -0.1537, -0.0650, -0.0154, -0.0826,\n",
            "         -0.0641, -0.1099, -0.0389],\n",
            "        [ 0.0272,  0.0416, -0.0049, -0.0636, -0.1379, -0.0673,  0.0064, -0.0747,\n",
            "         -0.0849, -0.0698, -0.0960],\n",
            "        [ 0.0467,  0.0962,  0.0062, -0.0037, -0.1159, -0.0309, -0.0019, -0.1306,\n",
            "         -0.0248, -0.0778, -0.0552],\n",
            "        [ 0.0751,  0.1277,  0.0054, -0.0652, -0.0465, -0.1015, -0.0457, -0.0508,\n",
            "         -0.0454, -0.0392, -0.0478],\n",
            "        [ 0.0914,  0.1159,  0.0955, -0.0824, -0.1190, -0.0757, -0.0486, -0.0103,\n",
            "          0.0134, -0.0784, -0.1566],\n",
            "        [ 0.1478,  0.1046,  0.0491, -0.1125, -0.0939, -0.0125, -0.0183,  0.0034,\n",
            "         -0.0455, -0.0209, -0.0972],\n",
            "        [ 0.1357,  0.0774, -0.0076, -0.1113, -0.1000,  0.0404, -0.0248, -0.0220,\n",
            "          0.0011, -0.0649, -0.0752],\n",
            "        [ 0.0926,  0.0679, -0.0949, -0.0862, -0.1343,  0.0306, -0.0778,  0.0517,\n",
            "         -0.0636, -0.0097, -0.1485],\n",
            "        [ 0.0345,  0.0390, -0.0415, -0.0953, -0.1006,  0.0174, -0.1003, -0.0091,\n",
            "         -0.0847,  0.0014, -0.1394],\n",
            "        [ 0.0536,  0.1130, -0.0312, -0.0316, -0.0506,  0.0406, -0.0555, -0.0753,\n",
            "         -0.0326, -0.0160, -0.0887],\n",
            "        [ 0.1389, -0.0431, -0.0935, -0.0325, -0.0939,  0.0793, -0.0892, -0.0546,\n",
            "         -0.0315, -0.0829, -0.0751],\n",
            "        [ 0.0744,  0.0791, -0.1213,  0.0331, -0.0790,  0.0155, -0.0894, -0.0263,\n",
            "         -0.0231,  0.0379, -0.0936],\n",
            "        [ 0.0708,  0.0440, -0.0174,  0.0028, -0.0550,  0.0097, -0.0298, -0.0411,\n",
            "         -0.0277,  0.0416, -0.0904],\n",
            "        [ 0.0683,  0.0379,  0.0314, -0.0485, -0.0995,  0.0190, -0.0058, -0.0144,\n",
            "         -0.0558,  0.0702, -0.1745],\n",
            "        [ 0.0482,  0.0766,  0.0153, -0.1116, -0.1463,  0.0695,  0.0180, -0.0374,\n",
            "         -0.0509, -0.0266, -0.0653],\n",
            "        [-0.0029,  0.0565,  0.0404, -0.0773, -0.1467,  0.0004,  0.0187, -0.0159,\n",
            "         -0.1028, -0.0326, -0.0210],\n",
            "        [ 0.0169,  0.0180,  0.0324, -0.1134, -0.1540, -0.0488,  0.0386, -0.0384,\n",
            "         -0.0963, -0.0143, -0.0765],\n",
            "        [ 0.0301,  0.0331,  0.0267, -0.1020, -0.1674, -0.0440,  0.0639, -0.0083,\n",
            "         -0.0844,  0.0237, -0.0799],\n",
            "        [ 0.0335,  0.0500,  0.0010, -0.0215, -0.1675, -0.0812,  0.0580, -0.0433,\n",
            "         -0.1130, -0.0676, -0.0393],\n",
            "        [ 0.0305,  0.0076, -0.0431, -0.0576, -0.1662, -0.0742,  0.0080, -0.0509,\n",
            "         -0.0188, -0.0767, -0.0919],\n",
            "        [ 0.0365,  0.0448,  0.0413, -0.0624, -0.0591, -0.0711, -0.0235, -0.0789,\n",
            "         -0.0077, -0.1097, -0.0720],\n",
            "        [ 0.0672,  0.0935,  0.0098,  0.0047, -0.0707, -0.0792, -0.0328, -0.0212,\n",
            "         -0.0522, -0.1075, -0.0797],\n",
            "        [ 0.0707, -0.0010,  0.0089, -0.0207, -0.1594, -0.0565, -0.0355,  0.0097,\n",
            "         -0.0784, -0.1389, -0.0392],\n",
            "        [ 0.1090,  0.0296,  0.0632, -0.0699, -0.1092,  0.0141, -0.0259, -0.0768,\n",
            "         -0.0357, -0.0449, -0.1082],\n",
            "        [ 0.1101,  0.0430, -0.0282, -0.0988, -0.1036,  0.0332, -0.0398, -0.0386,\n",
            "         -0.0120, -0.0498, -0.0796],\n",
            "        [ 0.1332,  0.1312, -0.0783, -0.0620, -0.0857,  0.0255, -0.0406, -0.0326,\n",
            "         -0.0857, -0.0451, -0.0795],\n",
            "        [ 0.1329,  0.1116, -0.0010, -0.1157, -0.0785,  0.0306, -0.0370, -0.0339,\n",
            "         -0.1088, -0.0193, -0.0802],\n",
            "        [ 0.0790,  0.0357,  0.0171, -0.1172, -0.1360, -0.0476, -0.0040, -0.0607,\n",
            "         -0.1128,  0.0024, -0.0849],\n",
            "        [ 0.1069,  0.0662, -0.0356, -0.1101, -0.1102,  0.0036, -0.0313, -0.0595,\n",
            "         -0.0300, -0.0536, -0.0706],\n",
            "        [ 0.1443,  0.0757, -0.0786, -0.0832, -0.1703, -0.0370, -0.0532, -0.1386,\n",
            "         -0.0242, -0.0081, -0.0600],\n",
            "        [ 0.0991,  0.0657, -0.0521, -0.0050, -0.1478, -0.0409, -0.0021, -0.1021,\n",
            "         -0.0753, -0.0913, -0.0169],\n",
            "        [ 0.1171,  0.0506, -0.0724, -0.0665, -0.1211,  0.0056, -0.0050, -0.0709,\n",
            "         -0.0083, -0.0913, -0.0414],\n",
            "        [ 0.0561,  0.0757,  0.0019, -0.1172, -0.0951, -0.0008, -0.0111, -0.1567,\n",
            "         -0.0721, -0.0360, -0.0499],\n",
            "        [ 0.0202,  0.0497, -0.0098, -0.0256, -0.1010, -0.0636, -0.0288, -0.0657,\n",
            "         -0.0813,  0.0191, -0.0771],\n",
            "        [ 0.0888,  0.0487,  0.0279, -0.0876, -0.0938, -0.1091, -0.0281, -0.0144,\n",
            "         -0.0801,  0.0095, -0.1162],\n",
            "        [ 0.0533,  0.0469,  0.0582, -0.1409, -0.0862, -0.1370, -0.0098, -0.1204,\n",
            "         -0.2033, -0.0595, -0.1211],\n",
            "        [ 0.0437,  0.0573,  0.0591, -0.1660, -0.0745, -0.1322,  0.0028, -0.1535,\n",
            "         -0.2332, -0.0975, -0.1061],\n",
            "        [-0.0223,  0.0294,  0.0527, -0.1124, -0.1319, -0.0934,  0.0093, -0.0984,\n",
            "         -0.2182, -0.0581, -0.0486],\n",
            "        [ 0.0319,  0.0534,  0.0526, -0.0236, -0.0905, -0.0690,  0.0356,  0.0029,\n",
            "         -0.0952, -0.1041, -0.0562],\n",
            "        [ 0.1079,  0.0379,  0.0397, -0.1281, -0.1007,  0.0294,  0.0316,  0.0125,\n",
            "         -0.1112, -0.0590, -0.0811],\n",
            "        [ 0.1254,  0.0545,  0.0789, -0.1005, -0.0064, -0.0387, -0.0654,  0.0231,\n",
            "         -0.1653, -0.0380, -0.1053],\n",
            "        [ 0.0259,  0.0750,  0.0738, -0.1256, -0.0529, -0.0145,  0.0008, -0.0120,\n",
            "         -0.1234,  0.0375, -0.1283],\n",
            "        [ 0.0311,  0.0744,  0.0319, -0.0025, -0.0570, -0.0856, -0.0390, -0.0023,\n",
            "         -0.1023, -0.0087, -0.1131],\n",
            "        [ 0.0826,  0.0428,  0.0189, -0.0334, -0.1198, -0.1119, -0.0674,  0.0193,\n",
            "         -0.0785, -0.0229, -0.1011],\n",
            "        [ 0.1036, -0.0203,  0.0311, -0.0208, -0.0628, -0.0637, -0.0440,  0.0142,\n",
            "         -0.1102, -0.0272, -0.1077],\n",
            "        [ 0.0375,  0.0013,  0.0670, -0.0244, -0.0837, -0.0727, -0.0328,  0.0163,\n",
            "         -0.1403, -0.0378, -0.0529],\n",
            "        [ 0.0670,  0.0188,  0.0547, -0.0414, -0.1105, -0.0919, -0.0619,  0.0255,\n",
            "         -0.0985, -0.0410, -0.0933],\n",
            "        [ 0.1314, -0.0008,  0.0298, -0.0558, -0.1228,  0.0137, -0.0611, -0.0149,\n",
            "         -0.0354, -0.0186, -0.1010],\n",
            "        [ 0.0418,  0.0172,  0.0617, -0.0633, -0.1232, -0.0308, -0.0344, -0.0103,\n",
            "         -0.1334, -0.0359, -0.0295]])\n"
          ]
        }
      ],
      "source": [
        "# Détection automatique du dispositif (GPU ou CPU)\n",
        "device = torch.device('cpu')\n",
        "\n",
        "print(f\"Using device: {device}\")\n",
        "\n",
        "# Préparer le modèle sur le dispositif détecté\n",
        "model = POSTagger(EMBEDDING_DIM, HIDDEN_DIM, num_words, num_tags).to(device)\n",
        "\n",
        "# Tester les scores avant l'entraînement\n",
        "with torch.no_grad():\n",
        "    # Préparer la première phrase du jeu d'entraînement sur le bon dispositif\n",
        "    inputs = prepare_sequence(X_train[0], word_to_ix).to(device)\n",
        "\n",
        "    # Obtenir les scores des tags\n",
        "    tag_scores = model(inputs)\n",
        "\n",
        "    print(\"Tag scores before training:\")\n",
        "    print(tag_scores)\n",
        "\n"
      ]
    },
    {
      "cell_type": "code",
      "execution_count": 30,
      "metadata": {
        "colab": {
          "base_uri": "https://localhost:8080/"
        },
        "id": "8LApn4QuWyIp",
        "outputId": "53d9fb5f-0283-4602-9934-13af87cc21cd"
      },
      "outputs": [
        {
          "output_type": "stream",
          "name": "stderr",
          "text": [
            "\r  0%|          | 0/50 [00:00<?, ?it/s]"
          ]
        },
        {
          "output_type": "stream",
          "name": "stdout",
          "text": [
            "Output is a single tensor with shape: torch.Size([5024, 11])\n",
            "Output is a single tensor with shape: torch.Size([5024, 11])\n",
            "Output is a single tensor with shape: torch.Size([5024, 11])\n",
            "Output is a single tensor with shape: torch.Size([5024, 11])\n",
            "Output is a single tensor with shape: torch.Size([5024, 11])\n",
            "Output is a single tensor with shape: torch.Size([5024, 11])\n",
            "Output is a single tensor with shape: torch.Size([5024, 11])\n",
            "Output is a single tensor with shape: torch.Size([5024, 11])\n",
            "Output is a single tensor with shape: torch.Size([5024, 11])\n",
            "Output is a single tensor with shape: torch.Size([5024, 11])\n",
            "Output is a single tensor with shape: torch.Size([5024, 11])\n",
            "Output is a single tensor with shape: torch.Size([5024, 11])\n",
            "Output is a single tensor with shape: torch.Size([5024, 11])\n",
            "Output is a single tensor with shape: torch.Size([5024, 11])\n",
            "Output is a single tensor with shape: torch.Size([5024, 11])\n",
            "Output is a single tensor with shape: torch.Size([5024, 11])\n",
            "Output is a single tensor with shape: torch.Size([3768, 11])\n"
          ]
        },
        {
          "output_type": "stream",
          "name": "stderr",
          "text": [
            "Train Loss: 1.7084 | Val Loss: 1.3082:   2%|▏         | 1/50 [00:07<06:05,  7.45s/it]"
          ]
        },
        {
          "output_type": "stream",
          "name": "stdout",
          "text": [
            "Output is a single tensor with shape: torch.Size([5024, 11])\n",
            "Output is a single tensor with shape: torch.Size([5024, 11])\n",
            "Output is a single tensor with shape: torch.Size([5024, 11])\n",
            "Output is a single tensor with shape: torch.Size([5024, 11])\n",
            "Output is a single tensor with shape: torch.Size([5024, 11])\n",
            "Output is a single tensor with shape: torch.Size([5024, 11])\n",
            "Output is a single tensor with shape: torch.Size([5024, 11])\n",
            "Output is a single tensor with shape: torch.Size([5024, 11])\n",
            "Output is a single tensor with shape: torch.Size([5024, 11])\n",
            "Output is a single tensor with shape: torch.Size([5024, 11])\n",
            "Output is a single tensor with shape: torch.Size([5024, 11])\n",
            "Output is a single tensor with shape: torch.Size([5024, 11])\n",
            "Output is a single tensor with shape: torch.Size([5024, 11])\n",
            "Output is a single tensor with shape: torch.Size([5024, 11])\n",
            "Output is a single tensor with shape: torch.Size([5024, 11])\n",
            "Output is a single tensor with shape: torch.Size([5024, 11])\n",
            "Output is a single tensor with shape: torch.Size([3768, 11])\n"
          ]
        },
        {
          "output_type": "stream",
          "name": "stderr",
          "text": [
            "Train Loss: 1.0913 | Val Loss: 0.9051:   4%|▍         | 2/50 [00:13<05:17,  6.61s/it]"
          ]
        },
        {
          "output_type": "stream",
          "name": "stdout",
          "text": [
            "Output is a single tensor with shape: torch.Size([5024, 11])\n",
            "Output is a single tensor with shape: torch.Size([5024, 11])\n",
            "Output is a single tensor with shape: torch.Size([5024, 11])\n",
            "Output is a single tensor with shape: torch.Size([5024, 11])\n",
            "Output is a single tensor with shape: torch.Size([5024, 11])\n",
            "Output is a single tensor with shape: torch.Size([5024, 11])\n",
            "Output is a single tensor with shape: torch.Size([5024, 11])\n",
            "Output is a single tensor with shape: torch.Size([5024, 11])\n",
            "Output is a single tensor with shape: torch.Size([5024, 11])\n",
            "Output is a single tensor with shape: torch.Size([5024, 11])\n",
            "Output is a single tensor with shape: torch.Size([5024, 11])\n",
            "Output is a single tensor with shape: torch.Size([5024, 11])\n",
            "Output is a single tensor with shape: torch.Size([5024, 11])\n",
            "Output is a single tensor with shape: torch.Size([5024, 11])\n",
            "Output is a single tensor with shape: torch.Size([5024, 11])\n",
            "Output is a single tensor with shape: torch.Size([5024, 11])\n",
            "Output is a single tensor with shape: torch.Size([3768, 11])\n"
          ]
        },
        {
          "output_type": "stream",
          "name": "stderr",
          "text": [
            "Train Loss: 0.7198 | Val Loss: 0.6062:   6%|▌         | 3/50 [00:20<05:28,  6.99s/it]"
          ]
        },
        {
          "output_type": "stream",
          "name": "stdout",
          "text": [
            "Output is a single tensor with shape: torch.Size([5024, 11])\n",
            "Output is a single tensor with shape: torch.Size([5024, 11])\n",
            "Output is a single tensor with shape: torch.Size([5024, 11])\n",
            "Output is a single tensor with shape: torch.Size([5024, 11])\n",
            "Output is a single tensor with shape: torch.Size([5024, 11])\n",
            "Output is a single tensor with shape: torch.Size([5024, 11])\n",
            "Output is a single tensor with shape: torch.Size([5024, 11])\n",
            "Output is a single tensor with shape: torch.Size([5024, 11])\n",
            "Output is a single tensor with shape: torch.Size([5024, 11])\n",
            "Output is a single tensor with shape: torch.Size([5024, 11])\n",
            "Output is a single tensor with shape: torch.Size([5024, 11])\n",
            "Output is a single tensor with shape: torch.Size([5024, 11])\n",
            "Output is a single tensor with shape: torch.Size([5024, 11])\n",
            "Output is a single tensor with shape: torch.Size([5024, 11])\n",
            "Output is a single tensor with shape: torch.Size([5024, 11])\n",
            "Output is a single tensor with shape: torch.Size([5024, 11])\n",
            "Output is a single tensor with shape: torch.Size([3768, 11])\n"
          ]
        },
        {
          "output_type": "stream",
          "name": "stderr",
          "text": [
            "Train Loss: 0.4767 | Val Loss: 0.4234:   8%|▊         | 4/50 [00:26<05:02,  6.58s/it]"
          ]
        },
        {
          "output_type": "stream",
          "name": "stdout",
          "text": [
            "Output is a single tensor with shape: torch.Size([5024, 11])\n",
            "Output is a single tensor with shape: torch.Size([5024, 11])\n",
            "Output is a single tensor with shape: torch.Size([5024, 11])\n",
            "Output is a single tensor with shape: torch.Size([5024, 11])\n",
            "Output is a single tensor with shape: torch.Size([5024, 11])\n",
            "Output is a single tensor with shape: torch.Size([5024, 11])\n",
            "Output is a single tensor with shape: torch.Size([5024, 11])\n",
            "Output is a single tensor with shape: torch.Size([5024, 11])\n",
            "Output is a single tensor with shape: torch.Size([5024, 11])\n",
            "Output is a single tensor with shape: torch.Size([5024, 11])\n",
            "Output is a single tensor with shape: torch.Size([5024, 11])\n",
            "Output is a single tensor with shape: torch.Size([5024, 11])\n",
            "Output is a single tensor with shape: torch.Size([5024, 11])\n",
            "Output is a single tensor with shape: torch.Size([5024, 11])\n",
            "Output is a single tensor with shape: torch.Size([5024, 11])\n",
            "Output is a single tensor with shape: torch.Size([5024, 11])\n",
            "Output is a single tensor with shape: torch.Size([3768, 11])\n"
          ]
        },
        {
          "output_type": "stream",
          "name": "stderr",
          "text": [
            "Train Loss: 0.3211 | Val Loss: 0.3068:  10%|█         | 5/50 [00:34<05:06,  6.82s/it]"
          ]
        },
        {
          "output_type": "stream",
          "name": "stdout",
          "text": [
            "Output is a single tensor with shape: torch.Size([5024, 11])\n",
            "Output is a single tensor with shape: torch.Size([5024, 11])\n",
            "Output is a single tensor with shape: torch.Size([5024, 11])\n",
            "Output is a single tensor with shape: torch.Size([5024, 11])\n",
            "Output is a single tensor with shape: torch.Size([5024, 11])\n",
            "Output is a single tensor with shape: torch.Size([5024, 11])\n",
            "Output is a single tensor with shape: torch.Size([5024, 11])\n",
            "Output is a single tensor with shape: torch.Size([5024, 11])\n",
            "Output is a single tensor with shape: torch.Size([5024, 11])\n",
            "Output is a single tensor with shape: torch.Size([5024, 11])\n",
            "Output is a single tensor with shape: torch.Size([5024, 11])\n",
            "Output is a single tensor with shape: torch.Size([5024, 11])\n",
            "Output is a single tensor with shape: torch.Size([5024, 11])\n",
            "Output is a single tensor with shape: torch.Size([5024, 11])\n",
            "Output is a single tensor with shape: torch.Size([5024, 11])\n",
            "Output is a single tensor with shape: torch.Size([5024, 11])\n",
            "Output is a single tensor with shape: torch.Size([3768, 11])\n"
          ]
        },
        {
          "output_type": "stream",
          "name": "stderr",
          "text": [
            "Train Loss: 0.2244 | Val Loss: 0.2348:  12%|█▏        | 6/50 [00:39<04:45,  6.49s/it]"
          ]
        },
        {
          "output_type": "stream",
          "name": "stdout",
          "text": [
            "Output is a single tensor with shape: torch.Size([5024, 11])\n",
            "Output is a single tensor with shape: torch.Size([5024, 11])\n",
            "Output is a single tensor with shape: torch.Size([5024, 11])\n",
            "Output is a single tensor with shape: torch.Size([5024, 11])\n",
            "Output is a single tensor with shape: torch.Size([5024, 11])\n",
            "Output is a single tensor with shape: torch.Size([5024, 11])\n",
            "Output is a single tensor with shape: torch.Size([5024, 11])\n",
            "Output is a single tensor with shape: torch.Size([5024, 11])\n",
            "Output is a single tensor with shape: torch.Size([5024, 11])\n",
            "Output is a single tensor with shape: torch.Size([5024, 11])\n",
            "Output is a single tensor with shape: torch.Size([5024, 11])\n",
            "Output is a single tensor with shape: torch.Size([5024, 11])\n",
            "Output is a single tensor with shape: torch.Size([5024, 11])\n",
            "Output is a single tensor with shape: torch.Size([5024, 11])\n",
            "Output is a single tensor with shape: torch.Size([5024, 11])\n",
            "Output is a single tensor with shape: torch.Size([5024, 11])\n",
            "Output is a single tensor with shape: torch.Size([3768, 11])\n"
          ]
        },
        {
          "output_type": "stream",
          "name": "stderr",
          "text": [
            "Train Loss: 0.1589 | Val Loss: 0.1866:  14%|█▍        | 7/50 [00:47<04:52,  6.79s/it]"
          ]
        },
        {
          "output_type": "stream",
          "name": "stdout",
          "text": [
            "Output is a single tensor with shape: torch.Size([5024, 11])\n",
            "Output is a single tensor with shape: torch.Size([5024, 11])\n",
            "Output is a single tensor with shape: torch.Size([5024, 11])\n",
            "Output is a single tensor with shape: torch.Size([5024, 11])\n",
            "Output is a single tensor with shape: torch.Size([5024, 11])\n",
            "Output is a single tensor with shape: torch.Size([5024, 11])\n",
            "Output is a single tensor with shape: torch.Size([5024, 11])\n",
            "Output is a single tensor with shape: torch.Size([5024, 11])\n",
            "Output is a single tensor with shape: torch.Size([5024, 11])\n",
            "Output is a single tensor with shape: torch.Size([5024, 11])\n",
            "Output is a single tensor with shape: torch.Size([5024, 11])\n",
            "Output is a single tensor with shape: torch.Size([5024, 11])\n",
            "Output is a single tensor with shape: torch.Size([5024, 11])\n",
            "Output is a single tensor with shape: torch.Size([5024, 11])\n",
            "Output is a single tensor with shape: torch.Size([5024, 11])\n",
            "Output is a single tensor with shape: torch.Size([5024, 11])\n",
            "Output is a single tensor with shape: torch.Size([3768, 11])\n"
          ]
        },
        {
          "output_type": "stream",
          "name": "stderr",
          "text": [
            "Train Loss: 0.1159 | Val Loss: 0.1585:  16%|█▌        | 8/50 [00:53<04:32,  6.49s/it]"
          ]
        },
        {
          "output_type": "stream",
          "name": "stdout",
          "text": [
            "Output is a single tensor with shape: torch.Size([5024, 11])\n",
            "Output is a single tensor with shape: torch.Size([5024, 11])\n",
            "Output is a single tensor with shape: torch.Size([5024, 11])\n",
            "Output is a single tensor with shape: torch.Size([5024, 11])\n",
            "Output is a single tensor with shape: torch.Size([5024, 11])\n",
            "Output is a single tensor with shape: torch.Size([5024, 11])\n",
            "Output is a single tensor with shape: torch.Size([5024, 11])\n",
            "Output is a single tensor with shape: torch.Size([5024, 11])\n",
            "Output is a single tensor with shape: torch.Size([5024, 11])\n",
            "Output is a single tensor with shape: torch.Size([5024, 11])\n",
            "Output is a single tensor with shape: torch.Size([5024, 11])\n",
            "Output is a single tensor with shape: torch.Size([5024, 11])\n",
            "Output is a single tensor with shape: torch.Size([5024, 11])\n",
            "Output is a single tensor with shape: torch.Size([5024, 11])\n",
            "Output is a single tensor with shape: torch.Size([5024, 11])\n",
            "Output is a single tensor with shape: torch.Size([5024, 11])\n",
            "Output is a single tensor with shape: torch.Size([3768, 11])\n"
          ]
        },
        {
          "output_type": "stream",
          "name": "stderr",
          "text": [
            "Train Loss: 0.0865 | Val Loss: 0.1389:  18%|█▊        | 9/50 [01:00<04:35,  6.72s/it]"
          ]
        },
        {
          "output_type": "stream",
          "name": "stdout",
          "text": [
            "Output is a single tensor with shape: torch.Size([5024, 11])\n",
            "Output is a single tensor with shape: torch.Size([5024, 11])\n",
            "Output is a single tensor with shape: torch.Size([5024, 11])\n",
            "Output is a single tensor with shape: torch.Size([5024, 11])\n",
            "Output is a single tensor with shape: torch.Size([5024, 11])\n",
            "Output is a single tensor with shape: torch.Size([5024, 11])\n",
            "Output is a single tensor with shape: torch.Size([5024, 11])\n",
            "Output is a single tensor with shape: torch.Size([5024, 11])\n",
            "Output is a single tensor with shape: torch.Size([5024, 11])\n",
            "Output is a single tensor with shape: torch.Size([5024, 11])\n",
            "Output is a single tensor with shape: torch.Size([5024, 11])\n",
            "Output is a single tensor with shape: torch.Size([5024, 11])\n",
            "Output is a single tensor with shape: torch.Size([5024, 11])\n",
            "Output is a single tensor with shape: torch.Size([5024, 11])\n",
            "Output is a single tensor with shape: torch.Size([5024, 11])\n",
            "Output is a single tensor with shape: torch.Size([5024, 11])\n",
            "Output is a single tensor with shape: torch.Size([3768, 11])\n"
          ]
        },
        {
          "output_type": "stream",
          "name": "stderr",
          "text": [
            "Train Loss: 0.0636 | Val Loss: 0.1262:  20%|██        | 10/50 [01:06<04:18,  6.45s/it]"
          ]
        },
        {
          "output_type": "stream",
          "name": "stdout",
          "text": [
            "Output is a single tensor with shape: torch.Size([5024, 11])\n",
            "Output is a single tensor with shape: torch.Size([5024, 11])\n",
            "Output is a single tensor with shape: torch.Size([5024, 11])\n",
            "Output is a single tensor with shape: torch.Size([5024, 11])\n",
            "Output is a single tensor with shape: torch.Size([5024, 11])\n",
            "Output is a single tensor with shape: torch.Size([5024, 11])\n",
            "Output is a single tensor with shape: torch.Size([5024, 11])\n",
            "Output is a single tensor with shape: torch.Size([5024, 11])\n",
            "Output is a single tensor with shape: torch.Size([5024, 11])\n",
            "Output is a single tensor with shape: torch.Size([5024, 11])\n",
            "Output is a single tensor with shape: torch.Size([5024, 11])\n",
            "Output is a single tensor with shape: torch.Size([5024, 11])\n",
            "Output is a single tensor with shape: torch.Size([5024, 11])\n",
            "Output is a single tensor with shape: torch.Size([5024, 11])\n",
            "Output is a single tensor with shape: torch.Size([5024, 11])\n",
            "Output is a single tensor with shape: torch.Size([5024, 11])\n",
            "Output is a single tensor with shape: torch.Size([3768, 11])\n"
          ]
        },
        {
          "output_type": "stream",
          "name": "stderr",
          "text": [
            "Train Loss: 0.0484 | Val Loss: 0.1176:  22%|██▏       | 11/50 [01:13<04:20,  6.67s/it]"
          ]
        },
        {
          "output_type": "stream",
          "name": "stdout",
          "text": [
            "Output is a single tensor with shape: torch.Size([5024, 11])\n",
            "Output is a single tensor with shape: torch.Size([5024, 11])\n",
            "Output is a single tensor with shape: torch.Size([5024, 11])\n",
            "Output is a single tensor with shape: torch.Size([5024, 11])\n",
            "Output is a single tensor with shape: torch.Size([5024, 11])\n",
            "Output is a single tensor with shape: torch.Size([5024, 11])\n",
            "Output is a single tensor with shape: torch.Size([5024, 11])\n",
            "Output is a single tensor with shape: torch.Size([5024, 11])\n",
            "Output is a single tensor with shape: torch.Size([5024, 11])\n",
            "Output is a single tensor with shape: torch.Size([5024, 11])\n",
            "Output is a single tensor with shape: torch.Size([5024, 11])\n",
            "Output is a single tensor with shape: torch.Size([5024, 11])\n",
            "Output is a single tensor with shape: torch.Size([5024, 11])\n",
            "Output is a single tensor with shape: torch.Size([5024, 11])\n",
            "Output is a single tensor with shape: torch.Size([5024, 11])\n",
            "Output is a single tensor with shape: torch.Size([5024, 11])\n",
            "Output is a single tensor with shape: torch.Size([3768, 11])\n"
          ]
        },
        {
          "output_type": "stream",
          "name": "stderr",
          "text": [
            "Train Loss: 0.0377 | Val Loss: 0.1130:  24%|██▍       | 12/50 [01:19<04:04,  6.44s/it]"
          ]
        },
        {
          "output_type": "stream",
          "name": "stdout",
          "text": [
            "Output is a single tensor with shape: torch.Size([5024, 11])\n",
            "Output is a single tensor with shape: torch.Size([5024, 11])\n",
            "Output is a single tensor with shape: torch.Size([5024, 11])\n",
            "Output is a single tensor with shape: torch.Size([5024, 11])\n",
            "Output is a single tensor with shape: torch.Size([5024, 11])\n",
            "Output is a single tensor with shape: torch.Size([5024, 11])\n",
            "Output is a single tensor with shape: torch.Size([5024, 11])\n",
            "Output is a single tensor with shape: torch.Size([5024, 11])\n",
            "Output is a single tensor with shape: torch.Size([5024, 11])\n",
            "Output is a single tensor with shape: torch.Size([5024, 11])\n",
            "Output is a single tensor with shape: torch.Size([5024, 11])\n",
            "Output is a single tensor with shape: torch.Size([5024, 11])\n",
            "Output is a single tensor with shape: torch.Size([5024, 11])\n",
            "Output is a single tensor with shape: torch.Size([5024, 11])\n",
            "Output is a single tensor with shape: torch.Size([5024, 11])\n",
            "Output is a single tensor with shape: torch.Size([5024, 11])\n",
            "Output is a single tensor with shape: torch.Size([3768, 11])\n"
          ]
        },
        {
          "output_type": "stream",
          "name": "stderr",
          "text": [
            "Train Loss: 0.0273 | Val Loss: 0.1111:  26%|██▌       | 13/50 [01:26<04:08,  6.72s/it]"
          ]
        },
        {
          "output_type": "stream",
          "name": "stdout",
          "text": [
            "Output is a single tensor with shape: torch.Size([5024, 11])\n",
            "Output is a single tensor with shape: torch.Size([5024, 11])\n",
            "Output is a single tensor with shape: torch.Size([5024, 11])\n",
            "Output is a single tensor with shape: torch.Size([5024, 11])\n",
            "Output is a single tensor with shape: torch.Size([5024, 11])\n",
            "Output is a single tensor with shape: torch.Size([5024, 11])\n",
            "Output is a single tensor with shape: torch.Size([5024, 11])\n",
            "Output is a single tensor with shape: torch.Size([5024, 11])\n",
            "Output is a single tensor with shape: torch.Size([5024, 11])\n",
            "Output is a single tensor with shape: torch.Size([5024, 11])\n",
            "Output is a single tensor with shape: torch.Size([5024, 11])\n",
            "Output is a single tensor with shape: torch.Size([5024, 11])\n",
            "Output is a single tensor with shape: torch.Size([5024, 11])\n",
            "Output is a single tensor with shape: torch.Size([5024, 11])\n",
            "Output is a single tensor with shape: torch.Size([5024, 11])\n",
            "Output is a single tensor with shape: torch.Size([5024, 11])\n",
            "Output is a single tensor with shape: torch.Size([3768, 11])\n"
          ]
        },
        {
          "output_type": "stream",
          "name": "stderr",
          "text": [
            "Train Loss: 0.0201 | Val Loss: 0.1106:  28%|██▊       | 14/50 [01:32<03:53,  6.49s/it]"
          ]
        },
        {
          "output_type": "stream",
          "name": "stdout",
          "text": [
            "Output is a single tensor with shape: torch.Size([5024, 11])\n",
            "Output is a single tensor with shape: torch.Size([5024, 11])\n",
            "Output is a single tensor with shape: torch.Size([5024, 11])\n",
            "Output is a single tensor with shape: torch.Size([5024, 11])\n",
            "Output is a single tensor with shape: torch.Size([5024, 11])\n",
            "Output is a single tensor with shape: torch.Size([5024, 11])\n",
            "Output is a single tensor with shape: torch.Size([5024, 11])\n",
            "Output is a single tensor with shape: torch.Size([5024, 11])\n",
            "Output is a single tensor with shape: torch.Size([5024, 11])\n",
            "Output is a single tensor with shape: torch.Size([5024, 11])\n",
            "Output is a single tensor with shape: torch.Size([5024, 11])\n",
            "Output is a single tensor with shape: torch.Size([5024, 11])\n",
            "Output is a single tensor with shape: torch.Size([5024, 11])\n",
            "Output is a single tensor with shape: torch.Size([5024, 11])\n",
            "Output is a single tensor with shape: torch.Size([5024, 11])\n",
            "Output is a single tensor with shape: torch.Size([5024, 11])\n",
            "Output is a single tensor with shape: torch.Size([3768, 11])\n"
          ]
        },
        {
          "output_type": "stream",
          "name": "stderr",
          "text": [
            "Train Loss: 0.0154 | Val Loss: 0.1111:  30%|███       | 15/50 [01:39<03:54,  6.69s/it]"
          ]
        },
        {
          "output_type": "stream",
          "name": "stdout",
          "text": [
            "Output is a single tensor with shape: torch.Size([5024, 11])\n",
            "Output is a single tensor with shape: torch.Size([5024, 11])\n",
            "Output is a single tensor with shape: torch.Size([5024, 11])\n",
            "Output is a single tensor with shape: torch.Size([5024, 11])\n",
            "Output is a single tensor with shape: torch.Size([5024, 11])\n",
            "Output is a single tensor with shape: torch.Size([5024, 11])\n",
            "Output is a single tensor with shape: torch.Size([5024, 11])\n",
            "Output is a single tensor with shape: torch.Size([5024, 11])\n",
            "Output is a single tensor with shape: torch.Size([5024, 11])\n",
            "Output is a single tensor with shape: torch.Size([5024, 11])\n",
            "Output is a single tensor with shape: torch.Size([5024, 11])\n",
            "Output is a single tensor with shape: torch.Size([5024, 11])\n",
            "Output is a single tensor with shape: torch.Size([5024, 11])\n",
            "Output is a single tensor with shape: torch.Size([5024, 11])\n",
            "Output is a single tensor with shape: torch.Size([5024, 11])\n",
            "Output is a single tensor with shape: torch.Size([5024, 11])\n",
            "Output is a single tensor with shape: torch.Size([3768, 11])\n"
          ]
        },
        {
          "output_type": "stream",
          "name": "stderr",
          "text": [
            "Train Loss: 0.0111 | Val Loss: 0.1135:  32%|███▏      | 16/50 [01:45<03:40,  6.47s/it]"
          ]
        },
        {
          "output_type": "stream",
          "name": "stdout",
          "text": [
            "Output is a single tensor with shape: torch.Size([5024, 11])\n",
            "Output is a single tensor with shape: torch.Size([5024, 11])\n",
            "Output is a single tensor with shape: torch.Size([5024, 11])\n",
            "Output is a single tensor with shape: torch.Size([5024, 11])\n",
            "Output is a single tensor with shape: torch.Size([5024, 11])\n",
            "Output is a single tensor with shape: torch.Size([5024, 11])\n",
            "Output is a single tensor with shape: torch.Size([5024, 11])\n",
            "Output is a single tensor with shape: torch.Size([5024, 11])\n",
            "Output is a single tensor with shape: torch.Size([5024, 11])\n",
            "Output is a single tensor with shape: torch.Size([5024, 11])\n",
            "Output is a single tensor with shape: torch.Size([5024, 11])\n",
            "Output is a single tensor with shape: torch.Size([5024, 11])\n",
            "Output is a single tensor with shape: torch.Size([5024, 11])\n",
            "Output is a single tensor with shape: torch.Size([5024, 11])\n",
            "Output is a single tensor with shape: torch.Size([5024, 11])\n",
            "Output is a single tensor with shape: torch.Size([5024, 11])\n",
            "Output is a single tensor with shape: torch.Size([3768, 11])\n"
          ]
        },
        {
          "output_type": "stream",
          "name": "stderr",
          "text": [
            "Train Loss: 0.0086 | Val Loss: 0.1151:  34%|███▍      | 17/50 [01:52<03:35,  6.54s/it]"
          ]
        },
        {
          "output_type": "stream",
          "name": "stdout",
          "text": [
            "Output is a single tensor with shape: torch.Size([5024, 11])\n",
            "Output is a single tensor with shape: torch.Size([5024, 11])\n",
            "Output is a single tensor with shape: torch.Size([5024, 11])\n",
            "Output is a single tensor with shape: torch.Size([5024, 11])\n",
            "Output is a single tensor with shape: torch.Size([5024, 11])\n",
            "Output is a single tensor with shape: torch.Size([5024, 11])\n",
            "Output is a single tensor with shape: torch.Size([5024, 11])\n",
            "Output is a single tensor with shape: torch.Size([5024, 11])\n",
            "Output is a single tensor with shape: torch.Size([5024, 11])\n",
            "Output is a single tensor with shape: torch.Size([5024, 11])\n",
            "Output is a single tensor with shape: torch.Size([5024, 11])\n",
            "Output is a single tensor with shape: torch.Size([5024, 11])\n",
            "Output is a single tensor with shape: torch.Size([5024, 11])\n",
            "Output is a single tensor with shape: torch.Size([5024, 11])\n",
            "Output is a single tensor with shape: torch.Size([5024, 11])\n",
            "Output is a single tensor with shape: torch.Size([5024, 11])\n",
            "Output is a single tensor with shape: torch.Size([3768, 11])\n"
          ]
        },
        {
          "output_type": "stream",
          "name": "stderr",
          "text": [
            "Train Loss: 0.0066 | Val Loss: 0.1172:  36%|███▌      | 18/50 [01:58<03:26,  6.46s/it]"
          ]
        },
        {
          "output_type": "stream",
          "name": "stdout",
          "text": [
            "Output is a single tensor with shape: torch.Size([5024, 11])\n",
            "Output is a single tensor with shape: torch.Size([5024, 11])\n",
            "Output is a single tensor with shape: torch.Size([5024, 11])\n",
            "Output is a single tensor with shape: torch.Size([5024, 11])\n",
            "Output is a single tensor with shape: torch.Size([5024, 11])\n",
            "Output is a single tensor with shape: torch.Size([5024, 11])\n",
            "Output is a single tensor with shape: torch.Size([5024, 11])\n",
            "Output is a single tensor with shape: torch.Size([5024, 11])\n",
            "Output is a single tensor with shape: torch.Size([5024, 11])\n",
            "Output is a single tensor with shape: torch.Size([5024, 11])\n",
            "Output is a single tensor with shape: torch.Size([5024, 11])\n",
            "Output is a single tensor with shape: torch.Size([5024, 11])\n",
            "Output is a single tensor with shape: torch.Size([5024, 11])\n",
            "Output is a single tensor with shape: torch.Size([5024, 11])\n",
            "Output is a single tensor with shape: torch.Size([5024, 11])\n",
            "Output is a single tensor with shape: torch.Size([5024, 11])\n",
            "Output is a single tensor with shape: torch.Size([3768, 11])\n"
          ]
        },
        {
          "output_type": "stream",
          "name": "stderr",
          "text": [
            "Train Loss: 0.0050 | Val Loss: 0.1197:  38%|███▊      | 19/50 [02:05<03:19,  6.44s/it]"
          ]
        },
        {
          "output_type": "stream",
          "name": "stdout",
          "text": [
            "Output is a single tensor with shape: torch.Size([5024, 11])\n",
            "Output is a single tensor with shape: torch.Size([5024, 11])\n",
            "Output is a single tensor with shape: torch.Size([5024, 11])\n",
            "Output is a single tensor with shape: torch.Size([5024, 11])\n",
            "Output is a single tensor with shape: torch.Size([5024, 11])\n",
            "Output is a single tensor with shape: torch.Size([5024, 11])\n",
            "Output is a single tensor with shape: torch.Size([5024, 11])\n",
            "Output is a single tensor with shape: torch.Size([5024, 11])\n",
            "Output is a single tensor with shape: torch.Size([5024, 11])\n",
            "Output is a single tensor with shape: torch.Size([5024, 11])\n",
            "Output is a single tensor with shape: torch.Size([5024, 11])\n",
            "Output is a single tensor with shape: torch.Size([5024, 11])\n",
            "Output is a single tensor with shape: torch.Size([5024, 11])\n",
            "Output is a single tensor with shape: torch.Size([5024, 11])\n",
            "Output is a single tensor with shape: torch.Size([5024, 11])\n",
            "Output is a single tensor with shape: torch.Size([5024, 11])\n",
            "Output is a single tensor with shape: torch.Size([3768, 11])\n"
          ]
        },
        {
          "output_type": "stream",
          "name": "stderr",
          "text": [
            "Train Loss: 0.0040 | Val Loss: 0.1225:  40%|████      | 20/50 [02:14<03:36,  7.21s/it]"
          ]
        },
        {
          "output_type": "stream",
          "name": "stdout",
          "text": [
            "Output is a single tensor with shape: torch.Size([5024, 11])\n",
            "Output is a single tensor with shape: torch.Size([5024, 11])\n",
            "Output is a single tensor with shape: torch.Size([5024, 11])\n",
            "Output is a single tensor with shape: torch.Size([5024, 11])\n",
            "Output is a single tensor with shape: torch.Size([5024, 11])\n",
            "Output is a single tensor with shape: torch.Size([5024, 11])\n",
            "Output is a single tensor with shape: torch.Size([5024, 11])\n",
            "Output is a single tensor with shape: torch.Size([5024, 11])\n",
            "Output is a single tensor with shape: torch.Size([5024, 11])\n",
            "Output is a single tensor with shape: torch.Size([5024, 11])\n",
            "Output is a single tensor with shape: torch.Size([5024, 11])\n",
            "Output is a single tensor with shape: torch.Size([5024, 11])\n",
            "Output is a single tensor with shape: torch.Size([5024, 11])\n",
            "Output is a single tensor with shape: torch.Size([5024, 11])\n",
            "Output is a single tensor with shape: torch.Size([5024, 11])\n",
            "Output is a single tensor with shape: torch.Size([5024, 11])\n",
            "Output is a single tensor with shape: torch.Size([3768, 11])\n"
          ]
        },
        {
          "output_type": "stream",
          "name": "stderr",
          "text": [
            "Train Loss: 0.0036 | Val Loss: 0.1243:  42%|████▏     | 21/50 [02:21<03:27,  7.17s/it]"
          ]
        },
        {
          "output_type": "stream",
          "name": "stdout",
          "text": [
            "Output is a single tensor with shape: torch.Size([5024, 11])\n",
            "Output is a single tensor with shape: torch.Size([5024, 11])\n",
            "Output is a single tensor with shape: torch.Size([5024, 11])\n",
            "Output is a single tensor with shape: torch.Size([5024, 11])\n",
            "Output is a single tensor with shape: torch.Size([5024, 11])\n",
            "Output is a single tensor with shape: torch.Size([5024, 11])\n",
            "Output is a single tensor with shape: torch.Size([5024, 11])\n",
            "Output is a single tensor with shape: torch.Size([5024, 11])\n",
            "Output is a single tensor with shape: torch.Size([5024, 11])\n",
            "Output is a single tensor with shape: torch.Size([5024, 11])\n",
            "Output is a single tensor with shape: torch.Size([5024, 11])\n",
            "Output is a single tensor with shape: torch.Size([5024, 11])\n",
            "Output is a single tensor with shape: torch.Size([5024, 11])\n",
            "Output is a single tensor with shape: torch.Size([5024, 11])\n",
            "Output is a single tensor with shape: torch.Size([5024, 11])\n",
            "Output is a single tensor with shape: torch.Size([5024, 11])\n",
            "Output is a single tensor with shape: torch.Size([3768, 11])\n"
          ]
        },
        {
          "output_type": "stream",
          "name": "stderr",
          "text": [
            "Train Loss: 0.0027 | Val Loss: 0.1266:  44%|████▍     | 22/50 [02:27<03:12,  6.88s/it]"
          ]
        },
        {
          "output_type": "stream",
          "name": "stdout",
          "text": [
            "Output is a single tensor with shape: torch.Size([5024, 11])\n",
            "Output is a single tensor with shape: torch.Size([5024, 11])\n",
            "Output is a single tensor with shape: torch.Size([5024, 11])\n",
            "Output is a single tensor with shape: torch.Size([5024, 11])\n",
            "Output is a single tensor with shape: torch.Size([5024, 11])\n",
            "Output is a single tensor with shape: torch.Size([5024, 11])\n",
            "Output is a single tensor with shape: torch.Size([5024, 11])\n",
            "Output is a single tensor with shape: torch.Size([5024, 11])\n",
            "Output is a single tensor with shape: torch.Size([5024, 11])\n",
            "Output is a single tensor with shape: torch.Size([5024, 11])\n",
            "Output is a single tensor with shape: torch.Size([5024, 11])\n",
            "Output is a single tensor with shape: torch.Size([5024, 11])\n",
            "Output is a single tensor with shape: torch.Size([5024, 11])\n",
            "Output is a single tensor with shape: torch.Size([5024, 11])\n",
            "Output is a single tensor with shape: torch.Size([5024, 11])\n",
            "Output is a single tensor with shape: torch.Size([5024, 11])\n",
            "Output is a single tensor with shape: torch.Size([3768, 11])\n"
          ]
        },
        {
          "output_type": "stream",
          "name": "stderr",
          "text": [
            "Train Loss: 0.0025 | Val Loss: 0.1283:  46%|████▌     | 23/50 [02:34<03:04,  6.82s/it]"
          ]
        },
        {
          "output_type": "stream",
          "name": "stdout",
          "text": [
            "Output is a single tensor with shape: torch.Size([5024, 11])\n",
            "Output is a single tensor with shape: torch.Size([5024, 11])\n",
            "Output is a single tensor with shape: torch.Size([5024, 11])\n",
            "Output is a single tensor with shape: torch.Size([5024, 11])\n",
            "Output is a single tensor with shape: torch.Size([5024, 11])\n",
            "Output is a single tensor with shape: torch.Size([5024, 11])\n",
            "Output is a single tensor with shape: torch.Size([5024, 11])\n",
            "Output is a single tensor with shape: torch.Size([5024, 11])\n",
            "Output is a single tensor with shape: torch.Size([5024, 11])\n",
            "Output is a single tensor with shape: torch.Size([5024, 11])\n",
            "Output is a single tensor with shape: torch.Size([5024, 11])\n",
            "Output is a single tensor with shape: torch.Size([5024, 11])\n",
            "Output is a single tensor with shape: torch.Size([5024, 11])\n",
            "Output is a single tensor with shape: torch.Size([5024, 11])\n",
            "Output is a single tensor with shape: torch.Size([5024, 11])\n",
            "Output is a single tensor with shape: torch.Size([5024, 11])\n",
            "Output is a single tensor with shape: torch.Size([3768, 11])\n"
          ]
        },
        {
          "output_type": "stream",
          "name": "stderr",
          "text": [
            "Train Loss: 0.0024 | Val Loss: 0.1304:  48%|████▊     | 24/50 [02:40<02:55,  6.73s/it]"
          ]
        },
        {
          "output_type": "stream",
          "name": "stdout",
          "text": [
            "Output is a single tensor with shape: torch.Size([5024, 11])\n",
            "Output is a single tensor with shape: torch.Size([5024, 11])\n",
            "Output is a single tensor with shape: torch.Size([5024, 11])\n",
            "Output is a single tensor with shape: torch.Size([5024, 11])\n",
            "Output is a single tensor with shape: torch.Size([5024, 11])\n",
            "Output is a single tensor with shape: torch.Size([5024, 11])\n",
            "Output is a single tensor with shape: torch.Size([5024, 11])\n",
            "Output is a single tensor with shape: torch.Size([5024, 11])\n",
            "Output is a single tensor with shape: torch.Size([5024, 11])\n",
            "Output is a single tensor with shape: torch.Size([5024, 11])\n",
            "Output is a single tensor with shape: torch.Size([5024, 11])\n",
            "Output is a single tensor with shape: torch.Size([5024, 11])\n",
            "Output is a single tensor with shape: torch.Size([5024, 11])\n",
            "Output is a single tensor with shape: torch.Size([5024, 11])\n",
            "Output is a single tensor with shape: torch.Size([5024, 11])\n",
            "Output is a single tensor with shape: torch.Size([5024, 11])\n",
            "Output is a single tensor with shape: torch.Size([3768, 11])\n"
          ]
        },
        {
          "output_type": "stream",
          "name": "stderr",
          "text": [
            "Train Loss: 0.0020 | Val Loss: 0.1320:  50%|█████     | 25/50 [02:46<02:45,  6.61s/it]"
          ]
        },
        {
          "output_type": "stream",
          "name": "stdout",
          "text": [
            "Output is a single tensor with shape: torch.Size([5024, 11])\n",
            "Output is a single tensor with shape: torch.Size([5024, 11])\n",
            "Output is a single tensor with shape: torch.Size([5024, 11])\n",
            "Output is a single tensor with shape: torch.Size([5024, 11])\n",
            "Output is a single tensor with shape: torch.Size([5024, 11])\n",
            "Output is a single tensor with shape: torch.Size([5024, 11])\n",
            "Output is a single tensor with shape: torch.Size([5024, 11])\n",
            "Output is a single tensor with shape: torch.Size([5024, 11])\n",
            "Output is a single tensor with shape: torch.Size([5024, 11])\n",
            "Output is a single tensor with shape: torch.Size([5024, 11])\n",
            "Output is a single tensor with shape: torch.Size([5024, 11])\n",
            "Output is a single tensor with shape: torch.Size([5024, 11])\n",
            "Output is a single tensor with shape: torch.Size([5024, 11])\n",
            "Output is a single tensor with shape: torch.Size([5024, 11])\n",
            "Output is a single tensor with shape: torch.Size([5024, 11])\n",
            "Output is a single tensor with shape: torch.Size([5024, 11])\n",
            "Output is a single tensor with shape: torch.Size([3768, 11])\n"
          ]
        },
        {
          "output_type": "stream",
          "name": "stderr",
          "text": [
            "Train Loss: 0.0019 | Val Loss: 0.1342:  52%|█████▏    | 26/50 [02:53<02:40,  6.70s/it]"
          ]
        },
        {
          "output_type": "stream",
          "name": "stdout",
          "text": [
            "Output is a single tensor with shape: torch.Size([5024, 11])\n",
            "Output is a single tensor with shape: torch.Size([5024, 11])\n",
            "Output is a single tensor with shape: torch.Size([5024, 11])\n",
            "Output is a single tensor with shape: torch.Size([5024, 11])\n",
            "Output is a single tensor with shape: torch.Size([5024, 11])\n",
            "Output is a single tensor with shape: torch.Size([5024, 11])\n",
            "Output is a single tensor with shape: torch.Size([5024, 11])\n",
            "Output is a single tensor with shape: torch.Size([5024, 11])\n",
            "Output is a single tensor with shape: torch.Size([5024, 11])\n",
            "Output is a single tensor with shape: torch.Size([5024, 11])\n",
            "Output is a single tensor with shape: torch.Size([5024, 11])\n",
            "Output is a single tensor with shape: torch.Size([5024, 11])\n",
            "Output is a single tensor with shape: torch.Size([5024, 11])\n",
            "Output is a single tensor with shape: torch.Size([5024, 11])\n",
            "Output is a single tensor with shape: torch.Size([5024, 11])\n",
            "Output is a single tensor with shape: torch.Size([5024, 11])\n",
            "Output is a single tensor with shape: torch.Size([3768, 11])\n"
          ]
        },
        {
          "output_type": "stream",
          "name": "stderr",
          "text": [
            "Train Loss: 0.0017 | Val Loss: 0.1362:  54%|█████▍    | 27/50 [02:59<02:28,  6.46s/it]"
          ]
        },
        {
          "output_type": "stream",
          "name": "stdout",
          "text": [
            "Output is a single tensor with shape: torch.Size([5024, 11])\n",
            "Output is a single tensor with shape: torch.Size([5024, 11])\n",
            "Output is a single tensor with shape: torch.Size([5024, 11])\n",
            "Output is a single tensor with shape: torch.Size([5024, 11])\n",
            "Output is a single tensor with shape: torch.Size([5024, 11])\n",
            "Output is a single tensor with shape: torch.Size([5024, 11])\n",
            "Output is a single tensor with shape: torch.Size([5024, 11])\n",
            "Output is a single tensor with shape: torch.Size([5024, 11])\n",
            "Output is a single tensor with shape: torch.Size([5024, 11])\n",
            "Output is a single tensor with shape: torch.Size([5024, 11])\n",
            "Output is a single tensor with shape: torch.Size([5024, 11])\n",
            "Output is a single tensor with shape: torch.Size([5024, 11])\n",
            "Output is a single tensor with shape: torch.Size([5024, 11])\n",
            "Output is a single tensor with shape: torch.Size([5024, 11])\n",
            "Output is a single tensor with shape: torch.Size([5024, 11])\n",
            "Output is a single tensor with shape: torch.Size([5024, 11])\n",
            "Output is a single tensor with shape: torch.Size([3768, 11])\n"
          ]
        },
        {
          "output_type": "stream",
          "name": "stderr",
          "text": [
            "Train Loss: 0.0013 | Val Loss: 0.1380:  56%|█████▌    | 28/50 [03:07<02:27,  6.70s/it]"
          ]
        },
        {
          "output_type": "stream",
          "name": "stdout",
          "text": [
            "Output is a single tensor with shape: torch.Size([5024, 11])\n",
            "Output is a single tensor with shape: torch.Size([5024, 11])\n",
            "Output is a single tensor with shape: torch.Size([5024, 11])\n",
            "Output is a single tensor with shape: torch.Size([5024, 11])\n",
            "Output is a single tensor with shape: torch.Size([5024, 11])\n",
            "Output is a single tensor with shape: torch.Size([5024, 11])\n",
            "Output is a single tensor with shape: torch.Size([5024, 11])\n",
            "Output is a single tensor with shape: torch.Size([5024, 11])\n",
            "Output is a single tensor with shape: torch.Size([5024, 11])\n",
            "Output is a single tensor with shape: torch.Size([5024, 11])\n",
            "Output is a single tensor with shape: torch.Size([5024, 11])\n",
            "Output is a single tensor with shape: torch.Size([5024, 11])\n",
            "Output is a single tensor with shape: torch.Size([5024, 11])\n",
            "Output is a single tensor with shape: torch.Size([5024, 11])\n",
            "Output is a single tensor with shape: torch.Size([5024, 11])\n",
            "Output is a single tensor with shape: torch.Size([5024, 11])\n",
            "Output is a single tensor with shape: torch.Size([3768, 11])\n"
          ]
        },
        {
          "output_type": "stream",
          "name": "stderr",
          "text": [
            "Train Loss: 0.0012 | Val Loss: 0.1390:  58%|█████▊    | 29/50 [03:12<02:15,  6.46s/it]"
          ]
        },
        {
          "output_type": "stream",
          "name": "stdout",
          "text": [
            "Output is a single tensor with shape: torch.Size([5024, 11])\n",
            "Output is a single tensor with shape: torch.Size([5024, 11])\n",
            "Output is a single tensor with shape: torch.Size([5024, 11])\n",
            "Output is a single tensor with shape: torch.Size([5024, 11])\n",
            "Output is a single tensor with shape: torch.Size([5024, 11])\n",
            "Output is a single tensor with shape: torch.Size([5024, 11])\n",
            "Output is a single tensor with shape: torch.Size([5024, 11])\n",
            "Output is a single tensor with shape: torch.Size([5024, 11])\n",
            "Output is a single tensor with shape: torch.Size([5024, 11])\n",
            "Output is a single tensor with shape: torch.Size([5024, 11])\n",
            "Output is a single tensor with shape: torch.Size([5024, 11])\n",
            "Output is a single tensor with shape: torch.Size([5024, 11])\n",
            "Output is a single tensor with shape: torch.Size([5024, 11])\n",
            "Output is a single tensor with shape: torch.Size([5024, 11])\n",
            "Output is a single tensor with shape: torch.Size([5024, 11])\n",
            "Output is a single tensor with shape: torch.Size([5024, 11])\n",
            "Output is a single tensor with shape: torch.Size([3768, 11])\n"
          ]
        },
        {
          "output_type": "stream",
          "name": "stderr",
          "text": [
            "Train Loss: 0.0011 | Val Loss: 0.1410:  60%|██████    | 30/50 [03:20<02:14,  6.74s/it]"
          ]
        },
        {
          "output_type": "stream",
          "name": "stdout",
          "text": [
            "Output is a single tensor with shape: torch.Size([5024, 11])\n",
            "Output is a single tensor with shape: torch.Size([5024, 11])\n",
            "Output is a single tensor with shape: torch.Size([5024, 11])\n",
            "Output is a single tensor with shape: torch.Size([5024, 11])\n",
            "Output is a single tensor with shape: torch.Size([5024, 11])\n",
            "Output is a single tensor with shape: torch.Size([5024, 11])\n",
            "Output is a single tensor with shape: torch.Size([5024, 11])\n",
            "Output is a single tensor with shape: torch.Size([5024, 11])\n",
            "Output is a single tensor with shape: torch.Size([5024, 11])\n",
            "Output is a single tensor with shape: torch.Size([5024, 11])\n",
            "Output is a single tensor with shape: torch.Size([5024, 11])\n",
            "Output is a single tensor with shape: torch.Size([5024, 11])\n",
            "Output is a single tensor with shape: torch.Size([5024, 11])\n",
            "Output is a single tensor with shape: torch.Size([5024, 11])\n",
            "Output is a single tensor with shape: torch.Size([5024, 11])\n",
            "Output is a single tensor with shape: torch.Size([5024, 11])\n",
            "Output is a single tensor with shape: torch.Size([3768, 11])\n"
          ]
        },
        {
          "output_type": "stream",
          "name": "stderr",
          "text": [
            "Train Loss: 0.0011 | Val Loss: 0.1424:  62%|██████▏   | 31/50 [03:26<02:05,  6.61s/it]"
          ]
        },
        {
          "output_type": "stream",
          "name": "stdout",
          "text": [
            "Output is a single tensor with shape: torch.Size([5024, 11])\n",
            "Output is a single tensor with shape: torch.Size([5024, 11])\n",
            "Output is a single tensor with shape: torch.Size([5024, 11])\n",
            "Output is a single tensor with shape: torch.Size([5024, 11])\n",
            "Output is a single tensor with shape: torch.Size([5024, 11])\n",
            "Output is a single tensor with shape: torch.Size([5024, 11])\n",
            "Output is a single tensor with shape: torch.Size([5024, 11])\n",
            "Output is a single tensor with shape: torch.Size([5024, 11])\n",
            "Output is a single tensor with shape: torch.Size([5024, 11])\n",
            "Output is a single tensor with shape: torch.Size([5024, 11])\n",
            "Output is a single tensor with shape: torch.Size([5024, 11])\n",
            "Output is a single tensor with shape: torch.Size([5024, 11])\n",
            "Output is a single tensor with shape: torch.Size([5024, 11])\n",
            "Output is a single tensor with shape: torch.Size([5024, 11])\n",
            "Output is a single tensor with shape: torch.Size([5024, 11])\n",
            "Output is a single tensor with shape: torch.Size([5024, 11])\n",
            "Output is a single tensor with shape: torch.Size([3768, 11])\n"
          ]
        },
        {
          "output_type": "stream",
          "name": "stderr",
          "text": [
            "Train Loss: 0.0009 | Val Loss: 0.1439:  64%|██████▍   | 32/50 [03:33<02:02,  6.80s/it]"
          ]
        },
        {
          "output_type": "stream",
          "name": "stdout",
          "text": [
            "Output is a single tensor with shape: torch.Size([5024, 11])\n",
            "Output is a single tensor with shape: torch.Size([5024, 11])\n",
            "Output is a single tensor with shape: torch.Size([5024, 11])\n",
            "Output is a single tensor with shape: torch.Size([5024, 11])\n",
            "Output is a single tensor with shape: torch.Size([5024, 11])\n",
            "Output is a single tensor with shape: torch.Size([5024, 11])\n",
            "Output is a single tensor with shape: torch.Size([5024, 11])\n",
            "Output is a single tensor with shape: torch.Size([5024, 11])\n",
            "Output is a single tensor with shape: torch.Size([5024, 11])\n",
            "Output is a single tensor with shape: torch.Size([5024, 11])\n",
            "Output is a single tensor with shape: torch.Size([5024, 11])\n",
            "Output is a single tensor with shape: torch.Size([5024, 11])\n",
            "Output is a single tensor with shape: torch.Size([5024, 11])\n",
            "Output is a single tensor with shape: torch.Size([5024, 11])\n",
            "Output is a single tensor with shape: torch.Size([5024, 11])\n",
            "Output is a single tensor with shape: torch.Size([5024, 11])\n",
            "Output is a single tensor with shape: torch.Size([3768, 11])\n"
          ]
        },
        {
          "output_type": "stream",
          "name": "stderr",
          "text": [
            "Train Loss: 0.0009 | Val Loss: 0.1455:  66%|██████▌   | 33/50 [03:39<01:50,  6.53s/it]"
          ]
        },
        {
          "output_type": "stream",
          "name": "stdout",
          "text": [
            "Output is a single tensor with shape: torch.Size([5024, 11])\n",
            "Output is a single tensor with shape: torch.Size([5024, 11])\n",
            "Output is a single tensor with shape: torch.Size([5024, 11])\n",
            "Output is a single tensor with shape: torch.Size([5024, 11])\n",
            "Output is a single tensor with shape: torch.Size([5024, 11])\n",
            "Output is a single tensor with shape: torch.Size([5024, 11])\n",
            "Output is a single tensor with shape: torch.Size([5024, 11])\n",
            "Output is a single tensor with shape: torch.Size([5024, 11])\n",
            "Output is a single tensor with shape: torch.Size([5024, 11])\n",
            "Output is a single tensor with shape: torch.Size([5024, 11])\n",
            "Output is a single tensor with shape: torch.Size([5024, 11])\n",
            "Output is a single tensor with shape: torch.Size([5024, 11])\n",
            "Output is a single tensor with shape: torch.Size([5024, 11])\n",
            "Output is a single tensor with shape: torch.Size([5024, 11])\n",
            "Output is a single tensor with shape: torch.Size([5024, 11])\n",
            "Output is a single tensor with shape: torch.Size([5024, 11])\n",
            "Output is a single tensor with shape: torch.Size([3768, 11])\n"
          ]
        },
        {
          "output_type": "stream",
          "name": "stderr",
          "text": [
            "Train Loss: 0.0007 | Val Loss: 0.1463:  68%|██████▊   | 34/50 [03:47<01:48,  6.76s/it]"
          ]
        },
        {
          "output_type": "stream",
          "name": "stdout",
          "text": [
            "Output is a single tensor with shape: torch.Size([5024, 11])\n",
            "Output is a single tensor with shape: torch.Size([5024, 11])\n",
            "Output is a single tensor with shape: torch.Size([5024, 11])\n",
            "Output is a single tensor with shape: torch.Size([5024, 11])\n",
            "Output is a single tensor with shape: torch.Size([5024, 11])\n",
            "Output is a single tensor with shape: torch.Size([5024, 11])\n",
            "Output is a single tensor with shape: torch.Size([5024, 11])\n",
            "Output is a single tensor with shape: torch.Size([5024, 11])\n",
            "Output is a single tensor with shape: torch.Size([5024, 11])\n",
            "Output is a single tensor with shape: torch.Size([5024, 11])\n",
            "Output is a single tensor with shape: torch.Size([5024, 11])\n",
            "Output is a single tensor with shape: torch.Size([5024, 11])\n",
            "Output is a single tensor with shape: torch.Size([5024, 11])\n",
            "Output is a single tensor with shape: torch.Size([5024, 11])\n",
            "Output is a single tensor with shape: torch.Size([5024, 11])\n",
            "Output is a single tensor with shape: torch.Size([5024, 11])\n",
            "Output is a single tensor with shape: torch.Size([3768, 11])\n"
          ]
        },
        {
          "output_type": "stream",
          "name": "stderr",
          "text": [
            "Train Loss: 0.0010 | Val Loss: 0.1476:  70%|███████   | 35/50 [03:52<01:37,  6.50s/it]"
          ]
        },
        {
          "output_type": "stream",
          "name": "stdout",
          "text": [
            "Output is a single tensor with shape: torch.Size([5024, 11])\n",
            "Output is a single tensor with shape: torch.Size([5024, 11])\n",
            "Output is a single tensor with shape: torch.Size([5024, 11])\n",
            "Output is a single tensor with shape: torch.Size([5024, 11])\n",
            "Output is a single tensor with shape: torch.Size([5024, 11])\n",
            "Output is a single tensor with shape: torch.Size([5024, 11])\n",
            "Output is a single tensor with shape: torch.Size([5024, 11])\n",
            "Output is a single tensor with shape: torch.Size([5024, 11])\n",
            "Output is a single tensor with shape: torch.Size([5024, 11])\n",
            "Output is a single tensor with shape: torch.Size([5024, 11])\n",
            "Output is a single tensor with shape: torch.Size([5024, 11])\n",
            "Output is a single tensor with shape: torch.Size([5024, 11])\n",
            "Output is a single tensor with shape: torch.Size([5024, 11])\n",
            "Output is a single tensor with shape: torch.Size([5024, 11])\n",
            "Output is a single tensor with shape: torch.Size([5024, 11])\n",
            "Output is a single tensor with shape: torch.Size([5024, 11])\n",
            "Output is a single tensor with shape: torch.Size([3768, 11])\n"
          ]
        },
        {
          "output_type": "stream",
          "name": "stderr",
          "text": [
            "Train Loss: 0.0007 | Val Loss: 0.1486:  72%|███████▏  | 36/50 [04:00<01:34,  6.74s/it]"
          ]
        },
        {
          "output_type": "stream",
          "name": "stdout",
          "text": [
            "Output is a single tensor with shape: torch.Size([5024, 11])\n",
            "Output is a single tensor with shape: torch.Size([5024, 11])\n",
            "Output is a single tensor with shape: torch.Size([5024, 11])\n",
            "Output is a single tensor with shape: torch.Size([5024, 11])\n",
            "Output is a single tensor with shape: torch.Size([5024, 11])\n",
            "Output is a single tensor with shape: torch.Size([5024, 11])\n",
            "Output is a single tensor with shape: torch.Size([5024, 11])\n",
            "Output is a single tensor with shape: torch.Size([5024, 11])\n",
            "Output is a single tensor with shape: torch.Size([5024, 11])\n",
            "Output is a single tensor with shape: torch.Size([5024, 11])\n",
            "Output is a single tensor with shape: torch.Size([5024, 11])\n",
            "Output is a single tensor with shape: torch.Size([5024, 11])\n",
            "Output is a single tensor with shape: torch.Size([5024, 11])\n",
            "Output is a single tensor with shape: torch.Size([5024, 11])\n",
            "Output is a single tensor with shape: torch.Size([5024, 11])\n",
            "Output is a single tensor with shape: torch.Size([5024, 11])\n",
            "Output is a single tensor with shape: torch.Size([3768, 11])\n"
          ]
        },
        {
          "output_type": "stream",
          "name": "stderr",
          "text": [
            "Train Loss: 0.0006 | Val Loss: 0.1497:  74%|███████▍  | 37/50 [04:06<01:24,  6.48s/it]"
          ]
        },
        {
          "output_type": "stream",
          "name": "stdout",
          "text": [
            "Output is a single tensor with shape: torch.Size([5024, 11])\n",
            "Output is a single tensor with shape: torch.Size([5024, 11])\n",
            "Output is a single tensor with shape: torch.Size([5024, 11])\n",
            "Output is a single tensor with shape: torch.Size([5024, 11])\n",
            "Output is a single tensor with shape: torch.Size([5024, 11])\n",
            "Output is a single tensor with shape: torch.Size([5024, 11])\n",
            "Output is a single tensor with shape: torch.Size([5024, 11])\n",
            "Output is a single tensor with shape: torch.Size([5024, 11])\n",
            "Output is a single tensor with shape: torch.Size([5024, 11])\n",
            "Output is a single tensor with shape: torch.Size([5024, 11])\n",
            "Output is a single tensor with shape: torch.Size([5024, 11])\n",
            "Output is a single tensor with shape: torch.Size([5024, 11])\n",
            "Output is a single tensor with shape: torch.Size([5024, 11])\n",
            "Output is a single tensor with shape: torch.Size([5024, 11])\n",
            "Output is a single tensor with shape: torch.Size([5024, 11])\n",
            "Output is a single tensor with shape: torch.Size([5024, 11])\n",
            "Output is a single tensor with shape: torch.Size([3768, 11])\n"
          ]
        },
        {
          "output_type": "stream",
          "name": "stderr",
          "text": [
            "Train Loss: 0.0005 | Val Loss: 0.1508:  76%|███████▌  | 38/50 [04:13<01:20,  6.75s/it]"
          ]
        },
        {
          "output_type": "stream",
          "name": "stdout",
          "text": [
            "Output is a single tensor with shape: torch.Size([5024, 11])\n",
            "Output is a single tensor with shape: torch.Size([5024, 11])\n",
            "Output is a single tensor with shape: torch.Size([5024, 11])\n",
            "Output is a single tensor with shape: torch.Size([5024, 11])\n",
            "Output is a single tensor with shape: torch.Size([5024, 11])\n",
            "Output is a single tensor with shape: torch.Size([5024, 11])\n",
            "Output is a single tensor with shape: torch.Size([5024, 11])\n",
            "Output is a single tensor with shape: torch.Size([5024, 11])\n",
            "Output is a single tensor with shape: torch.Size([5024, 11])\n",
            "Output is a single tensor with shape: torch.Size([5024, 11])\n",
            "Output is a single tensor with shape: torch.Size([5024, 11])\n",
            "Output is a single tensor with shape: torch.Size([5024, 11])\n",
            "Output is a single tensor with shape: torch.Size([5024, 11])\n",
            "Output is a single tensor with shape: torch.Size([5024, 11])\n",
            "Output is a single tensor with shape: torch.Size([5024, 11])\n",
            "Output is a single tensor with shape: torch.Size([5024, 11])\n",
            "Output is a single tensor with shape: torch.Size([3768, 11])\n"
          ]
        },
        {
          "output_type": "stream",
          "name": "stderr",
          "text": [
            "Train Loss: 0.0006 | Val Loss: 0.1518:  78%|███████▊  | 39/50 [04:19<01:11,  6.50s/it]"
          ]
        },
        {
          "output_type": "stream",
          "name": "stdout",
          "text": [
            "Output is a single tensor with shape: torch.Size([5024, 11])\n",
            "Output is a single tensor with shape: torch.Size([5024, 11])\n",
            "Output is a single tensor with shape: torch.Size([5024, 11])\n",
            "Output is a single tensor with shape: torch.Size([5024, 11])\n",
            "Output is a single tensor with shape: torch.Size([5024, 11])\n",
            "Output is a single tensor with shape: torch.Size([5024, 11])\n",
            "Output is a single tensor with shape: torch.Size([5024, 11])\n",
            "Output is a single tensor with shape: torch.Size([5024, 11])\n",
            "Output is a single tensor with shape: torch.Size([5024, 11])\n",
            "Output is a single tensor with shape: torch.Size([5024, 11])\n",
            "Output is a single tensor with shape: torch.Size([5024, 11])\n",
            "Output is a single tensor with shape: torch.Size([5024, 11])\n",
            "Output is a single tensor with shape: torch.Size([5024, 11])\n",
            "Output is a single tensor with shape: torch.Size([5024, 11])\n",
            "Output is a single tensor with shape: torch.Size([5024, 11])\n",
            "Output is a single tensor with shape: torch.Size([5024, 11])\n",
            "Output is a single tensor with shape: torch.Size([3768, 11])\n"
          ]
        },
        {
          "output_type": "stream",
          "name": "stderr",
          "text": [
            "Train Loss: 0.0005 | Val Loss: 0.1527:  80%|████████  | 40/50 [04:26<01:06,  6.69s/it]"
          ]
        },
        {
          "output_type": "stream",
          "name": "stdout",
          "text": [
            "Output is a single tensor with shape: torch.Size([5024, 11])\n",
            "Output is a single tensor with shape: torch.Size([5024, 11])\n",
            "Output is a single tensor with shape: torch.Size([5024, 11])\n",
            "Output is a single tensor with shape: torch.Size([5024, 11])\n",
            "Output is a single tensor with shape: torch.Size([5024, 11])\n",
            "Output is a single tensor with shape: torch.Size([5024, 11])\n",
            "Output is a single tensor with shape: torch.Size([5024, 11])\n",
            "Output is a single tensor with shape: torch.Size([5024, 11])\n",
            "Output is a single tensor with shape: torch.Size([5024, 11])\n",
            "Output is a single tensor with shape: torch.Size([5024, 11])\n",
            "Output is a single tensor with shape: torch.Size([5024, 11])\n",
            "Output is a single tensor with shape: torch.Size([5024, 11])\n",
            "Output is a single tensor with shape: torch.Size([5024, 11])\n",
            "Output is a single tensor with shape: torch.Size([5024, 11])\n",
            "Output is a single tensor with shape: torch.Size([5024, 11])\n",
            "Output is a single tensor with shape: torch.Size([5024, 11])\n",
            "Output is a single tensor with shape: torch.Size([3768, 11])\n"
          ]
        },
        {
          "output_type": "stream",
          "name": "stderr",
          "text": [
            "Train Loss: 0.0005 | Val Loss: 0.1537:  82%|████████▏ | 41/50 [04:32<00:58,  6.53s/it]"
          ]
        },
        {
          "output_type": "stream",
          "name": "stdout",
          "text": [
            "Output is a single tensor with shape: torch.Size([5024, 11])\n",
            "Output is a single tensor with shape: torch.Size([5024, 11])\n",
            "Output is a single tensor with shape: torch.Size([5024, 11])\n",
            "Output is a single tensor with shape: torch.Size([5024, 11])\n",
            "Output is a single tensor with shape: torch.Size([5024, 11])\n",
            "Output is a single tensor with shape: torch.Size([5024, 11])\n",
            "Output is a single tensor with shape: torch.Size([5024, 11])\n",
            "Output is a single tensor with shape: torch.Size([5024, 11])\n",
            "Output is a single tensor with shape: torch.Size([5024, 11])\n",
            "Output is a single tensor with shape: torch.Size([5024, 11])\n",
            "Output is a single tensor with shape: torch.Size([5024, 11])\n",
            "Output is a single tensor with shape: torch.Size([5024, 11])\n",
            "Output is a single tensor with shape: torch.Size([5024, 11])\n",
            "Output is a single tensor with shape: torch.Size([5024, 11])\n",
            "Output is a single tensor with shape: torch.Size([5024, 11])\n",
            "Output is a single tensor with shape: torch.Size([5024, 11])\n",
            "Output is a single tensor with shape: torch.Size([3768, 11])\n"
          ]
        },
        {
          "output_type": "stream",
          "name": "stderr",
          "text": [
            "Train Loss: 0.0004 | Val Loss: 0.1542:  84%|████████▍ | 42/50 [04:39<00:52,  6.57s/it]"
          ]
        },
        {
          "output_type": "stream",
          "name": "stdout",
          "text": [
            "Output is a single tensor with shape: torch.Size([5024, 11])\n",
            "Output is a single tensor with shape: torch.Size([5024, 11])\n",
            "Output is a single tensor with shape: torch.Size([5024, 11])\n",
            "Output is a single tensor with shape: torch.Size([5024, 11])\n",
            "Output is a single tensor with shape: torch.Size([5024, 11])\n",
            "Output is a single tensor with shape: torch.Size([5024, 11])\n",
            "Output is a single tensor with shape: torch.Size([5024, 11])\n",
            "Output is a single tensor with shape: torch.Size([5024, 11])\n",
            "Output is a single tensor with shape: torch.Size([5024, 11])\n",
            "Output is a single tensor with shape: torch.Size([5024, 11])\n",
            "Output is a single tensor with shape: torch.Size([5024, 11])\n",
            "Output is a single tensor with shape: torch.Size([5024, 11])\n",
            "Output is a single tensor with shape: torch.Size([5024, 11])\n",
            "Output is a single tensor with shape: torch.Size([5024, 11])\n",
            "Output is a single tensor with shape: torch.Size([5024, 11])\n",
            "Output is a single tensor with shape: torch.Size([5024, 11])\n",
            "Output is a single tensor with shape: torch.Size([3768, 11])\n"
          ]
        },
        {
          "output_type": "stream",
          "name": "stderr",
          "text": [
            "Train Loss: 0.0005 | Val Loss: 0.1552:  86%|████████▌ | 43/50 [04:46<00:46,  6.60s/it]"
          ]
        },
        {
          "output_type": "stream",
          "name": "stdout",
          "text": [
            "Output is a single tensor with shape: torch.Size([5024, 11])\n",
            "Output is a single tensor with shape: torch.Size([5024, 11])\n",
            "Output is a single tensor with shape: torch.Size([5024, 11])\n",
            "Output is a single tensor with shape: torch.Size([5024, 11])\n",
            "Output is a single tensor with shape: torch.Size([5024, 11])\n",
            "Output is a single tensor with shape: torch.Size([5024, 11])\n",
            "Output is a single tensor with shape: torch.Size([5024, 11])\n",
            "Output is a single tensor with shape: torch.Size([5024, 11])\n",
            "Output is a single tensor with shape: torch.Size([5024, 11])\n",
            "Output is a single tensor with shape: torch.Size([5024, 11])\n",
            "Output is a single tensor with shape: torch.Size([5024, 11])\n",
            "Output is a single tensor with shape: torch.Size([5024, 11])\n",
            "Output is a single tensor with shape: torch.Size([5024, 11])\n",
            "Output is a single tensor with shape: torch.Size([5024, 11])\n",
            "Output is a single tensor with shape: torch.Size([5024, 11])\n",
            "Output is a single tensor with shape: torch.Size([5024, 11])\n",
            "Output is a single tensor with shape: torch.Size([3768, 11])\n"
          ]
        },
        {
          "output_type": "stream",
          "name": "stderr",
          "text": [
            "Train Loss: 0.0004 | Val Loss: 0.1559:  88%|████████▊ | 44/50 [04:52<00:38,  6.50s/it]"
          ]
        },
        {
          "output_type": "stream",
          "name": "stdout",
          "text": [
            "Output is a single tensor with shape: torch.Size([5024, 11])\n",
            "Output is a single tensor with shape: torch.Size([5024, 11])\n",
            "Output is a single tensor with shape: torch.Size([5024, 11])\n",
            "Output is a single tensor with shape: torch.Size([5024, 11])\n",
            "Output is a single tensor with shape: torch.Size([5024, 11])\n",
            "Output is a single tensor with shape: torch.Size([5024, 11])\n",
            "Output is a single tensor with shape: torch.Size([5024, 11])\n",
            "Output is a single tensor with shape: torch.Size([5024, 11])\n",
            "Output is a single tensor with shape: torch.Size([5024, 11])\n",
            "Output is a single tensor with shape: torch.Size([5024, 11])\n",
            "Output is a single tensor with shape: torch.Size([5024, 11])\n",
            "Output is a single tensor with shape: torch.Size([5024, 11])\n",
            "Output is a single tensor with shape: torch.Size([5024, 11])\n",
            "Output is a single tensor with shape: torch.Size([5024, 11])\n",
            "Output is a single tensor with shape: torch.Size([5024, 11])\n",
            "Output is a single tensor with shape: torch.Size([5024, 11])\n",
            "Output is a single tensor with shape: torch.Size([3768, 11])\n"
          ]
        },
        {
          "output_type": "stream",
          "name": "stderr",
          "text": [
            "Train Loss: 0.0004 | Val Loss: 0.1566:  90%|█████████ | 45/50 [04:59<00:33,  6.68s/it]"
          ]
        },
        {
          "output_type": "stream",
          "name": "stdout",
          "text": [
            "Output is a single tensor with shape: torch.Size([5024, 11])\n",
            "Output is a single tensor with shape: torch.Size([5024, 11])\n",
            "Output is a single tensor with shape: torch.Size([5024, 11])\n",
            "Output is a single tensor with shape: torch.Size([5024, 11])\n",
            "Output is a single tensor with shape: torch.Size([5024, 11])\n",
            "Output is a single tensor with shape: torch.Size([5024, 11])\n",
            "Output is a single tensor with shape: torch.Size([5024, 11])\n",
            "Output is a single tensor with shape: torch.Size([5024, 11])\n",
            "Output is a single tensor with shape: torch.Size([5024, 11])\n",
            "Output is a single tensor with shape: torch.Size([5024, 11])\n",
            "Output is a single tensor with shape: torch.Size([5024, 11])\n",
            "Output is a single tensor with shape: torch.Size([5024, 11])\n",
            "Output is a single tensor with shape: torch.Size([5024, 11])\n",
            "Output is a single tensor with shape: torch.Size([5024, 11])\n",
            "Output is a single tensor with shape: torch.Size([5024, 11])\n",
            "Output is a single tensor with shape: torch.Size([5024, 11])\n",
            "Output is a single tensor with shape: torch.Size([3768, 11])\n"
          ]
        },
        {
          "output_type": "stream",
          "name": "stderr",
          "text": [
            "Train Loss: 0.0004 | Val Loss: 0.1574:  92%|█████████▏| 46/50 [05:05<00:25,  6.45s/it]"
          ]
        },
        {
          "output_type": "stream",
          "name": "stdout",
          "text": [
            "Output is a single tensor with shape: torch.Size([5024, 11])\n",
            "Output is a single tensor with shape: torch.Size([5024, 11])\n",
            "Output is a single tensor with shape: torch.Size([5024, 11])\n",
            "Output is a single tensor with shape: torch.Size([5024, 11])\n",
            "Output is a single tensor with shape: torch.Size([5024, 11])\n",
            "Output is a single tensor with shape: torch.Size([5024, 11])\n",
            "Output is a single tensor with shape: torch.Size([5024, 11])\n",
            "Output is a single tensor with shape: torch.Size([5024, 11])\n",
            "Output is a single tensor with shape: torch.Size([5024, 11])\n",
            "Output is a single tensor with shape: torch.Size([5024, 11])\n",
            "Output is a single tensor with shape: torch.Size([5024, 11])\n",
            "Output is a single tensor with shape: torch.Size([5024, 11])\n",
            "Output is a single tensor with shape: torch.Size([5024, 11])\n",
            "Output is a single tensor with shape: torch.Size([5024, 11])\n",
            "Output is a single tensor with shape: torch.Size([5024, 11])\n",
            "Output is a single tensor with shape: torch.Size([5024, 11])\n",
            "Output is a single tensor with shape: torch.Size([3768, 11])\n"
          ]
        },
        {
          "output_type": "stream",
          "name": "stderr",
          "text": [
            "Train Loss: 0.0003 | Val Loss: 0.1583:  94%|█████████▍| 47/50 [05:12<00:20,  6.67s/it]"
          ]
        },
        {
          "output_type": "stream",
          "name": "stdout",
          "text": [
            "Output is a single tensor with shape: torch.Size([5024, 11])\n",
            "Output is a single tensor with shape: torch.Size([5024, 11])\n",
            "Output is a single tensor with shape: torch.Size([5024, 11])\n",
            "Output is a single tensor with shape: torch.Size([5024, 11])\n",
            "Output is a single tensor with shape: torch.Size([5024, 11])\n",
            "Output is a single tensor with shape: torch.Size([5024, 11])\n",
            "Output is a single tensor with shape: torch.Size([5024, 11])\n",
            "Output is a single tensor with shape: torch.Size([5024, 11])\n",
            "Output is a single tensor with shape: torch.Size([5024, 11])\n",
            "Output is a single tensor with shape: torch.Size([5024, 11])\n",
            "Output is a single tensor with shape: torch.Size([5024, 11])\n",
            "Output is a single tensor with shape: torch.Size([5024, 11])\n",
            "Output is a single tensor with shape: torch.Size([5024, 11])\n",
            "Output is a single tensor with shape: torch.Size([5024, 11])\n",
            "Output is a single tensor with shape: torch.Size([5024, 11])\n",
            "Output is a single tensor with shape: torch.Size([5024, 11])\n",
            "Output is a single tensor with shape: torch.Size([3768, 11])\n"
          ]
        },
        {
          "output_type": "stream",
          "name": "stderr",
          "text": [
            "Train Loss: 0.0003 | Val Loss: 0.1591:  96%|█████████▌| 48/50 [05:18<00:12,  6.45s/it]"
          ]
        },
        {
          "output_type": "stream",
          "name": "stdout",
          "text": [
            "Output is a single tensor with shape: torch.Size([5024, 11])\n",
            "Output is a single tensor with shape: torch.Size([5024, 11])\n",
            "Output is a single tensor with shape: torch.Size([5024, 11])\n",
            "Output is a single tensor with shape: torch.Size([5024, 11])\n",
            "Output is a single tensor with shape: torch.Size([5024, 11])\n",
            "Output is a single tensor with shape: torch.Size([5024, 11])\n",
            "Output is a single tensor with shape: torch.Size([5024, 11])\n",
            "Output is a single tensor with shape: torch.Size([5024, 11])\n",
            "Output is a single tensor with shape: torch.Size([5024, 11])\n",
            "Output is a single tensor with shape: torch.Size([5024, 11])\n",
            "Output is a single tensor with shape: torch.Size([5024, 11])\n",
            "Output is a single tensor with shape: torch.Size([5024, 11])\n",
            "Output is a single tensor with shape: torch.Size([5024, 11])\n",
            "Output is a single tensor with shape: torch.Size([5024, 11])\n",
            "Output is a single tensor with shape: torch.Size([5024, 11])\n",
            "Output is a single tensor with shape: torch.Size([5024, 11])\n",
            "Output is a single tensor with shape: torch.Size([3768, 11])\n"
          ]
        },
        {
          "output_type": "stream",
          "name": "stderr",
          "text": [
            "Train Loss: 0.0003 | Val Loss: 0.1599:  98%|█████████▊| 49/50 [05:25<00:06,  6.74s/it]"
          ]
        },
        {
          "output_type": "stream",
          "name": "stdout",
          "text": [
            "Output is a single tensor with shape: torch.Size([5024, 11])\n",
            "Output is a single tensor with shape: torch.Size([5024, 11])\n",
            "Output is a single tensor with shape: torch.Size([5024, 11])\n",
            "Output is a single tensor with shape: torch.Size([5024, 11])\n",
            "Output is a single tensor with shape: torch.Size([5024, 11])\n",
            "Output is a single tensor with shape: torch.Size([5024, 11])\n",
            "Output is a single tensor with shape: torch.Size([5024, 11])\n",
            "Output is a single tensor with shape: torch.Size([5024, 11])\n",
            "Output is a single tensor with shape: torch.Size([5024, 11])\n",
            "Output is a single tensor with shape: torch.Size([5024, 11])\n",
            "Output is a single tensor with shape: torch.Size([5024, 11])\n",
            "Output is a single tensor with shape: torch.Size([5024, 11])\n",
            "Output is a single tensor with shape: torch.Size([5024, 11])\n",
            "Output is a single tensor with shape: torch.Size([5024, 11])\n",
            "Output is a single tensor with shape: torch.Size([5024, 11])\n",
            "Output is a single tensor with shape: torch.Size([5024, 11])\n",
            "Output is a single tensor with shape: torch.Size([3768, 11])\n"
          ]
        },
        {
          "output_type": "stream",
          "name": "stderr",
          "text": [
            "Train Loss: 0.0004 | Val Loss: 0.1606: 100%|██████████| 50/50 [05:31<00:00,  6.64s/it]\n"
          ]
        }
      ],
      "source": [
        "import torch\n",
        "from tqdm import tqdm\n",
        "from torch.utils.data import DataLoader, TensorDataset\n",
        "\n",
        "# Convertir X_train et Y_train en indices avec prepare_sequence\n",
        "X_train_indices = [prepare_sequence(sentence, word_to_ix) for sentence in X_train]\n",
        "Y_train_indices = [prepare_tag_sequence(tags, tag_to_ix) for tags in Y_train]\n",
        "\n",
        "X_val_indices = [prepare_sequence(sentence, word_to_ix) for sentence in X_val]\n",
        "Y_val_indices = [prepare_tag_sequence(tags, tag_to_ix) for tags in Y_val]\n",
        "\n",
        "# Convertir les listes en tenseurs en les remplissant (padding)\n",
        "X_train_tensor = torch.nn.utils.rnn.pad_sequence(X_train_indices, batch_first=True, padding_value=word_to_ix[PAD_TOKEN])\n",
        "Y_train_tensor = torch.nn.utils.rnn.pad_sequence(Y_train_indices, batch_first=True, padding_value=tag_to_ix[PAD_TOKEN])\n",
        "\n",
        "X_val_tensor = torch.nn.utils.rnn.pad_sequence(X_val_indices, batch_first=True, padding_value=word_to_ix[PAD_TOKEN])\n",
        "Y_val_tensor = torch.nn.utils.rnn.pad_sequence(Y_val_indices, batch_first=True, padding_value=tag_to_ix[PAD_TOKEN])\n",
        "\n",
        "# Créer des DataLoader pour le traitement par lots\n",
        "train_data = TensorDataset(X_train_tensor, Y_train_tensor)\n",
        "train_loader = DataLoader(train_data, batch_size=32, shuffle=True)\n",
        "\n",
        "val_data = TensorDataset(X_val_tensor, Y_val_tensor)\n",
        "val_loader = DataLoader(val_data, batch_size=32, shuffle=False)\n",
        "\n",
        "# Initialisation des listes pour stocker les pertes\n",
        "losses_train, losses_val = [], []\n",
        "\n",
        "# Optimiseur Adam et fonction de perte avec ignore_index pour les tokens de padding\n",
        "optimizer = torch.optim.Adam(model.parameters(), lr=0.001)\n",
        "loss_function = torch.nn.CrossEntropyLoss(ignore_index=tag_to_ix[PAD_TOKEN])\n",
        "\n",
        "# Progress bar\n",
        "bar = tqdm(range(EPOCHS))\n",
        "\n",
        "for epoch in bar:\n",
        "    mean_loss_train, mean_loss_val = 0, 0\n",
        "\n",
        "    # Entraînement du modèle sur le jeu d'entraînement\n",
        "    model.train()  # Définir le modèle en mode entraînement\n",
        "    for sentence, tags in train_loader:  # Cette boucle doit être dans la boucle d'époques\n",
        "        model.zero_grad()\n",
        "\n",
        "        sentence_in = sentence.to(device)\n",
        "        targets = tags.to(device)\n",
        "\n",
        "        # Exécution du passage avant (forward pass) avec LSTM\n",
        "        output = model(sentence_in)\n",
        "\n",
        "        # Vérification du type et de la longueur de la sortie\n",
        "        if isinstance(output, tuple):\n",
        "            print(f\"Output is a tuple with {len(output)} elements.\")\n",
        "        else:\n",
        "            print(f\"Output is a single tensor with shape: {output.shape}\")\n",
        "\n",
        "        # Si c'est un tuple (score, (h_t, c_t)), vous pouvez déballer\n",
        "        if len(output) == 2:\n",
        "            tag_scores, (h_t, c_t) = output\n",
        "        else:\n",
        "            tag_scores = output\n",
        "\n",
        "        # Calcul de la perte\n",
        "        loss = loss_function(tag_scores.view(-1, num_tags), targets.view(-1))\n",
        "        mean_loss_train += loss.item()\n",
        "\n",
        "        # Rétropropagation des gradients\n",
        "        loss.backward()\n",
        "        optimizer.step()\n",
        "\n",
        "    losses_train.append(mean_loss_train / len(train_loader))\n",
        "\n",
        "    # Validation sur le jeu de validation\n",
        "    model.eval()  # Définir le modèle en mode évaluation\n",
        "    mean_loss_val = 0  # Réinitialiser la perte de validation pour cette époque\n",
        "    with torch.no_grad():  # Pas de rétropropagation pendant la validation\n",
        "        for sentence, tags in val_loader:\n",
        "            sentence_in = sentence.to(device)\n",
        "            targets = tags.to(device)\n",
        "\n",
        "            # Exécution du passage avant sans tenter de récupérer l'état caché\n",
        "            tag_scores = model(sentence_in)\n",
        "\n",
        "            # Calcul de la perte pour la validation\n",
        "            loss = loss_function(tag_scores.view(-1, num_tags), targets.view(-1))\n",
        "            mean_loss_val += loss.item()\n",
        "\n",
        "    losses_val.append(mean_loss_val / len(val_loader))\n",
        "\n",
        "    # Affichage de la progression de l'entraînement et de la validation\n",
        "    bar.set_description(f\"Train Loss: {losses_train[-1]:.4f} | Val Loss: {losses_val[-1]:.4f}\")\n"
      ]
    },
    {
      "cell_type": "code",
      "execution_count": 31,
      "metadata": {
        "colab": {
          "base_uri": "https://localhost:8080/",
          "height": 472
        },
        "id": "D2ikrqs2aoEm",
        "outputId": "7ed0faec-4c9e-4c38-fb1f-ff4b7744b7e2"
      },
      "outputs": [
        {
          "output_type": "display_data",
          "data": {
            "text/plain": [
              "<Figure size 640x480 with 1 Axes>"
            ],
            "image/png": "[encoded data removed]"
          },
          "metadata": {}
        }
      ],
      "source": [
        "import matplotlib.pyplot as plt\n",
        "\n",
        "# Affichage des courbes de perte d'entraînement et de validation\n",
        "plt.plot(losses_train, label=\"Train Loss\")\n",
        "plt.plot(losses_val, label=\"Validation Loss\")\n",
        "plt.xlabel('Epochs')\n",
        "plt.ylabel('Loss')\n",
        "plt.legend()\n",
        "plt.title('Train and Validation Loss over Epochs')\n",
        "plt.show()\n"
      ]
    },
    {
      "cell_type": "code",
      "source": [
        "\n",
        "import torch\n",
        "\n",
        "# Fonction pour tester une phrase donnée et afficher les prédictions de tags\n",
        "def test_sentence(sentence, model, word_to_ix, tag_to_ix, device):\n",
        "    # Préparer la séquence de mots et les tags de la phrase d'entrée\n",
        "    sentence_in = prepare_sequence(sentence, word_to_ix).to(device)\n",
        "\n",
        "    # Passer la phrase dans le modèle pour obtenir les scores de tags\n",
        "    with torch.no_grad():  # Pas de rétropropagation, on est en mode évaluation\n",
        "        tag_scores = model(sentence_in)\n",
        "\n",
        "    # Convertir les scores en prédictions de tags (index des scores les plus élevés)\n",
        "    _, predicted_tags = torch.max(tag_scores, dim=1)\n",
        "\n",
        "    # Convertir les indices de prédictions en tags réels\n",
        "    predicted_tags = [list(tag_to_ix.keys())[list(tag_to_ix.values()).index(tag.item())] for tag in predicted_tags]\n",
        "\n",
        "    return predicted_tags\n",
        "\n",
        "# Exemple d'une phrase de votre jeu d'entraînement (remplacez par une phrase spécifique)\n",
        "sentence = X_train[0]  # Utilisez la première phrase du jeu d'entraînement\n",
        "\n",
        "# Obtenir les prédictions pour cette phrase\n",
        "predicted_tags = test_sentence(sentence, model, word_to_ix, tag_to_ix, device)\n",
        "\n",
        "# Afficher la phrase et les tags prédits\n",
        "print(\"Sentence:\")\n",
        "print(sentence)\n",
        "print(\"\\nPredicted Tags:\")\n",
        "print(predicted_tags)\n"
      ],
      "metadata": {
        "colab": {
          "base_uri": "https://localhost:8080/"
        },
        "id": "-a4M3O0lJ-og",
        "outputId": "d51f4318-cab1-4941-96e9-3276ea10f010"
      },
      "execution_count": 33,
      "outputs": [
        {
          "output_type": "stream",
          "name": "stdout",
          "text": [
            "Sentence:\n",
            "['courts', 'ferrugineux', 'réticulées', 'calice', 'feuilles', 'nervures', 'corolle', 'écorce', 'rameaux', 'nervilles', 'décurrente', 'fructifère', 'corolle', 'calice', 'arbuste', 'coriaces', 'oblancéolé', 'pubérulents', 'feuilles', 'glabre', 'réfléchis', 'voyants', 'court', 'feuilles', 'petit', 'rameaux', 'marge', 'fructifère', 'feuilles', 'poils', 'corolle', 'limbe', 'fleurs', 'calice', 'bouton', 'persistants', 'poils', 'cunéiforme', 'cupuliforme', 'visibles', 'arbre', 'base', 'fruit', 'feuilles', 'tube', 'fructifère', 'rameaux', 'pétiole', 'émarginé', 'nervures', 'bords', 'calice', 'pédicelles', 'fleurs', 'feuilles', 'calice', 'jaune', 'fructifère', 'calice', 'petit', 'grossiers', 'révolutée', 'lobes', 'lobes', 'fruit', 'fascicules', 'ellipsoïde', 'large', 'ondulée', 'axillaires', 'lobé', 'aisselle', 'fruit', 'lobé', 'obtus', 'fruit']\n",
            "\n",
            "Predicted Tags:\n",
            "['DESCRIPTEUR', 'COULEUR', 'SURFACE', 'ORGANE', 'ORGANE', 'ORGANE', 'ORGANE', 'ORGANE', 'ORGANE', 'ORGANE', 'DISPOSITION', 'DESCRIPTEUR', 'ORGANE', 'ORGANE', 'ORGANE', 'DESCRIPTEUR', 'FORME', 'SURFACE', 'ORGANE', 'SURFACE', 'DISPOSITION', 'DESCRIPTEUR', 'DESCRIPTEUR', 'ORGANE', 'DESCRIPTEUR', 'ORGANE', 'ORGANE', 'DESCRIPTEUR', 'ORGANE', 'ORGANE', 'ORGANE', 'ORGANE', 'ORGANE', 'ORGANE', 'ORGANE', 'DESCRIPTEUR', 'ORGANE', 'FORME', 'FORME', 'DESCRIPTEUR', 'ORGANE', 'ORGANE', 'ORGANE', 'ORGANE', 'ORGANE', 'DESCRIPTEUR', 'ORGANE', 'ORGANE', 'FORME', 'ORGANE', 'ORGANE', 'ORGANE', 'ORGANE', 'ORGANE', 'ORGANE', 'ORGANE', 'COULEUR', 'DESCRIPTEUR', 'ORGANE', 'DESCRIPTEUR', 'DESCRIPTEUR', 'DESCRIPTEUR', 'ORGANE', 'ORGANE', 'ORGANE', 'ORGANE', 'ORGANE', 'DESCRIPTEUR', 'STRUCTURE', 'POSITION', 'STRUCTURE', 'ORGANE', 'ORGANE', 'STRUCTURE', 'FORME', 'ORGANE']\n"
          ]
        }
      ]
    },
    {
      "cell_type": "code",
      "execution_count": 39,
      "metadata": {
        "id": "ZaPc3hk5lR-C"
      },
      "outputs": [],
      "source": [
        "import torch\n",
        "import torch.nn as nn\n",
        "import torch.nn.functional as F\n",
        "\n",
        "class PeepholeLSTM(nn.Module):\n",
        "    def __init__(self, input_size, hidden_size, output_size):\n",
        "        super(PeepholeLSTM, self).__init__()\n",
        "\n",
        "        self.hidden_size = hidden_size\n",
        "\n",
        "        # GATES - Weight matrices\n",
        "        self.Wxi = nn.Linear(input_size, hidden_size)  # Input gate weights for input\n",
        "        self.Whi = nn.Linear(hidden_size, hidden_size)  # Input gate weights for hidden state\n",
        "        self.Wxf = nn.Linear(input_size, hidden_size)  # Forget gate weights for input\n",
        "        self.Whf = nn.Linear(hidden_size, hidden_size)  # Forget gate weights for hidden state\n",
        "        self.Wxo = nn.Linear(input_size, hidden_size)  # Output gate weights for input\n",
        "        self.Who = nn.Linear(hidden_size, hidden_size)  # Output gate weights for hidden state\n",
        "        self.Wxg = nn.Linear(input_size, hidden_size)  # Candidate gate weights for input\n",
        "        self.Whg = nn.Linear(hidden_size, hidden_size)  # Candidate gate weights for hidden state\n",
        "\n",
        "        # Peephole connections - weights for cell state contributions to gates\n",
        "        self.W_i_cell = nn.Parameter(torch.zeros(hidden_size))  # Peephole connection for input gate\n",
        "        self.W_f_cell = nn.Parameter(torch.zeros(hidden_size))  # Peephole connection for forget gate\n",
        "        self.W_o_cell = nn.Parameter(torch.zeros(hidden_size))  # Peephole connection for output gate\n",
        "\n",
        "        # Biases for each gate\n",
        "        self.bi = nn.Parameter(torch.zeros(hidden_size))\n",
        "        self.bf = nn.Parameter(torch.zeros(hidden_size))\n",
        "        self.bo = nn.Parameter(torch.zeros(hidden_size))\n",
        "        self.bc = nn.Parameter(torch.zeros(hidden_size))\n",
        "\n",
        "        # Output layer\n",
        "        self.h2o = nn.Linear(hidden_size, output_size)\n",
        "\n",
        "    def forward(self, sentence):\n",
        "        output = []\n",
        "        device = sentence.device  # Récupère le dispositif des données (CPU ou GPU)\n",
        "        h_t = torch.zeros(1, self.hidden_size, device=device)  # Initial hidden state\n",
        "        c_t = torch.zeros(1, self.hidden_size, device=device)  # Initial cell state\n",
        "\n",
        "        for x_t in sentence:\n",
        "            # Input gate (with peephole connection)\n",
        "            i_t = torch.sigmoid(self.Wxi(x_t) + self.Whi(h_t) + self.bi + self.W_i_cell * c_t)\n",
        "            # Forget gate (with peephole connection)\n",
        "            f_t = torch.sigmoid(self.Wxf(x_t) + self.Whf(h_t) + self.bf + self.W_f_cell * c_t)\n",
        "            # Output gate (with peephole connection)\n",
        "            o_t = torch.sigmoid(self.Wxo(x_t) + self.Who(h_t) + self.bo + self.W_o_cell * c_t)\n",
        "            # Candidate memory cell\n",
        "            g_t = torch.tanh(self.Wxg(x_t) + self.Whg(h_t) + self.bc)\n",
        "\n",
        "            # Update cell state\n",
        "            c_t = f_t * c_t + i_t * g_t\n",
        "\n",
        "            # Update hidden state\n",
        "            h_t = o_t * torch.tanh(c_t)\n",
        "\n",
        "            # Compute output\n",
        "            out = self.h2o(h_t)\n",
        "            output.append(out)\n",
        "\n",
        "        output = torch.stack(output)\n",
        "        return output, (h_t, c_t)\n",
        "\n",
        "    def initHidden(self, device='cpu'):\n",
        "        # Initialisation du hidden state pour un dispositif spécifique\n",
        "        return torch.zeros(1, self.hidden_size, device=device)\n"
      ]
    },
    {
      "cell_type": "code",
      "source": [
        "class POSTagger(nn.Module):\n",
        "    def __init__(self, embedding_dim, hidden_dim, vocab_size, tagset_size):\n",
        "        super(POSTagger, self).__init__()\n",
        "\n",
        "        self.hidden_dim = hidden_dim\n",
        "        self.word_embeddings = nn.Embedding(vocab_size, embedding_dim)\n",
        "\n",
        "        # Passez output_size comme argument de PeepholeLSTM\n",
        "        self.lstm = PeepholeLSTM(embedding_dim, hidden_dim, hidden_dim)  # hidden_dim comme output_size ici\n",
        "        self.hidden2tag = nn.Linear(hidden_dim, tagset_size)\n",
        "\n",
        "    def forward(self, sentence):\n",
        "        embeds = self.word_embeddings(sentence)\n",
        "        lstm_out, _ = self.lstm(embeds)  # Passer les embeddings à PeepholeLSTM\n",
        "        tag_scores = self.hidden2tag(lstm_out)\n",
        "        return tag_scores\n"
      ],
      "metadata": {
        "id": "JcN3ypEWjxrF"
      },
      "execution_count": 53,
      "outputs": []
    },
    {
      "cell_type": "code",
      "source": [
        "embedding_dim = 128\n",
        "hidden_dim = 256\n",
        "output_size = 10  # Nombre de classes ou de sorties\n",
        "vocab_size = 2737  # Taille du vocabulaire (ajustez en fonction de votre jeu de données)\n",
        "\n",
        "# Initialiser le modèle\n",
        "model = PeepholeLSTM(input_size=embedding_dim, hidden_size=hidden_dim, output_size=output_size).to(device)\n"
      ],
      "metadata": {
        "id": "_aQGawgrjz-c"
      },
      "execution_count": 41,
      "outputs": []
    },
    {
      "cell_type": "code",
      "execution_count": 50,
      "metadata": {
        "id": "vfXv9rnzlX1W"
      },
      "outputs": [],
      "source": [
        "import torch.optim as optim\n",
        "from sklearn.metrics import accuracy_score, precision_score, recall_score, f1_score\n",
        "\n",
        "# Fonction d'entraînement\n",
        "def train_model(model, train_loader, val_loader, optimizer, criterion, num_epochs, device):\n",
        "    model.to(device)\n",
        "    best_val_accuracy = 0.0\n",
        "    train_accuracies = []  # Pour stocker les accuracies d'entraînement\n",
        "    val_accuracies = []    # Pour stocker les accuracies de validation\n",
        "\n",
        "    for epoch in range(num_epochs):\n",
        "        model.train()  # Mode entraînement\n",
        "        total_loss = 0.0\n",
        "        all_train_predictions = []\n",
        "        all_train_labels = []\n",
        "\n",
        "        for sentences, labels in train_loader:\n",
        "            sentences = sentences.to(device)\n",
        "            labels = labels.to(device)\n",
        "\n",
        "            optimizer.zero_grad()  # Réinitialiser les gradients\n",
        "\n",
        "            # Forward pass\n",
        "            tag_scores = model(sentences)\n",
        "            tag_scores = tag_scores.view(-1, tag_scores.size(-1))  # Redimensionner pour correspondre à labels\n",
        "            labels = labels.view(-1)  # Redimensionner les étiquettes\n",
        "\n",
        "            # Calcul de la perte\n",
        "            loss = criterion(tag_scores, labels)\n",
        "            loss.backward()  # Backpropagation\n",
        "            optimizer.step()  # Mise à jour des poids\n",
        "\n",
        "            total_loss += loss.item()\n",
        "\n",
        "            # Calcul des prédictions et ajouter à la liste\n",
        "            _, predicted_tags = torch.max(tag_scores, dim=-1)\n",
        "            all_train_predictions.extend(predicted_tags.cpu().numpy().flatten())\n",
        "            all_train_labels.extend(labels.cpu().numpy().flatten())\n",
        "\n",
        "        # Calcul de l'accuracy de l'entraînement\n",
        "        train_accuracy = accuracy_score(all_train_labels, all_train_predictions)\n",
        "        train_accuracies.append(train_accuracy)\n",
        "        print(f\"Epoch [{epoch+1}/{num_epochs}], Loss: {total_loss:.4f}, Train Accuracy: {train_accuracy*100:.2f}%\")\n",
        "\n",
        "        # Validation après chaque époque\n",
        "        val_accuracy = evaluate_model(model, val_loader, device)\n",
        "        val_accuracies.append(val_accuracy)\n",
        "        print(f\"Epoch [{epoch+1}/{num_epochs}], Validation Accuracy: {val_accuracy:.2f}%\")\n",
        "\n",
        "        # Sauvegarde du meilleur modèle\n",
        "        if val_accuracy > best_val_accuracy:\n",
        "            best_val_accuracy = val_accuracy\n",
        "            torch.save(model.state_dict(), \"best_peehole_lstm_model.pth\")\n",
        "\n",
        "    print(f\"Best Validation Accuracy: {best_val_accuracy:.2f}%\")\n",
        "\n",
        "    # Retourner les résultats pour les analyser après l'entraînement\n",
        "    return train_accuracies, val_accuracies\n"
      ]
    },
    {
      "cell_type": "code",
      "source": [
        "# Fonction pour évaluer le modèle\n",
        "def evaluate_model(model, data_loader, device):\n",
        "    model.eval()  # Mode évaluation\n",
        "    all_predictions = []\n",
        "    all_labels = []\n",
        "\n",
        "    with torch.no_grad():\n",
        "        for sentences, labels in data_loader:\n",
        "            sentences = sentences.to(device)\n",
        "            labels = labels.to(device)\n",
        "\n",
        "            # Forward pass\n",
        "            tag_scores = model(sentences)\n",
        "            _, predicted_tags = torch.max(tag_scores, dim=-1)\n",
        "\n",
        "            all_predictions.extend(predicted_tags.cpu().numpy().flatten())\n",
        "            all_labels.extend(labels.cpu().numpy().flatten())\n",
        "\n",
        "    # Calcul des métriques\n",
        "    accuracy = accuracy_score(all_labels, all_predictions)\n",
        "    precision = precision_score(all_labels, all_predictions, average='weighted', zero_division=1)\n",
        "    recall = recall_score(all_labels, all_predictions, average='weighted', zero_division=1)\n",
        "    f1 = f1_score(all_labels, all_predictions, average='weighted', zero_division=1)\n",
        "\n",
        "    # Affichage des résultats\n",
        "    print(f\"Accuracy: {accuracy*100:.2f}%\")\n",
        "    print(f\"Precision: {precision:.2f}\")\n",
        "    print(f\"Recall: {recall:.2f}\")\n",
        "    print(f\"F1 Score: {f1:.2f}\")\n",
        "\n",
        "    # Retourner l'accuracy pour l'utilisation dans le calcul\n",
        "    return accuracy * 100\n"
      ],
      "metadata": {
        "id": "ranG0DSYVA74"
      },
      "execution_count": 51,
      "outputs": []
    },
    {
      "cell_type": "code",
      "source": [
        "# Hyperparamètres\n",
        "embedding_dim = 128\n",
        "hidden_dim = 256\n",
        "vocab_size = len(word_to_ix)  # La taille du vocabulaire\n",
        "tagset_size = len(tag_to_ix) # Nombre d'étiquettes (ajustez selon votre tâche)\n",
        "num_epochs = 50\n",
        "learning_rate = 0.001\n",
        "\n",
        "# Modèle, critère et optimiseur\n",
        "device = torch.device(\"cuda\" if torch.cuda.is_available() else \"cpu\")\n",
        "model = POSTagger(embedding_dim, hidden_dim, vocab_size, tagset_size).to(device)\n",
        "\n",
        "# Optimiseur et fonction de perte\n",
        "criterion = nn.CrossEntropyLoss(ignore_index=0)  # Ignorer le padding (index 0)\n",
        "optimizer = optim.Adam(model.parameters(), lr=learning_rate)\n",
        "\n",
        "# Entraînement et récupération des résultats\n",
        "train_accuracies, val_accuracies = train_model(model, train_loader, val_loader, optimizer, criterion, num_epochs, device)\n",
        "\n",
        "\n"
      ],
      "metadata": {
        "colab": {
          "base_uri": "https://localhost:8080/"
        },
        "id": "v5a9XWWoVGOZ",
        "outputId": "1826458a-4804-4a9c-942e-25226c2d7ede"
      },
      "execution_count": 63,
      "outputs": [
        {
          "output_type": "stream",
          "name": "stdout",
          "text": [
            "Epoch [1/50], Loss: 17.1370, Train Accuracy: 69.54%\n",
            "Accuracy: 82.76%\n",
            "Precision: 0.79\n",
            "Recall: 0.83\n",
            "F1 Score: 0.77\n",
            "Epoch [1/50], Validation Accuracy: 82.76%\n",
            "Epoch [2/50], Loss: 8.1018, Train Accuracy: 85.65%\n",
            "Accuracy: 83.51%\n",
            "Precision: 0.85\n",
            "Recall: 0.84\n",
            "F1 Score: 0.79\n",
            "Epoch [2/50], Validation Accuracy: 83.51%\n",
            "Epoch [3/50], Loss: 6.2755, Train Accuracy: 86.07%\n",
            "Accuracy: 84.27%\n",
            "Precision: 0.85\n",
            "Recall: 0.84\n",
            "F1 Score: 0.80\n",
            "Epoch [3/50], Validation Accuracy: 84.27%\n",
            "Epoch [4/50], Loss: 5.3102, Train Accuracy: 87.92%\n",
            "Accuracy: 87.58%\n",
            "Precision: 0.88\n",
            "Recall: 0.88\n",
            "F1 Score: 0.85\n",
            "Epoch [4/50], Validation Accuracy: 87.58%\n",
            "Epoch [5/50], Loss: 4.3294, Train Accuracy: 90.18%\n",
            "Accuracy: 89.80%\n",
            "Precision: 0.89\n",
            "Recall: 0.90\n",
            "F1 Score: 0.88\n",
            "Epoch [5/50], Validation Accuracy: 89.80%\n",
            "Epoch [6/50], Loss: 3.4265, Train Accuracy: 92.06%\n",
            "Accuracy: 91.47%\n",
            "Precision: 0.93\n",
            "Recall: 0.91\n",
            "F1 Score: 0.90\n",
            "Epoch [6/50], Validation Accuracy: 91.47%\n",
            "Epoch [7/50], Loss: 2.7606, Train Accuracy: 93.23%\n",
            "Accuracy: 92.51%\n",
            "Precision: 0.94\n",
            "Recall: 0.93\n",
            "F1 Score: 0.91\n",
            "Epoch [7/50], Validation Accuracy: 92.51%\n",
            "Epoch [8/50], Loss: 2.2417, Train Accuracy: 94.27%\n",
            "Accuracy: 93.88%\n",
            "Precision: 0.95\n",
            "Recall: 0.94\n",
            "F1 Score: 0.92\n",
            "Epoch [8/50], Validation Accuracy: 93.88%\n",
            "Epoch [9/50], Loss: 1.8529, Train Accuracy: 95.16%\n",
            "Accuracy: 94.53%\n",
            "Precision: 0.95\n",
            "Recall: 0.95\n",
            "F1 Score: 0.93\n",
            "Epoch [9/50], Validation Accuracy: 94.53%\n",
            "Epoch [10/50], Loss: 1.5249, Train Accuracy: 95.69%\n",
            "Accuracy: 95.18%\n",
            "Precision: 0.95\n",
            "Recall: 0.95\n",
            "F1 Score: 0.94\n",
            "Epoch [10/50], Validation Accuracy: 95.18%\n",
            "Epoch [11/50], Loss: 1.2615, Train Accuracy: 96.20%\n",
            "Accuracy: 95.46%\n",
            "Precision: 0.96\n",
            "Recall: 0.95\n",
            "F1 Score: 0.94\n",
            "Epoch [11/50], Validation Accuracy: 95.46%\n",
            "Epoch [12/50], Loss: 1.0623, Train Accuracy: 96.56%\n",
            "Accuracy: 95.76%\n",
            "Precision: 0.96\n",
            "Recall: 0.96\n",
            "F1 Score: 0.95\n",
            "Epoch [12/50], Validation Accuracy: 95.76%\n",
            "Epoch [13/50], Loss: 0.8811, Train Accuracy: 96.84%\n",
            "Accuracy: 96.07%\n",
            "Precision: 0.96\n",
            "Recall: 0.96\n",
            "F1 Score: 0.95\n",
            "Epoch [13/50], Validation Accuracy: 96.07%\n",
            "Epoch [14/50], Loss: 0.7379, Train Accuracy: 97.12%\n",
            "Accuracy: 96.30%\n",
            "Precision: 0.96\n",
            "Recall: 0.96\n",
            "F1 Score: 0.95\n",
            "Epoch [14/50], Validation Accuracy: 96.30%\n",
            "Epoch [15/50], Loss: 0.6236, Train Accuracy: 97.29%\n",
            "Accuracy: 96.46%\n",
            "Precision: 0.97\n",
            "Recall: 0.96\n",
            "F1 Score: 0.95\n",
            "Epoch [15/50], Validation Accuracy: 96.46%\n",
            "Epoch [16/50], Loss: 0.5319, Train Accuracy: 97.43%\n",
            "Accuracy: 96.54%\n",
            "Precision: 0.97\n",
            "Recall: 0.97\n",
            "F1 Score: 0.96\n",
            "Epoch [16/50], Validation Accuracy: 96.54%\n",
            "Epoch [17/50], Loss: 0.4544, Train Accuracy: 97.56%\n",
            "Accuracy: 96.70%\n",
            "Precision: 0.97\n",
            "Recall: 0.97\n",
            "F1 Score: 0.96\n",
            "Epoch [17/50], Validation Accuracy: 96.70%\n",
            "Epoch [18/50], Loss: 0.3870, Train Accuracy: 97.68%\n",
            "Accuracy: 96.75%\n",
            "Precision: 0.97\n",
            "Recall: 0.97\n",
            "F1 Score: 0.96\n",
            "Epoch [18/50], Validation Accuracy: 96.75%\n",
            "Epoch [19/50], Loss: 0.3426, Train Accuracy: 97.72%\n",
            "Accuracy: 96.83%\n",
            "Precision: 0.97\n",
            "Recall: 0.97\n",
            "F1 Score: 0.96\n",
            "Epoch [19/50], Validation Accuracy: 96.83%\n",
            "Epoch [20/50], Loss: 0.2843, Train Accuracy: 97.81%\n",
            "Accuracy: 96.91%\n",
            "Precision: 0.97\n",
            "Recall: 0.97\n",
            "F1 Score: 0.96\n",
            "Epoch [20/50], Validation Accuracy: 96.91%\n",
            "Epoch [21/50], Loss: 0.2456, Train Accuracy: 97.88%\n",
            "Accuracy: 96.96%\n",
            "Precision: 0.97\n",
            "Recall: 0.97\n",
            "F1 Score: 0.96\n",
            "Epoch [21/50], Validation Accuracy: 96.96%\n",
            "Epoch [22/50], Loss: 0.2168, Train Accuracy: 97.92%\n",
            "Accuracy: 96.97%\n",
            "Precision: 0.97\n",
            "Recall: 0.97\n",
            "F1 Score: 0.96\n",
            "Epoch [22/50], Validation Accuracy: 96.97%\n",
            "Epoch [23/50], Loss: 0.1781, Train Accuracy: 97.97%\n",
            "Accuracy: 97.00%\n",
            "Precision: 0.97\n",
            "Recall: 0.97\n",
            "F1 Score: 0.96\n",
            "Epoch [23/50], Validation Accuracy: 97.00%\n",
            "Epoch [24/50], Loss: 0.1585, Train Accuracy: 98.02%\n",
            "Accuracy: 97.06%\n",
            "Precision: 0.97\n",
            "Recall: 0.97\n",
            "F1 Score: 0.96\n",
            "Epoch [24/50], Validation Accuracy: 97.06%\n",
            "Epoch [25/50], Loss: 0.1320, Train Accuracy: 98.06%\n",
            "Accuracy: 97.07%\n",
            "Precision: 0.97\n",
            "Recall: 0.97\n",
            "F1 Score: 0.96\n",
            "Epoch [25/50], Validation Accuracy: 97.07%\n",
            "Epoch [26/50], Loss: 0.1130, Train Accuracy: 98.10%\n",
            "Accuracy: 97.07%\n",
            "Precision: 0.97\n",
            "Recall: 0.97\n",
            "F1 Score: 0.96\n",
            "Epoch [26/50], Validation Accuracy: 97.07%\n",
            "Epoch [27/50], Loss: 0.1017, Train Accuracy: 98.11%\n",
            "Accuracy: 97.08%\n",
            "Precision: 0.97\n",
            "Recall: 0.97\n",
            "F1 Score: 0.96\n",
            "Epoch [27/50], Validation Accuracy: 97.08%\n",
            "Epoch [28/50], Loss: 0.0826, Train Accuracy: 98.13%\n",
            "Accuracy: 97.11%\n",
            "Precision: 0.97\n",
            "Recall: 0.97\n",
            "F1 Score: 0.96\n",
            "Epoch [28/50], Validation Accuracy: 97.11%\n",
            "Epoch [29/50], Loss: 0.0719, Train Accuracy: 98.15%\n",
            "Accuracy: 97.11%\n",
            "Precision: 0.97\n",
            "Recall: 0.97\n",
            "F1 Score: 0.96\n",
            "Epoch [29/50], Validation Accuracy: 97.11%\n",
            "Epoch [30/50], Loss: 0.0640, Train Accuracy: 98.16%\n",
            "Accuracy: 97.10%\n",
            "Precision: 0.97\n",
            "Recall: 0.97\n",
            "F1 Score: 0.96\n",
            "Epoch [30/50], Validation Accuracy: 97.10%\n",
            "Epoch [31/50], Loss: 0.0557, Train Accuracy: 98.17%\n",
            "Accuracy: 97.12%\n",
            "Precision: 0.97\n",
            "Recall: 0.97\n",
            "F1 Score: 0.96\n",
            "Epoch [31/50], Validation Accuracy: 97.12%\n",
            "Epoch [32/50], Loss: 0.0460, Train Accuracy: 98.18%\n",
            "Accuracy: 97.12%\n",
            "Precision: 0.97\n",
            "Recall: 0.97\n",
            "F1 Score: 0.96\n",
            "Epoch [32/50], Validation Accuracy: 97.12%\n",
            "Epoch [33/50], Loss: 0.0422, Train Accuracy: 98.18%\n",
            "Accuracy: 97.13%\n",
            "Precision: 0.97\n",
            "Recall: 0.97\n",
            "F1 Score: 0.96\n",
            "Epoch [33/50], Validation Accuracy: 97.13%\n",
            "Epoch [34/50], Loss: 0.0374, Train Accuracy: 98.19%\n",
            "Accuracy: 97.13%\n",
            "Precision: 0.97\n",
            "Recall: 0.97\n",
            "F1 Score: 0.96\n",
            "Epoch [34/50], Validation Accuracy: 97.13%\n",
            "Epoch [35/50], Loss: 0.0368, Train Accuracy: 98.19%\n",
            "Accuracy: 97.15%\n",
            "Precision: 0.97\n",
            "Recall: 0.97\n",
            "F1 Score: 0.96\n",
            "Epoch [35/50], Validation Accuracy: 97.15%\n",
            "Epoch [36/50], Loss: 0.0290, Train Accuracy: 98.19%\n",
            "Accuracy: 97.16%\n",
            "Precision: 0.97\n",
            "Recall: 0.97\n",
            "F1 Score: 0.96\n",
            "Epoch [36/50], Validation Accuracy: 97.16%\n",
            "Epoch [37/50], Loss: 0.0264, Train Accuracy: 98.20%\n",
            "Accuracy: 97.16%\n",
            "Precision: 0.97\n",
            "Recall: 0.97\n",
            "F1 Score: 0.96\n",
            "Epoch [37/50], Validation Accuracy: 97.16%\n",
            "Epoch [38/50], Loss: 0.0243, Train Accuracy: 98.19%\n",
            "Accuracy: 97.16%\n",
            "Precision: 0.97\n",
            "Recall: 0.97\n",
            "F1 Score: 0.96\n",
            "Epoch [38/50], Validation Accuracy: 97.16%\n",
            "Epoch [39/50], Loss: 0.0207, Train Accuracy: 98.20%\n",
            "Accuracy: 97.17%\n",
            "Precision: 0.97\n",
            "Recall: 0.97\n",
            "F1 Score: 0.96\n",
            "Epoch [39/50], Validation Accuracy: 97.17%\n",
            "Epoch [40/50], Loss: 0.0204, Train Accuracy: 98.20%\n",
            "Accuracy: 97.18%\n",
            "Precision: 0.97\n",
            "Recall: 0.97\n",
            "F1 Score: 0.96\n",
            "Epoch [40/50], Validation Accuracy: 97.18%\n",
            "Epoch [41/50], Loss: 0.0181, Train Accuracy: 98.20%\n",
            "Accuracy: 97.18%\n",
            "Precision: 0.97\n",
            "Recall: 0.97\n",
            "F1 Score: 0.96\n",
            "Epoch [41/50], Validation Accuracy: 97.18%\n",
            "Epoch [42/50], Loss: 0.0140, Train Accuracy: 98.20%\n",
            "Accuracy: 97.18%\n",
            "Precision: 0.97\n",
            "Recall: 0.97\n",
            "F1 Score: 0.96\n",
            "Epoch [42/50], Validation Accuracy: 97.18%\n",
            "Epoch [43/50], Loss: 0.0166, Train Accuracy: 98.21%\n",
            "Accuracy: 97.18%\n",
            "Precision: 0.97\n",
            "Recall: 0.97\n",
            "F1 Score: 0.96\n",
            "Epoch [43/50], Validation Accuracy: 97.18%\n",
            "Epoch [44/50], Loss: 0.0143, Train Accuracy: 98.20%\n",
            "Accuracy: 97.17%\n",
            "Precision: 0.97\n",
            "Recall: 0.97\n",
            "F1 Score: 0.96\n",
            "Epoch [44/50], Validation Accuracy: 97.17%\n",
            "Epoch [45/50], Loss: 0.0108, Train Accuracy: 98.21%\n",
            "Accuracy: 97.18%\n",
            "Precision: 0.97\n",
            "Recall: 0.97\n",
            "F1 Score: 0.96\n",
            "Epoch [45/50], Validation Accuracy: 97.18%\n",
            "Epoch [46/50], Loss: 0.0115, Train Accuracy: 98.21%\n",
            "Accuracy: 97.17%\n",
            "Precision: 0.97\n",
            "Recall: 0.97\n",
            "F1 Score: 0.96\n",
            "Epoch [46/50], Validation Accuracy: 97.17%\n",
            "Epoch [47/50], Loss: 0.0125, Train Accuracy: 98.20%\n",
            "Accuracy: 97.18%\n",
            "Precision: 0.97\n",
            "Recall: 0.97\n",
            "F1 Score: 0.96\n",
            "Epoch [47/50], Validation Accuracy: 97.18%\n",
            "Epoch [48/50], Loss: 0.0096, Train Accuracy: 98.21%\n",
            "Accuracy: 97.18%\n",
            "Precision: 0.97\n",
            "Recall: 0.97\n",
            "F1 Score: 0.96\n",
            "Epoch [48/50], Validation Accuracy: 97.18%\n",
            "Epoch [49/50], Loss: 0.0100, Train Accuracy: 98.21%\n",
            "Accuracy: 97.18%\n",
            "Precision: 0.97\n",
            "Recall: 0.97\n",
            "F1 Score: 0.96\n",
            "Epoch [49/50], Validation Accuracy: 97.18%\n",
            "Epoch [50/50], Loss: 0.0086, Train Accuracy: 98.21%\n",
            "Accuracy: 97.18%\n",
            "Precision: 0.97\n",
            "Recall: 0.97\n",
            "F1 Score: 0.96\n",
            "Epoch [50/50], Validation Accuracy: 97.18%\n",
            "Best Validation Accuracy: 97.18%\n"
          ]
        }
      ]
    },
    {
      "cell_type": "code",
      "source": [
        "import torch\n",
        "from sklearn.metrics import accuracy_score\n",
        "from sklearn.metrics import precision_score, recall_score, f1_score\n",
        "\n",
        "# Fonction pour tester l'accuracy sur les données de validation ou de test\n",
        "def test_accuracy(model, data_loader, device):\n",
        "    model.eval()  # Passer le modèle en mode évaluation\n",
        "    all_predictions = []\n",
        "    all_labels = []\n",
        "\n",
        "    with torch.no_grad():  # Pas de calcul de gradients pendant l'évaluation\n",
        "        for sentence, tags in data_loader:\n",
        "            sentence_in = sentence.to(device)\n",
        "            targets = tags.to(device)\n",
        "\n",
        "            # Faire la prédiction\n",
        "            tag_scores = model(sentence_in)\n",
        "\n",
        "            if tag_scores.dim() == 3:  # Si la sortie est de dimension 3 (batch_size, seq_len, num_tags)\n",
        "                _, predicted_tags = torch.max(tag_scores, dim=2)\n",
        "            # Si les scores sont sous forme (batch_size, seq_len), ce n'est pas nécessaire\n",
        "            else:\n",
        "                predicted_tags = tag_scores.argmax(dim=1)\n",
        "\n",
        "            # Ajouter les prédictions et les étiquettes réelles pour calculer l'accuracy\n",
        "            all_predictions.extend(predicted_tags.cpu().numpy().flatten())\n",
        "            all_labels.extend(targets.cpu().numpy().flatten())\n",
        "\n",
        "    # Calculer l'accuracy (ignorer le padding)\n",
        "    accuracy = accuracy_score(all_labels, all_predictions)\n",
        "\n",
        "    # Retourner les métriques classiques\n",
        "    precision = precision_score(all_labels, all_predictions, average='weighted', zero_division=1)\n",
        "    recall = recall_score(all_labels, all_predictions, average='weighted', zero_division=1)\n",
        "    f1 = f1_score(all_labels, all_predictions, average='weighted', zero_division=1)\n",
        "\n",
        "    return accuracy, precision, recall, f1\n",
        "\n",
        "# Appeler la fonction pour calculer l'accuracy\n",
        "test_accuracy_value, precision_value, recall_value, f1_value = test_accuracy(model, val_loader, device)  # Ou test_loader si vous avez un jeu de test\n",
        "print(f'Test Accuracy: {test_accuracy_value * 100:.2f}%')\n",
        "print(f'Precision: {precision_value:.2f}')\n",
        "print(f'Recall: {recall_value:.2f}')\n",
        "print(f'F1 Score: {f1_value:.2f}')\n",
        "\n"
      ],
      "metadata": {
        "id": "vqGq8HR83VF_",
        "colab": {
          "base_uri": "https://localhost:8080/"
        },
        "outputId": "01dd7bde-bece-4b36-e59d-f17a9f6928db"
      },
      "execution_count": 59,
      "outputs": [
        {
          "output_type": "stream",
          "name": "stdout",
          "text": [
            "Test Accuracy: 97.16%\n",
            "Precision: 0.97\n",
            "Recall: 0.97\n",
            "F1 Score: 0.96\n"
          ]
        }
      ]
    },
    {
      "cell_type": "code",
      "source": [
        "import torch\n",
        "\n",
        "# Fonction pour préparer la séquence en indices à partir de word_to_ix\n",
        "def prepare_sequence(sequence, word_to_ix):\n",
        "    return torch.tensor([word_to_ix.get(word, word_to_ix[\"<UNK>\"]) for word in sequence], dtype=torch.long)\n",
        "\n",
        "# Fonction pour tester une phrase donnée et afficher les prédictions de tags\n",
        "def test_sentence(sentence, model, word_to_ix, tag_to_ix, device):\n",
        "    # Préparer la séquence de mots\n",
        "    sentence_in = prepare_sequence(sentence, word_to_ix).unsqueeze(0).to(device)  # Ajouter une dimension pour le batch\n",
        "\n",
        "    # Passer la phrase dans le modèle pour obtenir les scores de tags\n",
        "    with torch.no_grad():  # Pas de rétropropagation, on est en mode évaluation\n",
        "        tag_scores = model(sentence_in)\n",
        "\n",
        "    # Convertir les scores en prédictions de tags (index des scores les plus élevés)\n",
        "    _, predicted_tags = torch.max(tag_scores, dim=2)  # Dim 2 car c'est une séquence\n",
        "\n",
        "    # Convertir les indices de prédictions en tags réels\n",
        "    predicted_tags = predicted_tags.squeeze().cpu().numpy()  # Convertir à numpy pour faciliter l'accès\n",
        "    predicted_tags = [list(tag_to_ix.keys())[list(tag_to_ix.values()).index(tag)] for tag in predicted_tags]\n",
        "\n",
        "    return predicted_tags\n",
        "\n",
        "# Exemple d'une phrase de votre jeu d'entraînement (remplacez par une phrase spécifique)\n",
        "sentence = X_train[0]  # Utilisez la première phrase du jeu d'entraînement\n",
        "\n",
        "# Obtenir les prédictions pour cette phrase\n",
        "predicted_tags = test_sentence(sentence, model, word_to_ix, tag_to_ix, device)\n",
        "\n",
        "# Afficher la phrase et les tags prédits\n",
        "print(\"Sentence:\")\n",
        "print(sentence)\n",
        "print(\"\\nPredicted Tags:\")\n",
        "print(predicted_tags)\n"
      ],
      "metadata": {
        "id": "taDaBxnf3ZhS",
        "colab": {
          "base_uri": "https://localhost:8080/"
        },
        "outputId": "c4803e52-9133-41a7-fc06-3826682a5b26"
      },
      "execution_count": 62,
      "outputs": [
        {
          "output_type": "stream",
          "name": "stdout",
          "text": [
            "Sentence:\n",
            "['courts', 'ferrugineux', 'réticulées', 'calice', 'feuilles', 'nervures', 'corolle', 'écorce', 'rameaux', 'nervilles', 'décurrente', 'fructifère', 'corolle', 'calice', 'arbuste', 'coriaces', 'oblancéolé', 'pubérulents', 'feuilles', 'glabre', 'réfléchis', 'voyants', 'court', 'feuilles', 'petit', 'rameaux', 'marge', 'fructifère', 'feuilles', 'poils', 'corolle', 'limbe', 'fleurs', 'calice', 'bouton', 'persistants', 'poils', 'cunéiforme', 'cupuliforme', 'visibles', 'arbre', 'base', 'fruit', 'feuilles', 'tube', 'fructifère', 'rameaux', 'pétiole', 'émarginé', 'nervures', 'bords', 'calice', 'pédicelles', 'fleurs', 'feuilles', 'calice', 'jaune', 'fructifère', 'calice', 'petit', 'grossiers', 'révolutée', 'lobes', 'lobes', 'fruit', 'fascicules', 'ellipsoïde', 'large', 'ondulée', 'axillaires', 'lobé', 'aisselle', 'fruit', 'lobé', 'obtus', 'fruit']\n",
            "\n",
            "Predicted Tags:\n",
            "['DESCRIPTEUR', 'COULEUR', 'DESCRIPTEUR', 'ORGANE', 'ORGANE', 'ORGANE', 'ORGANE', 'ORGANE', 'ORGANE', 'ORGANE', 'DISPOSITION', 'DESCRIPTEUR', 'ORGANE', 'ORGANE', 'ORGANE', 'DESCRIPTEUR', 'FORME', 'DESCRIPTEUR', 'ORGANE', 'DESCRIPTEUR', 'DISPOSITION', 'DESCRIPTEUR', 'DESCRIPTEUR', 'ORGANE', 'DESCRIPTEUR', 'ORGANE', 'ORGANE', 'DESCRIPTEUR', 'ORGANE', 'ORGANE', 'ORGANE', 'ORGANE', 'ORGANE', 'ORGANE', 'ORGANE', 'DESCRIPTEUR', 'ORGANE', 'FORME', 'FORME', 'DESCRIPTEUR', 'ORGANE', 'ORGANE', 'ORGANE', 'ORGANE', 'ORGANE', 'DESCRIPTEUR', 'ORGANE', 'ORGANE', 'FORME', 'ORGANE', 'ORGANE', 'ORGANE', 'ORGANE', 'ORGANE', 'ORGANE', 'ORGANE', 'COULEUR', 'DESCRIPTEUR', 'ORGANE', 'DESCRIPTEUR', 'DESCRIPTEUR', 'DESCRIPTEUR', 'ORGANE', 'ORGANE', 'ORGANE', 'ORGANE', 'ORGANE', 'DESCRIPTEUR', 'STRUCTURE', 'POSITION', 'STRUCTURE', 'ORGANE', 'ORGANE', 'STRUCTURE', 'FORME', 'ORGANE']\n"
          ]
        }
      ]
    },
    {
      "cell_type": "code",
      "source": [],
      "metadata": {
        "id": "m9Ra7okIHlOu"
      },
      "execution_count": 38,
      "outputs": []
    },
    {
      "cell_type": "code",
      "source": [
        "\n"
      ],
      "metadata": {
        "id": "pMZ0ZKlGHvUP"
      },
      "execution_count": 38,
      "outputs": []
    },
    {
      "cell_type": "code",
      "source": [],
      "metadata": {
        "id": "2YvZWXTLIXYP"
      },
      "execution_count": 38,
      "outputs": []
    }
  ],
  "metadata": {
    "colab": {
      "provenance": [],
      "gpuType": "T4"
    },
    "kernelspec": {
      "display_name": "Python 3",
      "name": "python3"
    },
    "language_info": {
      "name": "python"
    },
    "accelerator": "GPU"
  },
  "nbformat": 4,
  "nbformat_minor": 0
}